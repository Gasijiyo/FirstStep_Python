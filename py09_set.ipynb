{
  "nbformat": 4,
  "nbformat_minor": 0,
  "metadata": {
    "colab": {
      "name": "py09_set.ipynb",
      "provenance": [],
      "collapsed_sections": [],
      "authorship_tag": "ABX9TyOVtgD3a93LHenWNGdV9UgJ",
      "include_colab_link": true
    },
    "kernelspec": {
      "name": "python3",
      "display_name": "Python 3"
    },
    "language_info": {
      "name": "python"
    }
  },
  "cells": [
    {
      "cell_type": "markdown",
      "metadata": {
        "id": "view-in-github",
        "colab_type": "text"
      },
      "source": [
        "<a href=\"https://colab.research.google.com/github/Gasijiyo/FirstStep_Python/blob/master/py09_set.ipynb\" target=\"_parent\"><img src=\"https://colab.research.google.com/assets/colab-badge.svg\" alt=\"Open In Colab\"/></a>"
      ]
    },
    {
      "cell_type": "markdown",
      "source": [
        "# 집합(set)\n",
        "\n",
        "* 중복된 데이터의 저장을 허용하지 않음.\n",
        "* 데이터가 저장되는 순서가 중요하지 않음. (인덱스를 사용하지 않음)"
      ],
      "metadata": {
        "id": "FL_mGlELHJPs"
      }
    },
    {
      "cell_type": "code",
      "execution_count": null,
      "metadata": {
        "colab": {
          "base_uri": "https://localhost:8080/"
        },
        "id": "OUk6RPEyGkCq",
        "outputId": "e5c4a8bd-9656-4c8c-adf7-a26deb875eb2"
      },
      "outputs": [
        {
          "output_type": "execute_result",
          "data": {
            "text/plain": [
              "{1, 2, 3}"
            ]
          },
          "metadata": {},
          "execution_count": 1
        }
      ],
      "source": [
        "s1 = {1,2,2,3,3,3}\n",
        "s1"
      ]
    },
    {
      "cell_type": "code",
      "source": [
        "type(s1)"
      ],
      "metadata": {
        "colab": {
          "base_uri": "https://localhost:8080/"
        },
        "id": "_h87WNBuH1l2",
        "outputId": "a7a2e372-4289-41b7-cac6-0b6006f36788"
      },
      "execution_count": null,
      "outputs": [
        {
          "output_type": "execute_result",
          "data": {
            "text/plain": [
              "set"
            ]
          },
          "metadata": {},
          "execution_count": 2
        }
      ]
    },
    {
      "cell_type": "code",
      "source": [
        "s2 = {3,1,2}\n",
        "s2"
      ],
      "metadata": {
        "colab": {
          "base_uri": "https://localhost:8080/"
        },
        "id": "pftJrxwUH2kb",
        "outputId": "f5776340-2aad-432e-e991-7db689106970"
      },
      "execution_count": null,
      "outputs": [
        {
          "output_type": "execute_result",
          "data": {
            "text/plain": [
              "{1, 2, 3}"
            ]
          },
          "metadata": {},
          "execution_count": 4
        }
      ]
    },
    {
      "cell_type": "code",
      "source": [
        "# s1[0] # set 객체는 인덱스를 사용할 수 없음!!\n",
        "for x in s2:\n",
        "    print(x)"
      ],
      "metadata": {
        "colab": {
          "base_uri": "https://localhost:8080/"
        },
        "id": "RS6FTv1BH4EG",
        "outputId": "d376b335-a148-4335-8aa0-9177f3ea6b74"
      },
      "execution_count": null,
      "outputs": [
        {
          "output_type": "stream",
          "name": "stdout",
          "text": [
            "1\n",
            "2\n",
            "3\n"
          ]
        }
      ]
    },
    {
      "cell_type": "markdown",
      "source": [
        "# set의 기능(메소드)"
      ],
      "metadata": {
        "id": "5vfEje6WJ01X"
      }
    },
    {
      "cell_type": "code",
      "source": [
        "s1 = {1,2,3,4}\n",
        "s2 = {3,4,5}"
      ],
      "metadata": {
        "id": "fXD8GJVKIUyU"
      },
      "execution_count": null,
      "outputs": []
    },
    {
      "cell_type": "code",
      "source": [
        "# 합집합 (union)\n",
        "s1.union(s2)"
      ],
      "metadata": {
        "colab": {
          "base_uri": "https://localhost:8080/"
        },
        "id": "1pEKTcVDJ6te",
        "outputId": "a4c38f4f-caa7-4276-d595-e7e054be40ee"
      },
      "execution_count": null,
      "outputs": [
        {
          "output_type": "execute_result",
          "data": {
            "text/plain": [
              "{1, 2, 3, 4, 5}"
            ]
          },
          "metadata": {},
          "execution_count": 8
        }
      ]
    },
    {
      "cell_type": "code",
      "source": [
        "s1 | s2 # > |:합집합 연산자"
      ],
      "metadata": {
        "colab": {
          "base_uri": "https://localhost:8080/"
        },
        "id": "RkD-dtXgJ9fU",
        "outputId": "b1354065-1749-4d41-f8d7-405381c30af8"
      },
      "execution_count": null,
      "outputs": [
        {
          "output_type": "execute_result",
          "data": {
            "text/plain": [
              "{1, 2, 3, 4, 5}"
            ]
          },
          "metadata": {},
          "execution_count": 9
        }
      ]
    },
    {
      "cell_type": "code",
      "source": [
        "# 교집합 (intersection)\n",
        "s1.intersection(s2)"
      ],
      "metadata": {
        "colab": {
          "base_uri": "https://localhost:8080/"
        },
        "id": "s_dByUo0KEix",
        "outputId": "0086baa3-d866-4469-a956-d7e16df19e8e"
      },
      "execution_count": null,
      "outputs": [
        {
          "output_type": "execute_result",
          "data": {
            "text/plain": [
              "{3, 4}"
            ]
          },
          "metadata": {},
          "execution_count": 10
        }
      ]
    },
    {
      "cell_type": "code",
      "source": [
        "s1 & s2 # > &: 교집합 연산자"
      ],
      "metadata": {
        "colab": {
          "base_uri": "https://localhost:8080/"
        },
        "id": "CqjzrMVPKJrV",
        "outputId": "94332588-2192-482a-c54f-4f0321e5234c"
      },
      "execution_count": null,
      "outputs": [
        {
          "output_type": "execute_result",
          "data": {
            "text/plain": [
              "{3, 4}"
            ]
          },
          "metadata": {},
          "execution_count": 11
        }
      ]
    },
    {
      "cell_type": "code",
      "source": [
        "# 차집합(difference)\n",
        "s1.difference(s2)"
      ],
      "metadata": {
        "colab": {
          "base_uri": "https://localhost:8080/"
        },
        "id": "04qVVn_XKK1u",
        "outputId": "fbd8d28d-05aa-4124-9e24-e0febb895257"
      },
      "execution_count": null,
      "outputs": [
        {
          "output_type": "execute_result",
          "data": {
            "text/plain": [
              "{1, 2}"
            ]
          },
          "metadata": {},
          "execution_count": 12
        }
      ]
    },
    {
      "cell_type": "code",
      "source": [
        "s1 - s2 #> -: 차집합"
      ],
      "metadata": {
        "colab": {
          "base_uri": "https://localhost:8080/"
        },
        "id": "Zz2r20mxKS9W",
        "outputId": "9e40dc84-901f-473c-e622-c0846ba0c6b9"
      },
      "execution_count": null,
      "outputs": [
        {
          "output_type": "execute_result",
          "data": {
            "text/plain": [
              "{1, 2}"
            ]
          },
          "metadata": {},
          "execution_count": 13
        }
      ]
    },
    {
      "cell_type": "markdown",
      "source": [
        "```\n",
        "s1 | s2  =  s2 | s1\n",
        "s1 & s2  =  s2 & s1\n",
        "s1 - s2  !=  s2 - s1\n",
        "```\n",
        "\n",
        "\n",
        "\n"
      ],
      "metadata": {
        "id": "RFctxqYuK5xO"
      }
    },
    {
      "cell_type": "code",
      "source": [
        "# set(arg): set 객체를 생성해서 리턴.\n",
        "numbers = [1,2,3,1,2,1,2,3,4]   #> 9개의 아이템을 갖는 리스트\n",
        "\n",
        "#numbers 에서 중복되지 않는 값들\n",
        "number_set = set(numbers)\n",
        "print(number_set)\n",
        "\n",
        "#numbers에서 중복되지 않는 값들의 개수\n",
        "print(len(number_set))"
      ],
      "metadata": {
        "colab": {
          "base_uri": "https://localhost:8080/"
        },
        "id": "mcPY5B9GK2FE",
        "outputId": "cf6b0caf-da60-40a1-839e-983280c877dc"
      },
      "execution_count": null,
      "outputs": [
        {
          "output_type": "stream",
          "name": "stdout",
          "text": [
            "{1, 2, 3, 4}\n",
            "4\n"
          ]
        }
      ]
    },
    {
      "cell_type": "code",
      "source": [
        "print(s1)\n",
        "\n",
        "# set에 원소 추가. 이미 존재하는 원소이면 중복 저장 불가 \n",
        "s1.add(100)\n",
        "print(s1)\n",
        "\n",
        "s1.add(1)\n",
        "print(s1)"
      ],
      "metadata": {
        "colab": {
          "base_uri": "https://localhost:8080/"
        },
        "id": "xd0DsjTEMJew",
        "outputId": "34ea63b1-8486-46bc-e968-f94219811b7f"
      },
      "execution_count": null,
      "outputs": [
        {
          "output_type": "stream",
          "name": "stdout",
          "text": [
            "{1, 2, 3, 4}\n",
            "{1, 2, 3, 100, 4}\n",
            "{1, 2, 3, 100, 4}\n"
          ]
        }
      ]
    },
    {
      "cell_type": "code",
      "source": [
        "s1.remove(100)\n",
        "print(s1)"
      ],
      "metadata": {
        "colab": {
          "base_uri": "https://localhost:8080/"
        },
        "id": "UFk3nDIvNZJh",
        "outputId": "5bebe3e2-8a54-4511-ab65-dd800e1893cb"
      },
      "execution_count": null,
      "outputs": [
        {
          "output_type": "stream",
          "name": "stdout",
          "text": [
            "{1, 2, 3, 4}\n"
          ]
        }
      ]
    },
    {
      "cell_type": "code",
      "source": [
        ""
      ],
      "metadata": {
        "id": "VVUfcoSPNiMG"
      },
      "execution_count": null,
      "outputs": []
    }
  ]
}