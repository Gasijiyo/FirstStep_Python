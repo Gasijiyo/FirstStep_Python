{
  "nbformat": 4,
  "nbformat_minor": 0,
  "metadata": {
    "colab": {
      "name": "py12_oop.ipynb",
      "provenance": [],
      "collapsed_sections": [],
      "authorship_tag": "ABX9TyO5bsq2t9BePdjaDcdwQnX9",
      "include_colab_link": true
    },
    "kernelspec": {
      "name": "python3",
      "display_name": "Python 3"
    },
    "language_info": {
      "name": "python"
    }
  },
  "cells": [
    {
      "cell_type": "markdown",
      "metadata": {
        "id": "view-in-github",
        "colab_type": "text"
      },
      "source": [
        "<a href=\"https://colab.research.google.com/github/Gasijiyo/FirstStep_Python/blob/master/py12_oop.ipynb\" target=\"_parent\"><img src=\"https://colab.research.google.com/assets/colab-badge.svg\" alt=\"Open In Colab\"/></a>"
      ]
    },
    {
      "cell_type": "markdown",
      "source": [
        "# OOP (Object-Oriented Programming, 객체 지향 프로그래밍)의 배경"
      ],
      "metadata": {
        "id": "1-OefcWUfTqr"
      }
    },
    {
      "cell_type": "markdown",
      "source": [
        "## list, dict 사용"
      ],
      "metadata": {
        "id": "VYkSQ1s2f4bp"
      }
    },
    {
      "cell_type": "code",
      "execution_count": 1,
      "metadata": {
        "id": "S0VE8FlQfJud"
      },
      "outputs": [],
      "source": [
        "students = [\n",
        "            {'name': 'aa', 'korean': 90, 'english': 95, 'math': 80},\n",
        "            {'name': 'bb', 'korean': 70, 'english': 80, 'math': 55},\n",
        "            {'name': 'cc', 'korean': 80, 'english': 95, 'math': 90},\n",
        "]"
      ]
    },
    {
      "cell_type": "code",
      "source": [
        "# 각 학생의 세 과목 총점과 평균\n",
        "for s in students:\n",
        "    total = s['korean'] + s['english'] + s['math']\n",
        "    mean = total / 3\n",
        "    print(f'이름: {s[\"name\"]}, 총점: {total}, 평균:{mean}')"
      ],
      "metadata": {
        "colab": {
          "base_uri": "https://localhost:8080/"
        },
        "id": "pBgk9NJThFVf",
        "outputId": "050bf10e-31e0-402f-bbf1-07b02d46bbd4"
      },
      "execution_count": 3,
      "outputs": [
        {
          "output_type": "stream",
          "name": "stdout",
          "text": [
            "이름: aa, 총점: 265, 평균:88.33333333333333\n",
            "이름: bb, 총점: 205, 평균:68.33333333333333\n",
            "이름: cc, 총점: 265, 평균:88.33333333333333\n"
          ]
        }
      ]
    },
    {
      "cell_type": "markdown",
      "source": [
        "## 함수형 프로그래밍 (Functional Programming)"
      ],
      "metadata": {
        "id": "lbRw4LIOjzFa"
      }
    },
    {
      "cell_type": "code",
      "source": [
        "def create_student(name, korean, english, math):\n",
        "    student = {\n",
        "        'name': name,\n",
        "        'korean': korean,\n",
        "        'english': english,\n",
        "        'math': math,\n",
        "    }\n",
        "    return student"
      ],
      "metadata": {
        "id": "fKgEGbWuhU3f"
      },
      "execution_count": 4,
      "outputs": []
    },
    {
      "cell_type": "code",
      "source": [
        "students = [\n",
        "    create_student('a', 100, 95, 100),            \n",
        "    create_student(name='b', korean = 90, english = 80, math = 100)\n",
        "]\n",
        "students"
      ],
      "metadata": {
        "colab": {
          "base_uri": "https://localhost:8080/"
        },
        "id": "OhL5TRy5kR2q",
        "outputId": "32181294-b5b7-4782-8283-0bd658f34c49"
      },
      "execution_count": 13,
      "outputs": [
        {
          "output_type": "execute_result",
          "data": {
            "text/plain": [
              "[{'english': 95, 'korean': 100, 'math': 100, 'name': 'a'},\n",
              " {'english': 80, 'korean': 90, 'math': 100, 'name': 'b'}]"
            ]
          },
          "metadata": {},
          "execution_count": 13
        }
      ]
    },
    {
      "cell_type": "code",
      "source": [
        "def get_total(student):\n",
        "    return student['korean'] + student['english'] + student['math']"
      ],
      "metadata": {
        "id": "m4571DW-kYts"
      },
      "execution_count": 10,
      "outputs": []
    },
    {
      "cell_type": "code",
      "source": [
        "def get_mean(student):\n",
        "    return get_total(student) / 3"
      ],
      "metadata": {
        "id": "3VmAhUuclrNU"
      },
      "execution_count": 11,
      "outputs": []
    },
    {
      "cell_type": "code",
      "source": [
        "for s in students:\n",
        "    total = get_total(s)\n",
        "    mean = get_mean(s)\n",
        "    print(f'이름: {s[\"name\"]}, 총점: {total}, 평균: {mean}')"
      ],
      "metadata": {
        "colab": {
          "base_uri": "https://localhost:8080/"
        },
        "id": "7oGKUSwilwQq",
        "outputId": "0687cc47-4af3-4898-a06c-646415e77b34"
      },
      "execution_count": 14,
      "outputs": [
        {
          "output_type": "stream",
          "name": "stdout",
          "text": [
            "이름: a, 총점: 295, 평균: 98.33333333333333\n",
            "이름: b, 총점: 270, 평균: 90.0\n"
          ]
        }
      ]
    },
    {
      "cell_type": "markdown",
      "source": [
        "## 객체 지향 프로그래밍 (OOP) -> 데이터와 기능을 묶음\n",
        "\n",
        "* 객체 (object): 소프트웨어로 구현할 대상.\n",
        "* 클래스 (class): 객체를 구현하기 위한 소스 코드\n",
        "    * 속성 (attribute, property, 멤버변수): 객체가 갖는 데이터. 변수들에 저장되는 값.\n",
        "    * 메소드 (method): 객체가 가져야하는 기능. 클래스 내부에서 정의하는 함수.\n",
        "\n",
        "* 인스턴스 (instance): 클래스를 사용해서 메모리에 생성된 객체.\n",
        "* 인스턴스 생성 (instantiate): 클래스의 객체를 메로리에 생성하는 것.\n",
        "* 생성자 (constructor): 인스턴스를 생성하기 위해서 호출하는 함수. 클래스 이름과 동일한 함수."
      ],
      "metadata": {
        "id": "OuTQL1y9nTZ8"
      }
    },
    {
      "cell_type": "code",
      "source": [
        "# 클래스 정의 \n",
        "class Student:\n",
        "    # 생성자 함수: 생성자가 호출됐을 때 자동으로 호출되는 함수. 속성들을 선언하고 초기화.\n",
        "    def __init__(self, name, korean, english, math):\n",
        "        self.name = name\n",
        "        self.korean = korean\n",
        "        self.english = english\n",
        "        self.math = math\n",
        "\n",
        "    # 메소드\n",
        "    def get_total(self):\n",
        "        return self.korean + self.english + self.math\n",
        "    \n",
        "    def get_mean(self):\n",
        "        return self.get_total() / 3\n",
        "\n",
        "    def print_info(self):\n",
        "        print(f'이름: {self.name}, 총점: {self.get_total()}, 평균: {self.get_mean()}')"
      ],
      "metadata": {
        "id": "L6mU0gaJmFYB"
      },
      "execution_count": 24,
      "outputs": []
    },
    {
      "cell_type": "code",
      "source": [
        "stu1 = Student(name='홍길동', korean=100, english=80, math=70)"
      ],
      "metadata": {
        "id": "ZZobz-a8v1xA"
      },
      "execution_count": 25,
      "outputs": []
    },
    {
      "cell_type": "code",
      "source": [
        "stu1"
      ],
      "metadata": {
        "colab": {
          "base_uri": "https://localhost:8080/"
        },
        "id": "xLgal3dwwRNA",
        "outputId": "62e51f32-ef50-4b03-9d5d-e1094b22b6cf"
      },
      "execution_count": 26,
      "outputs": [
        {
          "output_type": "execute_result",
          "data": {
            "text/plain": [
              "<__main__.Student at 0x7fa1750f4b50>"
            ]
          },
          "metadata": {},
          "execution_count": 26
        }
      ]
    },
    {
      "cell_type": "code",
      "source": [
        "stu1.get_total()"
      ],
      "metadata": {
        "colab": {
          "base_uri": "https://localhost:8080/"
        },
        "id": "WS-lnnfTwRu8",
        "outputId": "1f67b3bd-4d0c-4329-a140-e627297e4656"
      },
      "execution_count": 27,
      "outputs": [
        {
          "output_type": "execute_result",
          "data": {
            "text/plain": [
              "250"
            ]
          },
          "metadata": {},
          "execution_count": 27
        }
      ]
    },
    {
      "cell_type": "code",
      "source": [
        "stu1.get_mean()"
      ],
      "metadata": {
        "colab": {
          "base_uri": "https://localhost:8080/"
        },
        "id": "Ui_EoBgPxd-2",
        "outputId": "b6c05a8d-07ed-4c5d-9f84-8070468a0c07"
      },
      "execution_count": 28,
      "outputs": [
        {
          "output_type": "execute_result",
          "data": {
            "text/plain": [
              "83.33333333333333"
            ]
          },
          "metadata": {},
          "execution_count": 28
        }
      ]
    },
    {
      "cell_type": "code",
      "source": [
        "stu1.print_info()"
      ],
      "metadata": {
        "colab": {
          "base_uri": "https://localhost:8080/"
        },
        "id": "haldNPCKxhyS",
        "outputId": "c029fe15-5d3a-4702-86cd-99a9b6b0f5d2"
      },
      "execution_count": 29,
      "outputs": [
        {
          "output_type": "stream",
          "name": "stdout",
          "text": [
            "이름: 홍길동, 총점: 250, 평균: 83.33333333333333\n"
          ]
        }
      ]
    },
    {
      "cell_type": "code",
      "source": [
        "dir(stu1)   # 객체가 가지고 있는 멤버들(속성과 메소드)의 리스트"
      ],
      "metadata": {
        "colab": {
          "base_uri": "https://localhost:8080/"
        },
        "id": "cERepRR5xkqd",
        "outputId": "84b62d93-9e8f-48af-c63c-5c547a97f6de"
      },
      "execution_count": 21,
      "outputs": [
        {
          "output_type": "execute_result",
          "data": {
            "text/plain": [
              "['__class__',\n",
              " '__delattr__',\n",
              " '__dict__',\n",
              " '__dir__',\n",
              " '__doc__',\n",
              " '__eq__',\n",
              " '__format__',\n",
              " '__ge__',\n",
              " '__getattribute__',\n",
              " '__gt__',\n",
              " '__hash__',\n",
              " '__init__',\n",
              " '__init_subclass__',\n",
              " '__le__',\n",
              " '__lt__',\n",
              " '__module__',\n",
              " '__ne__',\n",
              " '__new__',\n",
              " '__reduce__',\n",
              " '__reduce_ex__',\n",
              " '__repr__',\n",
              " '__setattr__',\n",
              " '__sizeof__',\n",
              " '__str__',\n",
              " '__subclasshook__',\n",
              " '__weakref__',\n",
              " 'english',\n",
              " 'get_mean',\n",
              " 'get_total',\n",
              " 'korean',\n",
              " 'math',\n",
              " 'name',\n",
              " 'print_info']"
            ]
          },
          "metadata": {},
          "execution_count": 21
        }
      ]
    },
    {
      "cell_type": "markdown",
      "source": [
        "# Class 작성 연습"
      ],
      "metadata": {
        "id": "64_Xp1f1Jj0w"
      }
    },
    {
      "cell_type": "code",
      "source": [
        "import math # 수학 관련 함수들 사용위해"
      ],
      "metadata": {
        "id": "CYPXvsE1I0fu"
      },
      "execution_count": 23,
      "outputs": []
    },
    {
      "cell_type": "code",
      "source": [
        "class Point:\n",
        "    \"\"\"2차원 평면의 점의 좌표를 표현하는 클래스\"\"\"\n",
        "    def __init__(self, x=0, y=0):\n",
        "        # 들여쓰기 할 문장 하나라도 있어야한다.\n",
        "        # self는 메소드를 호출한 객체\n",
        "        self.x = x\n",
        "        self.y = y\n",
        "        \n",
        "\n",
        "    def move(self, dx=0, dy=0):\n",
        "        \"\"\"좌표를 원래 위치에서 dx, dy만큼 이동\"\"\"\n",
        "        #x = self.x + dx\n",
        "        #y = self.y + dy\n",
        "        self.x += dx \n",
        "        self.y += dy        \n",
        "\n",
        "    def distance(self, other):\n",
        "        \"\"\"현재 위치와 다른 Point other 사이의 거리를 리턴\"\"\"        \n",
        "        return math.sqrt((self.x - other.x)**2 + (self.y - other.y)**2)\n",
        "        \n",
        "    "
      ],
      "metadata": {
        "id": "tgP3zLSFJqH2"
      },
      "execution_count": 64,
      "outputs": []
    },
    {
      "cell_type": "code",
      "source": [
        "p1 = Point() #생성자 호출 -> Point 클래스의 인스턴스 생성"
      ],
      "metadata": {
        "id": "x9uZUD6fLvZi"
      },
      "execution_count": 102,
      "outputs": []
    },
    {
      "cell_type": "code",
      "source": [
        "print(p1)"
      ],
      "metadata": {
        "colab": {
          "base_uri": "https://localhost:8080/"
        },
        "id": "Ui4-4A4ML1OH",
        "outputId": "2bf758e6-e415-4a78-d206-1f6c75a5328d"
      },
      "execution_count": 71,
      "outputs": [
        {
          "output_type": "stream",
          "name": "stdout",
          "text": [
            "<__main__.Point object at 0x7fa16d5daad0>\n"
          ]
        }
      ]
    },
    {
      "cell_type": "code",
      "source": [
        "print(p1.x)\n",
        "print(p1.y)"
      ],
      "metadata": {
        "colab": {
          "base_uri": "https://localhost:8080/"
        },
        "id": "LC6F2VdFL2m6",
        "outputId": "763561f7-7727-40bc-ec34-5c10356bd947"
      },
      "execution_count": 73,
      "outputs": [
        {
          "output_type": "stream",
          "name": "stdout",
          "text": [
            "0\n",
            "0\n"
          ]
        }
      ]
    },
    {
      "cell_type": "code",
      "source": [
        "p2 = Point(x=-2, y=10)"
      ],
      "metadata": {
        "id": "5AJ_jiZZOsWP"
      },
      "execution_count": 81,
      "outputs": []
    },
    {
      "cell_type": "code",
      "source": [
        "print(p2.x)\n",
        "print(p2.y)"
      ],
      "metadata": {
        "colab": {
          "base_uri": "https://localhost:8080/"
        },
        "id": "2YgGfMcCOwz1",
        "outputId": "ff053ad6-2cfa-486d-efea-489850e8eb6c"
      },
      "execution_count": 83,
      "outputs": [
        {
          "output_type": "stream",
          "name": "stdout",
          "text": [
            "-2\n",
            "10\n"
          ]
        }
      ]
    },
    {
      "cell_type": "code",
      "source": [
        "p3 = Point(1)\n",
        "print(p3)\n",
        "print(p3.x, p3.y)"
      ],
      "metadata": {
        "colab": {
          "base_uri": "https://localhost:8080/"
        },
        "id": "0ZlhZA5yPz7r",
        "outputId": "beae7228-4152-405e-f0c3-cd97152953df"
      },
      "execution_count": 86,
      "outputs": [
        {
          "output_type": "stream",
          "name": "stdout",
          "text": [
            "<__main__.Point object at 0x7fa16d560350>\n",
            "1 0\n"
          ]
        }
      ]
    },
    {
      "cell_type": "code",
      "source": [
        "p4 = Point(y=1)\n",
        "print(p4)\n",
        "print(p4.x, p4.y)"
      ],
      "metadata": {
        "colab": {
          "base_uri": "https://localhost:8080/"
        },
        "id": "eSo9SjJzP5wr",
        "outputId": "da3778fb-f0d9-4b93-ff2f-4dd99b758f5e"
      },
      "execution_count": 87,
      "outputs": [
        {
          "output_type": "stream",
          "name": "stdout",
          "text": [
            "<__main__.Point object at 0x7fa16d5da310>\n",
            "0 1\n"
          ]
        }
      ]
    },
    {
      "cell_type": "code",
      "source": [
        "p1.move(3,4)\n",
        "# p1.move(dx=1)\n",
        "# p1.move(dy=1)\n",
        "# p1.move(1,1)"
      ],
      "metadata": {
        "id": "AhLLbM2wL_9_"
      },
      "execution_count": 96,
      "outputs": []
    },
    {
      "cell_type": "code",
      "source": [
        "print(p1.x)\n",
        "print(p1.y)"
      ],
      "metadata": {
        "colab": {
          "base_uri": "https://localhost:8080/"
        },
        "id": "FYuzD6h7MYaU",
        "outputId": "061e7e4b-2893-4859-8fe0-eb029ae1f55b"
      },
      "execution_count": 97,
      "outputs": [
        {
          "output_type": "stream",
          "name": "stdout",
          "text": [
            "3\n",
            "4\n"
          ]
        }
      ]
    },
    {
      "cell_type": "code",
      "source": [
        "p1.distance(p2)"
      ],
      "metadata": {
        "colab": {
          "base_uri": "https://localhost:8080/"
        },
        "id": "x2k0bDoCOXRo",
        "outputId": "5cfa3b63-12cc-4f63-85c0-5b71746ac5a0"
      },
      "execution_count": 103,
      "outputs": [
        {
          "output_type": "execute_result",
          "data": {
            "text/plain": [
              "10.198039027185569"
            ]
          },
          "metadata": {},
          "execution_count": 103
        }
      ]
    },
    {
      "cell_type": "code",
      "source": [
        "class Rectangle:\n",
        "    \"\"\"직사각형: 꼭지점의 x좌표, y좌표, 가로, 세로길이, \n",
        "    둘레, 넓이\"\"\"\n",
        "    def __init__(self,x=0,y=0,width=0,height=0):\n",
        "        self.x = x\n",
        "        self.y = y\n",
        "        self.width = width\n",
        "        self.height = height\n",
        "\n",
        "        # p1 = x,y\n",
        "        # p2 = x, y+height\n",
        "        # p3 = x+width, y+height\n",
        "        # p4 = x, y+height\n",
        "\n",
        "        # return p1, p2, p3,p4\n",
        "\n",
        "    def perimeter(self):\n",
        "        return (self.width + self.height)*2\n",
        "\n",
        "    def area(self):\n",
        "        return self.width * self.height"
      ],
      "metadata": {
        "id": "SI3jNr6bOgjh"
      },
      "execution_count": 140,
      "outputs": []
    },
    {
      "cell_type": "code",
      "source": [
        "rect1 = Rectangle(1,2,6,4)\n",
        "print(rect1)"
      ],
      "metadata": {
        "colab": {
          "base_uri": "https://localhost:8080/"
        },
        "id": "5bZDxPSqXN4B",
        "outputId": "425d6a70-bd91-4779-849a-c7253fc65002"
      },
      "execution_count": 141,
      "outputs": [
        {
          "output_type": "stream",
          "name": "stdout",
          "text": [
            "<__main__.Rectangle object at 0x7fa16d5c3d90>\n"
          ]
        }
      ]
    },
    {
      "cell_type": "code",
      "source": [
        "rect1.perimeter()"
      ],
      "metadata": {
        "colab": {
          "base_uri": "https://localhost:8080/"
        },
        "id": "7Zo_JYckXV7J",
        "outputId": "20dbcbd0-e561-46c2-c66a-aa9913701d0e"
      },
      "execution_count": 142,
      "outputs": [
        {
          "output_type": "execute_result",
          "data": {
            "text/plain": [
              "20"
            ]
          },
          "metadata": {},
          "execution_count": 142
        }
      ]
    },
    {
      "cell_type": "code",
      "source": [
        "rect1.area()"
      ],
      "metadata": {
        "colab": {
          "base_uri": "https://localhost:8080/"
        },
        "id": "mbIQIK9YXb4o",
        "outputId": "ed85bee6-29f9-4fbf-bcea-b9e9bb3071ab"
      },
      "execution_count": 143,
      "outputs": [
        {
          "output_type": "execute_result",
          "data": {
            "text/plain": [
              "24"
            ]
          },
          "metadata": {},
          "execution_count": 143
        }
      ]
    },
    {
      "cell_type": "code",
      "source": [
        "rect2 = Rectangle(1,1,4,3)\n",
        "rect2.perimeter()"
      ],
      "metadata": {
        "colab": {
          "base_uri": "https://localhost:8080/"
        },
        "id": "BDALOIT2XhRA",
        "outputId": "8f905ec8-dd8d-416f-f414-47e578579ae5"
      },
      "execution_count": 146,
      "outputs": [
        {
          "output_type": "execute_result",
          "data": {
            "text/plain": [
              "14"
            ]
          },
          "metadata": {},
          "execution_count": 146
        }
      ]
    },
    {
      "cell_type": "code",
      "source": [
        "rect2.area()"
      ],
      "metadata": {
        "colab": {
          "base_uri": "https://localhost:8080/"
        },
        "id": "nvv8TLbobT2O",
        "outputId": "44d5950b-6fa1-4973-baf8-90eb44e5a7cf"
      },
      "execution_count": 147,
      "outputs": [
        {
          "output_type": "execute_result",
          "data": {
            "text/plain": [
              "12"
            ]
          },
          "metadata": {},
          "execution_count": 147
        }
      ]
    },
    {
      "cell_type": "markdown",
      "source": [
        "# magic method \n",
        "\n",
        "모든 클래스가 같은 이름으로 가지고 있는 메소드. 특별한 경우에 자동으로 호출되는 메소드.\n",
        "\n",
        "* `__init__(self)`: 생성자를 호출하면 자동으로 호출되는 메소드.\n",
        "* `__str__(self)`: `print()` 함수에서 자동으로 호출되는 메소드.\n",
        "* `__repr__(self)`: 식(expression)을 자동으로 출력할 때 호출되는 메소드.\n",
        "    * 클래스에서 `__str__`과 `__repr__` 메소드가 다르게 구현되어 있으면, print() 함수의 결과와 식을 출력하는 내용이 다름.\n",
        "    * `print` 함수는 `__str__` 메소드가 구현되어 있으면 `__str__`를 호출하고, 없으면 `__repr__` 함수를 호출. \n",
        "\n",
        "* `__eq__(self, o)`: `==` 연산자가 사용됐을 때 자동으로 호출되는 메소드. \n",
        "* `__add__(self, o)`: `+` 연산자가 사용됐을 때 자동으로 호출되는 메소드. \n",
        "* `__mul__(self, o)`: `*` 연산자가 사용됐을 때 자동으로 호출되는 메소드. "
      ],
      "metadata": {
        "id": "d6EG5zBRcLuF"
      }
    },
    {
      "cell_type": "code",
      "source": [
        "x=1\n",
        "x           # 식, 가장 마지막 줄일 때만 출력이 됨\n",
        "print()     # 문장\n",
        "\n",
        "print(x.__str__())\n",
        "x.__repr__()"
      ],
      "metadata": {
        "colab": {
          "base_uri": "https://localhost:8080/",
          "height": 72
        },
        "id": "kX99Cb7hbc7r",
        "outputId": "17f49bec-ab7b-4641-c874-d935ca7000cc"
      },
      "execution_count": 149,
      "outputs": [
        {
          "output_type": "stream",
          "name": "stdout",
          "text": [
            "\n",
            "1\n"
          ]
        },
        {
          "output_type": "execute_result",
          "data": {
            "application/vnd.google.colaboratory.intrinsic+json": {
              "type": "string"
            },
            "text/plain": [
              "'1'"
            ]
          },
          "metadata": {},
          "execution_count": 149
        }
      ]
    },
    {
      "cell_type": "code",
      "source": [
        "class Test:\n",
        "    def __init__(self):\n",
        "        print('Test 객체 생성됨')\n",
        "\n",
        "    def __str__(self):\n",
        "        return 'Test 클래스 객체'\n",
        "\n",
        "    def __repr__(self):\n",
        "        return 'Test 인스턴스'"
      ],
      "metadata": {
        "id": "HtGMkpQfefps"
      },
      "execution_count": 157,
      "outputs": []
    },
    {
      "cell_type": "code",
      "source": [
        "test = Test()   # Test 클래스의 인스턴스 생성"
      ],
      "metadata": {
        "colab": {
          "base_uri": "https://localhost:8080/"
        },
        "id": "cXwZOJfjfmMs",
        "outputId": "8da0e5ca-fb12-49a2-a456-82f49006adaa"
      },
      "execution_count": 158,
      "outputs": [
        {
          "output_type": "stream",
          "name": "stdout",
          "text": [
            "Test 객체 생성됨\n"
          ]
        }
      ]
    },
    {
      "cell_type": "code",
      "source": [
        "print(test) # 문장(statement): print 함수는 객체의 __str__() 메소드가 리턴하는 문자열을 출력\n",
        "test    # 식(expression): 식이 자동으로 출력될 때는 객체의 __repr__() 메소드가 리턴하는 문자열을 출력"
      ],
      "metadata": {
        "colab": {
          "base_uri": "https://localhost:8080/"
        },
        "id": "yOG0jAQwfrcb",
        "outputId": "20f2f6bc-d713-4fe4-d630-2302443a4030"
      },
      "execution_count": 159,
      "outputs": [
        {
          "output_type": "stream",
          "name": "stdout",
          "text": [
            "Test 클래스 객체\n"
          ]
        },
        {
          "output_type": "execute_result",
          "data": {
            "text/plain": [
              "Test 인스턴스"
            ]
          },
          "metadata": {},
          "execution_count": 159
        }
      ]
    },
    {
      "cell_type": "code",
      "source": [
        "numbers1 = [1,2,3]\n",
        "numbers2 = [1,2,3]\n",
        "numbers1 == numbers2    # ==연산자가 __eq__() 메소드 호출: numbers1.__eq__(numbers2)"
      ],
      "metadata": {
        "colab": {
          "base_uri": "https://localhost:8080/"
        },
        "id": "tAxiRW89f6p3",
        "outputId": "7e4602a2-6695-4d37-cb38-216752a9ccf8"
      },
      "execution_count": 164,
      "outputs": [
        {
          "output_type": "execute_result",
          "data": {
            "text/plain": [
              "True"
            ]
          },
          "metadata": {},
          "execution_count": 164
        }
      ]
    },
    {
      "cell_type": "code",
      "source": [
        "id(numbers1)    # 리스트 numbers1의 주소값"
      ],
      "metadata": {
        "colab": {
          "base_uri": "https://localhost:8080/"
        },
        "id": "grv_Gm9foR9n",
        "outputId": "969649b9-204c-478c-cf43-8013cb87ffd2"
      },
      "execution_count": 162,
      "outputs": [
        {
          "output_type": "execute_result",
          "data": {
            "text/plain": [
              "140331301116736"
            ]
          },
          "metadata": {},
          "execution_count": 162
        }
      ]
    },
    {
      "cell_type": "code",
      "source": [
        "id(numbers2)    # 리스트 numbers2의 주소값"
      ],
      "metadata": {
        "colab": {
          "base_uri": "https://localhost:8080/"
        },
        "id": "P2awYtsYoat9",
        "outputId": "0727d720-52cc-422e-a945-3ec4b0671281"
      },
      "execution_count": 163,
      "outputs": [
        {
          "output_type": "execute_result",
          "data": {
            "text/plain": [
              "140331301190944"
            ]
          },
          "metadata": {},
          "execution_count": 163
        }
      ]
    },
    {
      "cell_type": "code",
      "source": [
        "class Test2:\n",
        "    def __init__(self, x):\n",
        "        self.x = x\n",
        "    \n",
        "    def __eq__(self, other):\n",
        "        if isinstance (other, Test2):\n",
        "            if self.x == other.x:\n",
        "                return True\n",
        "        return False"
      ],
      "metadata": {
        "id": "X21kkELrobdQ"
      },
      "execution_count": 171,
      "outputs": []
    },
    {
      "cell_type": "code",
      "source": [
        "t1 = Test2(1)\n",
        "t2 = Test2(1)"
      ],
      "metadata": {
        "id": "cKba7tWopVJr"
      },
      "execution_count": 172,
      "outputs": []
    },
    {
      "cell_type": "code",
      "source": [
        "print(id(t1))\n",
        "print(id(t2))"
      ],
      "metadata": {
        "colab": {
          "base_uri": "https://localhost:8080/"
        },
        "id": "tPfdUKaspY0r",
        "outputId": "c56cb2ff-95e2-4ec5-f345-8d40faf23479"
      },
      "execution_count": 173,
      "outputs": [
        {
          "output_type": "stream",
          "name": "stdout",
          "text": [
            "140331301182032\n",
            "140331301179856\n"
          ]
        }
      ]
    },
    {
      "cell_type": "code",
      "source": [
        "t1 == t2"
      ],
      "metadata": {
        "colab": {
          "base_uri": "https://localhost:8080/"
        },
        "id": "BNVPNLdrpk75",
        "outputId": "85445811-2bb1-49aa-e2f3-14b7479ef1e3"
      },
      "execution_count": 174,
      "outputs": [
        {
          "output_type": "execute_result",
          "data": {
            "text/plain": [
              "True"
            ]
          },
          "metadata": {},
          "execution_count": 174
        }
      ]
    },
    {
      "cell_type": "code",
      "source": [
        "s1 = ''\n",
        "s2 = ''\n",
        "s1 == s2"
      ],
      "metadata": {
        "colab": {
          "base_uri": "https://localhost:8080/"
        },
        "id": "QaVFIXS1prik",
        "outputId": "9b7d6e82-7cee-4352-d2cc-c6becc0c4af1"
      },
      "execution_count": 175,
      "outputs": [
        {
          "output_type": "execute_result",
          "data": {
            "text/plain": [
              "True"
            ]
          },
          "metadata": {},
          "execution_count": 175
        }
      ]
    },
    {
      "cell_type": "code",
      "source": [
        "numbers1 = [1,2]\n",
        "numbers2 = [3,4]\n",
        "numbers1 + numbers2 # numbrs1.__add__(numbers2)"
      ],
      "metadata": {
        "colab": {
          "base_uri": "https://localhost:8080/"
        },
        "id": "wBtkvuvaq_me",
        "outputId": "8f93c4b1-4507-4ab1-9a9d-b0724ed54b95"
      },
      "execution_count": 176,
      "outputs": [
        {
          "output_type": "execute_result",
          "data": {
            "text/plain": [
              "[1, 2, 3, 4]"
            ]
          },
          "metadata": {},
          "execution_count": 176
        }
      ]
    },
    {
      "cell_type": "code",
      "source": [
        "numbers1 * 3    # numbers1.__mul__(3)"
      ],
      "metadata": {
        "colab": {
          "base_uri": "https://localhost:8080/"
        },
        "id": "ypBBxbg7ryjJ",
        "outputId": "078cdac8-9180-4b7e-b114-83659707cfc5"
      },
      "execution_count": 177,
      "outputs": [
        {
          "output_type": "execute_result",
          "data": {
            "text/plain": [
              "[1, 2, 1, 2, 1, 2]"
            ]
          },
          "metadata": {},
          "execution_count": 177
        }
      ]
    },
    {
      "cell_type": "markdown",
      "source": [
        "# class 작성 연습"
      ],
      "metadata": {
        "id": "HFujMeyNs82O"
      }
    },
    {
      "cell_type": "markdown",
      "source": [
        "## Ex 1. Score 클래스\n",
        "\n",
        "* 속성(attribute):\n",
        "    * 국어, 영어, 수학 점수\n",
        "    * 모든 과목의 기본값은 0\n",
        "* 기능(method):\n",
        "    * `__repr__`: Score{국어=100, 영어=100, 수학=100} 문자열 포맷을 리턴\n",
        "    * `calc_sum`: 세 과목 총점 리턴\n",
        "    * `calc_mean`: 세 과목 평균 리턴\n"
      ],
      "metadata": {
        "id": "RNYf7bx4tA9F"
      }
    },
    {
      "cell_type": "markdown",
      "source": [
        "# Ex 2. Student 클래스\n",
        "* 속성(attribute):\n",
        "    * 이름, Score객체\n",
        "* 기능(method):\n",
        "    * `__repr__`: Student{이름: xxx, 점수: Score{국어=100, 영어=100, 수학=100}} 문자열 포맷 리턴"
      ],
      "metadata": {
        "id": "rkoj_iaZtwd9"
      }
    },
    {
      "cell_type": "code",
      "source": [
        "class Score:\n",
        "    def __init__(self, kor=0, eng=0, mat=0):\n",
        "        self.kor = kor\n",
        "        self.eng = eng\n",
        "        self.mat = mat\n",
        "    \n",
        "    def __repr__(self):\n",
        "        return f'Score{{국어={self.kor}, 영어={self.eng}, 수학={self.mat}}}'\n",
        "    \n",
        "    def calc_sum(self):\n",
        "        return self.kor + self.eng + self.mat\n",
        "\n",
        "    def calc_mean(self):\n",
        "        return (self.kor + self.eng + self.mat) / 3"
      ],
      "metadata": {
        "id": "Ogbs99aVsLJ6"
      },
      "execution_count": 184,
      "outputs": []
    },
    {
      "cell_type": "code",
      "source": [
        "s1 = Score(90,80,100)"
      ],
      "metadata": {
        "id": "XOc7TNyKuXdF"
      },
      "execution_count": 186,
      "outputs": []
    },
    {
      "cell_type": "code",
      "source": [
        "print(s1)"
      ],
      "metadata": {
        "colab": {
          "base_uri": "https://localhost:8080/"
        },
        "id": "RQMwRU7Oyy86",
        "outputId": "b49e64b1-2411-4d97-e8c8-2f873420c328"
      },
      "execution_count": 189,
      "outputs": [
        {
          "output_type": "stream",
          "name": "stdout",
          "text": [
            "Score{국어=90, 영어=80, 수학=100}\n"
          ]
        }
      ]
    },
    {
      "cell_type": "code",
      "source": [
        "s1.calc_sum()"
      ],
      "metadata": {
        "colab": {
          "base_uri": "https://localhost:8080/"
        },
        "id": "nNmTJV1Hy1T7",
        "outputId": "96266562-c5da-4653-91a7-ff051779d28c"
      },
      "execution_count": 187,
      "outputs": [
        {
          "output_type": "execute_result",
          "data": {
            "text/plain": [
              "270"
            ]
          },
          "metadata": {},
          "execution_count": 187
        }
      ]
    },
    {
      "cell_type": "code",
      "source": [
        "s1.calc_mean()"
      ],
      "metadata": {
        "colab": {
          "base_uri": "https://localhost:8080/"
        },
        "id": "SnAgOT1azpcP",
        "outputId": "9503938e-dc45-4bb5-8b1e-66204fecb809"
      },
      "execution_count": 188,
      "outputs": [
        {
          "output_type": "execute_result",
          "data": {
            "text/plain": [
              "90.0"
            ]
          },
          "metadata": {},
          "execution_count": 188
        }
      ]
    },
    {
      "cell_type": "code",
      "source": [
        "class Student:\n",
        "    # def __init__(self, name, score):\n",
        "    #     self.name = name\n",
        "    #     self.score = score\n",
        "    def __init__(self, name, kor=0, eng=0, mat=0):\n",
        "        self.name=name\n",
        "        self.score = Score(kor, eng,mat)\n",
        "\n",
        "    def __repr__(self):\n",
        "        return f'Student{{이름: {self.name}, 점수: {self.score}}}'"
      ],
      "metadata": {
        "id": "6oRyfaTzzt6y"
      },
      "execution_count": 191,
      "outputs": []
    },
    {
      "cell_type": "code",
      "source": [
        "stu1 = Student('홍길동')"
      ],
      "metadata": {
        "id": "3V6aUq6m2EPa"
      },
      "execution_count": 192,
      "outputs": []
    },
    {
      "cell_type": "code",
      "source": [
        "print(stu1)"
      ],
      "metadata": {
        "colab": {
          "base_uri": "https://localhost:8080/"
        },
        "id": "CnWY3VFJ2Klk",
        "outputId": "7279e7d9-a93a-42df-ab67-ffa9e10a28e6"
      },
      "execution_count": 193,
      "outputs": [
        {
          "output_type": "stream",
          "name": "stdout",
          "text": [
            "Student{이름: 홍길동, 점수: Score{국어=0, 영어=0, 수학=0}}\n"
          ]
        }
      ]
    },
    {
      "cell_type": "code",
      "source": [
        "stu2 = Student('김길동', kor=100, eng=90, mat=50)\n",
        "stu2"
      ],
      "metadata": {
        "colab": {
          "base_uri": "https://localhost:8080/"
        },
        "id": "HSx7Niog2Lm5",
        "outputId": "9bd82c04-4ce5-41e6-f563-469c91e7cb05"
      },
      "execution_count": 195,
      "outputs": [
        {
          "output_type": "execute_result",
          "data": {
            "text/plain": [
              "Student{이름: 김길동, 점수: Score{국어=100, 영어=90, 수학=50}}"
            ]
          },
          "metadata": {},
          "execution_count": 195
        }
      ]
    },
    {
      "cell_type": "code",
      "source": [
        "# stu2 객체의 점수 합계와 평균\n",
        "print('총점 = ', stu2.score.calc_sum())\n",
        "print('평균 = ', stu2.score.calc_mean())"
      ],
      "metadata": {
        "colab": {
          "base_uri": "https://localhost:8080/"
        },
        "id": "nfMR3UV_2mJW",
        "outputId": "62145ca8-6210-40fd-d8e6-3cfc0b8b51dc"
      },
      "execution_count": 198,
      "outputs": [
        {
          "output_type": "stream",
          "name": "stdout",
          "text": [
            "총점 =  240\n",
            "평균 =  80.0\n"
          ]
        }
      ]
    },
    {
      "cell_type": "code",
      "source": [
        "class Student2:\n",
        "    def __init__(self, name, score):\n",
        "        self.name = name\n",
        "        self.score = score\n",
        "\n",
        "    def __repr__(self):\n",
        "        return f'Student{{이름: {self.name}, 점수:{self.score}}}'"
      ],
      "metadata": {
        "id": "CVsABfh53BH7"
      },
      "execution_count": 199,
      "outputs": []
    },
    {
      "cell_type": "code",
      "source": [
        "stu3 = Student2('오쌤', Score(90,80,100))\n",
        "print(stu3)"
      ],
      "metadata": {
        "colab": {
          "base_uri": "https://localhost:8080/"
        },
        "id": "XzeJG1O44LQh",
        "outputId": "a0cfdb23-e1c9-4943-9dae-054aa2cdc2bb"
      },
      "execution_count": 205,
      "outputs": [
        {
          "output_type": "stream",
          "name": "stdout",
          "text": [
            "Student{이름: 오쌤, 점수:Score{국어=90, 영어=80, 수학=100}}\n"
          ]
        }
      ]
    },
    {
      "cell_type": "code",
      "source": [
        "stu4 = Student2('def', Score(100,90,80))\n",
        "stu4"
      ],
      "metadata": {
        "colab": {
          "base_uri": "https://localhost:8080/"
        },
        "id": "XItvQmGX4TkO",
        "outputId": "9c8e7102-16e5-4a64-dffc-2f9c0d9d6e94"
      },
      "execution_count": 206,
      "outputs": [
        {
          "output_type": "execute_result",
          "data": {
            "text/plain": [
              "Student{이름: def, 점수:Score{국어=100, 영어=90, 수학=80}}"
            ]
          },
          "metadata": {},
          "execution_count": 206
        }
      ]
    },
    {
      "cell_type": "code",
      "source": [
        "print(stu4.score.calc_mean())\n",
        "print(stu4.score.calc_sum())"
      ],
      "metadata": {
        "colab": {
          "base_uri": "https://localhost:8080/"
        },
        "id": "SqE8E0B14uNO",
        "outputId": "67582e49-41e2-425a-8ed2-64c51fcf59fd"
      },
      "execution_count": 208,
      "outputs": [
        {
          "output_type": "stream",
          "name": "stdout",
          "text": [
            "90.0\n",
            "270\n"
          ]
        }
      ]
    },
    {
      "cell_type": "code",
      "source": [
        ""
      ],
      "metadata": {
        "colab": {
          "base_uri": "https://localhost:8080/"
        },
        "id": "ChafJQZj4ygP",
        "outputId": "88d82329-54d8-496a-fbf6-bf1083603320"
      },
      "execution_count": 213,
      "outputs": [
        {
          "output_type": "execute_result",
          "data": {
            "text/plain": [
              "Student{이름: abbbc, 점수:(90, 80, 70, 60)}"
            ]
          },
          "metadata": {},
          "execution_count": 213
        }
      ]
    },
    {
      "cell_type": "code",
      "source": [
        ""
      ],
      "metadata": {
        "id": "hl2i6OOM5Qvj"
      },
      "execution_count": null,
      "outputs": []
    }
  ]
}