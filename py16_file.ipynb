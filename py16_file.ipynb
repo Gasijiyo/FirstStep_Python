{
  "nbformat": 4,
  "nbformat_minor": 0,
  "metadata": {
    "colab": {
      "name": "py16_file.ipynb",
      "provenance": [],
      "collapsed_sections": [],
      "mount_file_id": "1yHcaWEcCV6rm4NeaxYuMY5EPfdC5seBu",
      "authorship_tag": "ABX9TyMCc2vcLm3Y+DtKp4p5UeMc",
      "include_colab_link": true
    },
    "kernelspec": {
      "name": "python3",
      "display_name": "Python 3"
    },
    "language_info": {
      "name": "python"
    }
  },
  "cells": [
    {
      "cell_type": "markdown",
      "metadata": {
        "id": "view-in-github",
        "colab_type": "text"
      },
      "source": [
        "<a href=\"https://colab.research.google.com/github/Gasijiyo/FirstStep_Python/blob/master/py16_file.ipynb\" target=\"_parent\"><img src=\"https://colab.research.google.com/assets/colab-badge.svg\" alt=\"Open In Colab\"/></a>"
      ]
    },
    {
      "cell_type": "markdown",
      "source": [
        "# 파일 쓰기 (write)\n",
        "\n",
        "1. 파일 열기 (open)\n",
        "1. 파일 내용 쓰기 (write)\n",
        "1. 파일 닫기 (close)"
      ],
      "metadata": {
        "id": "Wvy7iGiF9UIE"
      }
    },
    {
      "cell_type": "markdown",
      "source": [
        "```\n",
        "open(file, mode='rt', ...): 파일 열기\n",
        "```\n",
        "* `file`: 디렉토리(폴더)를 포함한 파일 이름.\n",
        "* `mode`:\n",
        "    * r(read): 읽기. 기본 값\n",
        "    * w(write): 쓰기. 기존 내용이 모두 삭제되고 파일 처음부터 다시 쓰기 시작\n",
        "    * a(append): 추가. 기존 내용 다음부터 쓰기 시작.\n",
        "    * t(text): 텍스트. 기본 값\n",
        "    * b(binary): 이진 데이터(이미지, mp3, 동영상)"
      ],
      "metadata": {
        "id": "uvtGkVCR9h8z"
      }
    },
    {
      "cell_type": "code",
      "execution_count": 2,
      "metadata": {
        "id": "X-8O7kve8zCi"
      },
      "outputs": [],
      "source": [
        "# 1) 파일 열기\n",
        "f = open('hello.txt', mode='wt')    # text모드는 기본값이므로 mode=w와 동일\n",
        "\n",
        "# 2) 파일 내용 쓰기\n",
        "f.write('Hello\\n')  # '\\n': new line. 줄바꿈\n",
        "f.write('안녕하세요.\\n')\n",
        "f.write('0123456789\\n')\n",
        "# 3) 파일 닫기\n",
        "f.close()"
      ]
    },
    {
      "cell_type": "code",
      "source": [
        "# with ~ as ... 구문\n",
        "with open('hello.txt', mode='at') as f:\n",
        "    f.write('파일 append 테스트 \\n')\n",
        "# with 블록이 끝나면 open된 파일 객체 f의 close() 메소드가 자동으로 호출 됨."
      ],
      "metadata": {
        "id": "BJ9RWPW5_7Pr"
      },
      "execution_count": 3,
      "outputs": []
    },
    {
      "cell_type": "markdown",
      "source": [
        "# 파일 읽기(read)\n",
        "\n",
        "1. 파일 open\n",
        "1. file.read\n",
        "1. file.close"
      ],
      "metadata": {
        "id": "TN5AGfZ2DfNK"
      }
    },
    {
      "cell_type": "code",
      "source": [
        "# 1) 파일 열기\n",
        "f = open('hello.txt', mode='rt')    # mode의 기본값은 'rt'이기 때문에 mode 파라미터는 생략\n",
        "\n",
        "# 2) 파일 내용 읽기\n",
        "line = f.readline().strip()\n",
        "print(line)\n",
        "line = f.readline().strip()\n",
        "print(line)\n",
        "\n",
        "# 3) 파일 닫기\n",
        "f.close()"
      ],
      "metadata": {
        "colab": {
          "base_uri": "https://localhost:8080/"
        },
        "id": "QhgJuv4tCtAu",
        "outputId": "16ff7250-6646-4981-fd5c-6e4ae3362a8a"
      },
      "execution_count": 5,
      "outputs": [
        {
          "output_type": "stream",
          "name": "stdout",
          "text": [
            "Hello\n",
            "안녕하세요.\n"
          ]
        }
      ]
    },
    {
      "cell_type": "code",
      "source": [
        "with open('hello.txt') as f:    # 파일을 'rt'모드로 열기 \n",
        "    for line in f:  # 파일 객체 f의 처음부 파일의 끝까지 반복하며 f.readline() 호출\n",
        "        print(line.strip())\n"
      ],
      "metadata": {
        "colab": {
          "base_uri": "https://localhost:8080/"
        },
        "id": "QrXzWbPtEq7r",
        "outputId": "f7c5994b-6028-450a-b0ca-f679c2831a0e"
      },
      "execution_count": 8,
      "outputs": [
        {
          "output_type": "stream",
          "name": "stdout",
          "text": [
            "Hello\n",
            "안녕하세요.\n",
            "0123456789\n",
            "파일 append 테스트\n"
          ]
        }
      ]
    },
    {
      "cell_type": "markdown",
      "source": [
        "* 지금까지의 과정은 Google Colab에서 임대한 가상머신의 하드 디스크에서 파일을 읽고 쓰는 기능을 수행한 것.\n",
        "* Google Colab과 연결이 끊어지면, 임대했던 가상 머신의 모든 리소스(CPU, HDD, RAM, ...)를 반환하게 됨.\n",
        "    * Colab 디렉토리(폴더)에 저장했던 파일은 모두 사라짐."
      ],
      "metadata": {
        "id": "cU-42uE5GidS"
      }
    },
    {
      "cell_type": "markdown",
      "source": [
        "# Google Drive 연결\n"
      ],
      "metadata": {
        "id": "IKxcGJHSHmBK"
      }
    },
    {
      "cell_type": "code",
      "source": [
        "dir_path = '/content/drive/MyDrive/lab_python'\n",
        "file_name = 'emails.txt'"
      ],
      "metadata": {
        "id": "rH0tmuhWFl4s"
      },
      "execution_count": 9,
      "outputs": []
    },
    {
      "cell_type": "code",
      "source": [
        "import os   # os 모듈 임포트: os.path.join() 함수를 사용하기 위해서"
      ],
      "metadata": {
        "id": "9-INkUaIJ229"
      },
      "execution_count": 10,
      "outputs": []
    },
    {
      "cell_type": "code",
      "source": [
        "# 폴더(디렉토리) 경로와 파일 이름을 OS에서 사용하는 파일 구분자를 사용해서 이어붙여줌.\n",
        "file_path = os.path.join(dir_path, file_name)\n",
        "file_path"
      ],
      "metadata": {
        "colab": {
          "base_uri": "https://localhost:8080/",
          "height": 35
        },
        "id": "Ll8MGPnxJ74G",
        "outputId": "0533d26d-f3d5-49ce-dcdd-d99bdf271180"
      },
      "execution_count": 11,
      "outputs": [
        {
          "output_type": "execute_result",
          "data": {
            "application/vnd.google.colaboratory.intrinsic+json": {
              "type": "string"
            },
            "text/plain": [
              "'/content/drive/MyDrive/lab_python/emails.txt'"
            ]
          },
          "metadata": {},
          "execution_count": 11
        }
      ]
    },
    {
      "cell_type": "code",
      "source": [
        "with open(file_path, mode='wt') as f:\n",
        "    f.write('guest@naver.com\\n')\n",
        "    f.write('test@gmail.com\\n')\n",
        "    f.write('guest@kakao.com\\n')"
      ],
      "metadata": {
        "id": "uyy0v2zXKEKH"
      },
      "execution_count": 12,
      "outputs": []
    },
    {
      "cell_type": "code",
      "source": [
        "with open(file_path, mode='rt') as f:\n",
        "    for line in f:\n",
        "        print(line.strip())"
      ],
      "metadata": {
        "colab": {
          "base_uri": "https://localhost:8080/"
        },
        "id": "HG1To1DHLUJs",
        "outputId": "d7349a8d-f216-454b-9174-5a1a793b08fa"
      },
      "execution_count": 14,
      "outputs": [
        {
          "output_type": "stream",
          "name": "stdout",
          "text": [
            "guest@naver.com\n",
            "test@gmail.com\n",
            "guest@kakao.com\n"
          ]
        }
      ]
    },
    {
      "cell_type": "code",
      "source": [
        ""
      ],
      "metadata": {
        "id": "WO1VEybLL5SQ"
      },
      "execution_count": null,
      "outputs": []
    }
  ]
}