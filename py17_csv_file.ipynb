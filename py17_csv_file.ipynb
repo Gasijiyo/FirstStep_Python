{
  "nbformat": 4,
  "nbformat_minor": 0,
  "metadata": {
    "colab": {
      "name": "py17_csv_file.ipynb",
      "provenance": [],
      "collapsed_sections": [],
      "mount_file_id": "1m-IiGDOWVGAt9W0Kk8GGUWLbo6dI9K5R",
      "authorship_tag": "ABX9TyPB6ejM6/uW/SRbxrp3Esik",
      "include_colab_link": true
    },
    "kernelspec": {
      "name": "python3",
      "display_name": "Python 3"
    },
    "language_info": {
      "name": "python"
    }
  },
  "cells": [
    {
      "cell_type": "markdown",
      "metadata": {
        "id": "view-in-github",
        "colab_type": "text"
      },
      "source": [
        "<a href=\"https://colab.research.google.com/github/Gasijiyo/FirstStep_Python/blob/master/py17_csv_file.ipynb\" target=\"_parent\"><img src=\"https://colab.research.google.com/assets/colab-badge.svg\" alt=\"Open In Colab\"/></a>"
      ]
    },
    {
      "cell_type": "markdown",
      "source": [
        "* Colab 연결\n",
        "* Google Drive 마운트(연결).\n",
        "* csv_exam.csv 파일을 Google Drive의 lab_python 폴더에 업로드"
      ],
      "metadata": {
        "id": "sqhevseo6iGj"
      }
    },
    {
      "cell_type": "code",
      "execution_count": null,
      "metadata": {
        "id": "pMsA8miS6eKO"
      },
      "outputs": [],
      "source": [
        "# 업로드한 CSV파일 경로\n",
        "file_path = '/content/drive/MyDrive/lab_python/csv_exam.csv'"
      ]
    },
    {
      "cell_type": "markdown",
      "source": [
        "1. csv_exam.csv 파일을 읽기모드로 오픈\n",
        "1. 파일의 첫 번째 줄은 읽고 아무 동작없이 건너뛰기.\n",
        "1. 파일의 두 번째 줄 부터 마지막 줄까지 반복\n",
        "    * 각 줄에서 읽은 내용을 쉼표(,)로 구분한 리스트들을 저장하는 리스트를 만듦.\n",
        "    ```\n",
        "    [ ['1','1','50','98','50'], ['2','1','60','97','60'], ... ]\n",
        "    ```\n",
        "1. 2차원 리스트들의 모든 값들을 숫자로 변환\n",
        "    ```\n",
        "    [ [1,1,50,98,50],[2,1,60,97,60],...]\n",
        "    ```\n",
        "1. 2차원 리스트에서 수학 점수들로만 이루어진 1차워 리스트를 만듦.\n",
        "    ```\n",
        "    [50,60,45, ...]\n",
        "    ```\n",
        "1. 수학 점수의 평균, 최대값, 최소값을 찾음.\n",
        "1. 1반 학생들의 수학 점수의 총점, 평균, 최대값, 최소값을 찾음."
      ],
      "metadata": {
        "id": "D89U8TQC8QxY"
      }
    },
    {
      "cell_type": "code",
      "source": [
        "# 읽기모드로 오픈\n",
        "# csvfile = open(file_path, mode='rt')\n",
        "\n",
        "# 파일 내 데이터 출력 (경로확인)\n",
        "datalist = []\n",
        "with open(file_path) as csvfile:\n",
        "    for data in csvfile: \n",
        "        row = [data.strip()]\n",
        "        datalist.append(row)\n",
        "\n",
        "del datalist[0]\n",
        "datalist"
      ],
      "metadata": {
        "colab": {
          "base_uri": "https://localhost:8080/"
        },
        "id": "EV3WxVbB8FcI",
        "outputId": "fbc98a44-65fa-4fea-bd46-82ce828ddc7b"
      },
      "execution_count": null,
      "outputs": [
        {
          "output_type": "execute_result",
          "data": {
            "text/plain": [
              "[['1,1,50,98,50'],\n",
              " ['2,1,60,97,60'],\n",
              " ['3,1,45,86,78'],\n",
              " ['4,1,30,98,58'],\n",
              " ['5,2,25,80,65'],\n",
              " ['6,2,50,89,98'],\n",
              " ['7,2,80,90,45'],\n",
              " ['8,2,90,78,25'],\n",
              " ['9,3,20,98,15'],\n",
              " ['10,3,50,98,45'],\n",
              " ['11,3,65,65,65'],\n",
              " ['12,3,45,85,32'],\n",
              " ['13,4,46,98,65'],\n",
              " ['14,4,48,87,12'],\n",
              " ['15,4,75,56,78'],\n",
              " ['16,4,58,98,65'],\n",
              " ['17,5,65,68,98'],\n",
              " ['18,5,80,78,90'],\n",
              " ['19,5,89,68,87'],\n",
              " ['20,5,78,83,58']]"
            ]
          },
          "metadata": {},
          "execution_count": 39
        }
      ]
    },
    {
      "cell_type": "code",
      "source": [
        "for data in datalist:\n",
        "    int(data)\n",
        "print(datalist)"
      ],
      "metadata": {
        "colab": {
          "base_uri": "https://localhost:8080/",
          "height": 211
        },
        "id": "HUArqlB4_hwI",
        "outputId": "ac51b7bf-238c-4a6c-ea79-2b909b07593c"
      },
      "execution_count": null,
      "outputs": [
        {
          "output_type": "error",
          "ename": "TypeError",
          "evalue": "ignored",
          "traceback": [
            "\u001b[0;31m---------------------------------------------------------------------------\u001b[0m",
            "\u001b[0;31mTypeError\u001b[0m                                 Traceback (most recent call last)",
            "\u001b[0;32m<ipython-input-34-7f4c4114d0e5>\u001b[0m in \u001b[0;36m<module>\u001b[0;34m()\u001b[0m\n\u001b[1;32m      1\u001b[0m \u001b[0;32mfor\u001b[0m \u001b[0mdata\u001b[0m \u001b[0;32min\u001b[0m \u001b[0mdatalist\u001b[0m\u001b[0;34m:\u001b[0m\u001b[0;34m\u001b[0m\u001b[0;34m\u001b[0m\u001b[0m\n\u001b[0;32m----> 2\u001b[0;31m     \u001b[0mint\u001b[0m\u001b[0;34m(\u001b[0m\u001b[0mdata\u001b[0m\u001b[0;34m)\u001b[0m\u001b[0;34m\u001b[0m\u001b[0;34m\u001b[0m\u001b[0m\n\u001b[0m\u001b[1;32m      3\u001b[0m \u001b[0mprint\u001b[0m\u001b[0;34m(\u001b[0m\u001b[0mdatalist\u001b[0m\u001b[0;34m)\u001b[0m\u001b[0;34m\u001b[0m\u001b[0;34m\u001b[0m\u001b[0m\n",
            "\u001b[0;31mTypeError\u001b[0m: int() argument must be a string, a bytes-like object or a number, not 'list'"
          ]
        }
      ]
    },
    {
      "cell_type": "code",
      "source": [
        ""
      ],
      "metadata": {
        "id": "AyWoaQYZHBvE"
      },
      "execution_count": null,
      "outputs": []
    },
    {
      "cell_type": "code",
      "source": [
        ""
      ],
      "metadata": {
        "id": "qaVYKdxBHam8"
      },
      "execution_count": null,
      "outputs": []
    },
    {
      "cell_type": "markdown",
      "source": [
        "선생님 코드:"
      ],
      "metadata": {
        "id": "v2Qh1kHBHb1j"
      }
    },
    {
      "cell_type": "code",
      "source": [
        "exam = []\n",
        "with open(file_path, mode='rt') as f:\n",
        "    f.readline()    # 파일의 첫 줄을 읽음\n",
        "    for line in f:  # 파일의 두 번째 줄 부터 파일 한 줄씩 읽으며\n",
        "        # (1) strip: 읽은 라인에서 앞위 공백 제거\n",
        "        # (2) split: 쉼표를 기준으로 자른 문자열들의 리스트 생성 [...]\n",
        "        # (3) 1차원 리스트를 exam에 append\n",
        "        exam.append(line.strip().split(sep=','))\n",
        "exam    # 2차원 리스트"
      ],
      "metadata": {
        "colab": {
          "base_uri": "https://localhost:8080/"
        },
        "id": "rbvOAw1aHacE",
        "outputId": "af28de5d-3d2e-4fc2-ded9-4b569f8f695e"
      },
      "execution_count": null,
      "outputs": [
        {
          "output_type": "execute_result",
          "data": {
            "text/plain": [
              "[['1', '1', '50', '98', '50'],\n",
              " ['2', '1', '60', '97', '60'],\n",
              " ['3', '1', '45', '86', '78'],\n",
              " ['4', '1', '30', '98', '58'],\n",
              " ['5', '2', '25', '80', '65'],\n",
              " ['6', '2', '50', '89', '98'],\n",
              " ['7', '2', '80', '90', '45'],\n",
              " ['8', '2', '90', '78', '25'],\n",
              " ['9', '3', '20', '98', '15'],\n",
              " ['10', '3', '50', '98', '45'],\n",
              " ['11', '3', '65', '65', '65'],\n",
              " ['12', '3', '45', '85', '32'],\n",
              " ['13', '4', '46', '98', '65'],\n",
              " ['14', '4', '48', '87', '12'],\n",
              " ['15', '4', '75', '56', '78'],\n",
              " ['16', '4', '58', '98', '65'],\n",
              " ['17', '5', '65', '68', '98'],\n",
              " ['18', '5', '80', '78', '90'],\n",
              " ['19', '5', '89', '68', '87'],\n",
              " ['20', '5', '78', '83', '58']]"
            ]
          },
          "metadata": {},
          "execution_count": 44
        }
      ]
    },
    {
      "cell_type": "code",
      "source": [
        "for row in exam:\n",
        "    for i, x in enumerate(row):\n",
        "        row[i] = int(x)\n",
        "exam"
      ],
      "metadata": {
        "colab": {
          "base_uri": "https://localhost:8080/"
        },
        "id": "7Loo0HSvIv2E",
        "outputId": "f751b298-2123-47cf-e2e3-0ef27caa6be8"
      },
      "execution_count": null,
      "outputs": [
        {
          "output_type": "execute_result",
          "data": {
            "text/plain": [
              "[[1, 1, 50, 98, 50],\n",
              " [2, 1, 60, 97, 60],\n",
              " [3, 1, 45, 86, 78],\n",
              " [4, 1, 30, 98, 58],\n",
              " [5, 2, 25, 80, 65],\n",
              " [6, 2, 50, 89, 98],\n",
              " [7, 2, 80, 90, 45],\n",
              " [8, 2, 90, 78, 25],\n",
              " [9, 3, 20, 98, 15],\n",
              " [10, 3, 50, 98, 45],\n",
              " [11, 3, 65, 65, 65],\n",
              " [12, 3, 45, 85, 32],\n",
              " [13, 4, 46, 98, 65],\n",
              " [14, 4, 48, 87, 12],\n",
              " [15, 4, 75, 56, 78],\n",
              " [16, 4, 58, 98, 65],\n",
              " [17, 5, 65, 68, 98],\n",
              " [18, 5, 80, 78, 90],\n",
              " [19, 5, 89, 68, 87],\n",
              " [20, 5, 78, 83, 58]]"
            ]
          },
          "metadata": {},
          "execution_count": 45
        }
      ]
    },
    {
      "cell_type": "code",
      "source": [
        "math = []\n",
        "for row in exam:\n",
        "    math.append(row[2]) # 1차원 리스트의 인덱스 2번위치의 값이 수학점수\n",
        "print(math)"
      ],
      "metadata": {
        "colab": {
          "base_uri": "https://localhost:8080/"
        },
        "id": "Nx432dxRKCHd",
        "outputId": "4c7b651f-507c-48a2-c5b8-68a03ae63049"
      },
      "execution_count": null,
      "outputs": [
        {
          "output_type": "stream",
          "name": "stdout",
          "text": [
            "[50, 60, 45, 30, 25, 50, 80, 90, 20, 50, 65, 45, 46, 48, 75, 58, 65, 80, 89, 78]\n"
          ]
        }
      ]
    },
    {
      "cell_type": "code",
      "source": [
        "sum(math) / len(math) # 평균"
      ],
      "metadata": {
        "colab": {
          "base_uri": "https://localhost:8080/"
        },
        "id": "yJYWM8lULGAI",
        "outputId": "80a113ed-d293-4d28-b941-62c9095cd8d6"
      },
      "execution_count": null,
      "outputs": [
        {
          "output_type": "execute_result",
          "data": {
            "text/plain": [
              "57.45"
            ]
          },
          "metadata": {},
          "execution_count": 48
        }
      ]
    },
    {
      "cell_type": "code",
      "source": [
        "max(math) # 최대값"
      ],
      "metadata": {
        "colab": {
          "base_uri": "https://localhost:8080/"
        },
        "id": "4eWFD_DaLlVI",
        "outputId": "d100ba25-3c44-476b-ba32-8f41069ab0cc"
      },
      "execution_count": null,
      "outputs": [
        {
          "output_type": "execute_result",
          "data": {
            "text/plain": [
              "90"
            ]
          },
          "metadata": {},
          "execution_count": 49
        }
      ]
    },
    {
      "cell_type": "code",
      "source": [
        "min(math) # 최소값"
      ],
      "metadata": {
        "colab": {
          "base_uri": "https://localhost:8080/"
        },
        "id": "caeOadO1LtCd",
        "outputId": "63347935-100d-4638-807a-ab4ce1ad071d"
      },
      "execution_count": null,
      "outputs": [
        {
          "output_type": "execute_result",
          "data": {
            "text/plain": [
              "20"
            ]
          },
          "metadata": {},
          "execution_count": 50
        }
      ]
    },
    {
      "cell_type": "code",
      "source": [
        "math_class1 = math[:4]  # 1반 성적\n",
        "math_class1"
      ],
      "metadata": {
        "colab": {
          "base_uri": "https://localhost:8080/"
        },
        "id": "7_iub_JuLuyr",
        "outputId": "9d3d3763-e84b-4407-dea9-1edf3c06191c"
      },
      "execution_count": null,
      "outputs": [
        {
          "output_type": "execute_result",
          "data": {
            "text/plain": [
              "[50, 60, 45, 30]"
            ]
          },
          "metadata": {},
          "execution_count": 52
        }
      ]
    },
    {
      "cell_type": "code",
      "source": [
        "sum(math_class1) / len(math_class1)"
      ],
      "metadata": {
        "colab": {
          "base_uri": "https://localhost:8080/"
        },
        "id": "CMWHWNhoMV5D",
        "outputId": "1cc43cb2-1404-4939-f315-11cf805cd5c3"
      },
      "execution_count": null,
      "outputs": [
        {
          "output_type": "execute_result",
          "data": {
            "text/plain": [
              "46.25"
            ]
          },
          "metadata": {},
          "execution_count": 53
        }
      ]
    },
    {
      "cell_type": "code",
      "source": [
        "print(max(math_class1))\n",
        "min(math_class1)"
      ],
      "metadata": {
        "colab": {
          "base_uri": "https://localhost:8080/"
        },
        "id": "CK02fR_CMsD-",
        "outputId": "a06066d8-d192-470e-b60c-3f95a2ddbcd3"
      },
      "execution_count": null,
      "outputs": [
        {
          "output_type": "stream",
          "name": "stdout",
          "text": [
            "60\n"
          ]
        },
        {
          "output_type": "execute_result",
          "data": {
            "text/plain": [
              "30"
            ]
          },
          "metadata": {},
          "execution_count": 55
        }
      ]
    },
    {
      "cell_type": "code",
      "source": [
        "# list comprehension :\n",
        "with open(file_path) as f:\n",
        "    f.readline()\n",
        "    exam2 = [line.strip().split(sep=',') # strip -> 줄바꿈 제거\n",
        "                for line in f]    \n",
        "exam2"
      ],
      "metadata": {
        "colab": {
          "base_uri": "https://localhost:8080/"
        },
        "id": "FqXP68SQMuXZ",
        "outputId": "4a2a467e-cdde-47c7-a0a4-963dd2201d32"
      },
      "execution_count": null,
      "outputs": [
        {
          "output_type": "execute_result",
          "data": {
            "text/plain": [
              "[['1', '1', '50', '98', '50'],\n",
              " ['2', '1', '60', '97', '60'],\n",
              " ['3', '1', '45', '86', '78'],\n",
              " ['4', '1', '30', '98', '58'],\n",
              " ['5', '2', '25', '80', '65'],\n",
              " ['6', '2', '50', '89', '98'],\n",
              " ['7', '2', '80', '90', '45'],\n",
              " ['8', '2', '90', '78', '25'],\n",
              " ['9', '3', '20', '98', '15'],\n",
              " ['10', '3', '50', '98', '45'],\n",
              " ['11', '3', '65', '65', '65'],\n",
              " ['12', '3', '45', '85', '32'],\n",
              " ['13', '4', '46', '98', '65'],\n",
              " ['14', '4', '48', '87', '12'],\n",
              " ['15', '4', '75', '56', '78'],\n",
              " ['16', '4', '58', '98', '65'],\n",
              " ['17', '5', '65', '68', '98'],\n",
              " ['18', '5', '80', '78', '90'],\n",
              " ['19', '5', '89', '68', '87'],\n",
              " ['20', '5', '78', '83', '58']]"
            ]
          },
          "metadata": {},
          "execution_count": 63
        }
      ]
    },
    {
      "cell_type": "code",
      "source": [
        ""
      ],
      "metadata": {
        "id": "L9Vz03jWNQvo"
      },
      "execution_count": null,
      "outputs": []
    }
  ]
}