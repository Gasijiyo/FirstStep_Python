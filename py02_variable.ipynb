{
  "nbformat": 4,
  "nbformat_minor": 0,
  "metadata": {
    "colab": {
      "name": "py02_variable.ipynb",
      "provenance": [],
      "collapsed_sections": [],
      "authorship_tag": "ABX9TyNQZCraSVkxBBBSSYh4xwyo",
      "include_colab_link": true
    },
    "kernelspec": {
      "name": "python3",
      "display_name": "Python 3"
    },
    "language_info": {
      "name": "python"
    }
  },
  "cells": [
    {
      "cell_type": "markdown",
      "metadata": {
        "id": "view-in-github",
        "colab_type": "text"
      },
      "source": [
        "<a href=\"https://colab.research.google.com/github/Gasijiyo/FirstStep_Python/blob/master/py02_variable.ipynb\" target=\"_parent\"><img src=\"https://colab.research.google.com/assets/colab-badge.svg\" alt=\"Open In Colab\"/></a>"
      ]
    },
    {
      "cell_type": "markdown",
      "source": [
        "# Python Data Type (자료 타입)\n",
        "\n",
        "* 숫자 타입:\n",
        "  * int: 정수\n",
        "  * float: 실수\n",
        "* 문자열 타입: str\n",
        "* 논리 타입: bool (True/False)\n",
        "\n",
        "Python은 변수를 선언할 때 자료 타입을 명시하지 않음.\n",
        "코드를 실행될 때 변수의 자료 타입이 결정."
      ],
      "metadata": {
        "id": "q-KG1icql0rf"
      }
    },
    {
      "cell_type": "code",
      "execution_count": 1,
      "metadata": {
        "colab": {
          "base_uri": "https://localhost:8080/"
        },
        "id": "13KHbH3DlggV",
        "outputId": "1732b77e-c147-4bff-d256-d212a840f2ad"
      },
      "outputs": [
        {
          "output_type": "stream",
          "name": "stdout",
          "text": [
            "100\n",
            "<class 'int'>\n"
          ]
        }
      ],
      "source": [
        "# (주석, comment)\n",
        "# 변수 = 값\n",
        "n = 100\n",
        "print(n)\n",
        "print(type(n))  # type(value): value의 자료 타입을 리턴하는 함수"
      ]
    },
    {
      "cell_type": "markdown",
      "source": [
        "식 (expression): 값, 변수, 리턴 값이 있는 함수 호출, 연산.\n",
        "\n",
        "ipynb 코드 셀에서 가장 마지막 줄에 있는 문장이 식(expression)인 경우, \n",
        "식을 평가한 결과를 출력창에 출력해 줌."
      ],
      "metadata": {
        "id": "YJMhSw2VngFj"
      }
    },
    {
      "cell_type": "code",
      "source": [
        "print(n)\n",
        "n+1"
      ],
      "metadata": {
        "colab": {
          "base_uri": "https://localhost:8080/"
        },
        "id": "f5ndVJnKm1SG",
        "outputId": "f601504b-8791-4ad5-908c-1aa5688d2f99"
      },
      "execution_count": 6,
      "outputs": [
        {
          "output_type": "stream",
          "name": "stdout",
          "text": [
            "100\n"
          ]
        },
        {
          "output_type": "execute_result",
          "data": {
            "text/plain": [
              "101"
            ]
          },
          "metadata": {},
          "execution_count": 6
        }
      ]
    },
    {
      "cell_type": "code",
      "source": [
        "pi = 3.14\n",
        "print(pi)\n",
        "type(pi)"
      ],
      "metadata": {
        "colab": {
          "base_uri": "https://localhost:8080/"
        },
        "id": "-Xml0XJvnUuS",
        "outputId": "0e199996-1555-4f4c-f35a-9abb004b6a62"
      },
      "execution_count": 7,
      "outputs": [
        {
          "output_type": "stream",
          "name": "stdout",
          "text": [
            "3.14\n"
          ]
        },
        {
          "output_type": "execute_result",
          "data": {
            "text/plain": [
              "float"
            ]
          },
          "metadata": {},
          "execution_count": 7
        }
      ]
    },
    {
      "cell_type": "code",
      "source": [
        ""
      ],
      "metadata": {
        "id": "YndilAiOoZSN"
      },
      "execution_count": null,
      "outputs": []
    },
    {
      "cell_type": "markdown",
      "source": [
        "## 명시적 타입 변환\n",
        "\n",
        "* `int(값)`: 값을 정수 타입으로 변환하는 함수.\n",
        "* `float(값)`: 값을 실수 타입으로 변환하는 함수.\n",
        "* `str(값)`: 값을 문자열 타입으로 변환하는 함수."
      ],
      "metadata": {
        "id": "z9vPyeWPoXwH"
      }
    },
    {
      "cell_type": "code",
      "source": [
        "# 콘솔 창에서 사용자 입력 받기\n",
        "n = input('정수 입력 >>> ')"
      ],
      "metadata": {
        "colab": {
          "base_uri": "https://localhost:8080/"
        },
        "id": "60pesjpmoUi7",
        "outputId": "861734d9-c1f7-44e5-c33c-1155c341df65"
      },
      "execution_count": 8,
      "outputs": [
        {
          "name": "stdout",
          "output_type": "stream",
          "text": [
            "정수 입력 >>> 123\n"
          ]
        }
      ]
    },
    {
      "cell_type": "code",
      "source": [
        "type(n) #> str (문자열)"
      ],
      "metadata": {
        "colab": {
          "base_uri": "https://localhost:8080/"
        },
        "id": "uJH1lt6-qDwS",
        "outputId": "44c1a36f-865a-48ea-96e8-2a0ce6518534"
      },
      "execution_count": 9,
      "outputs": [
        {
          "output_type": "execute_result",
          "data": {
            "text/plain": [
              "str"
            ]
          },
          "metadata": {},
          "execution_count": 9
        }
      ]
    },
    {
      "cell_type": "code",
      "source": [
        "n = int(n)  #변수 n의 타입을 정수 타입으로 변환해서 저장"
      ],
      "metadata": {
        "id": "Yw7h1RwSqIao"
      },
      "execution_count": 11,
      "outputs": []
    },
    {
      "cell_type": "code",
      "source": [
        "type(n)"
      ],
      "metadata": {
        "colab": {
          "base_uri": "https://localhost:8080/"
        },
        "id": "GLAOuJUNqO_R",
        "outputId": "42fc07f7-2cf7-4aa8-8705-70eb3e59cf2f"
      },
      "execution_count": 12,
      "outputs": [
        {
          "output_type": "execute_result",
          "data": {
            "text/plain": [
              "int"
            ]
          },
          "metadata": {},
          "execution_count": 12
        }
      ]
    },
    {
      "cell_type": "markdown",
      "source": [
        "# 산술 연산자 \n",
        "\n",
        "* 산술 연산자: 숫자(int, float) 타입의 연산에 사용.\n",
        "* 산술 연산자 종류: `+`, `-`, `*`, `/`, `//`(몫), `%`(나머지), `**`(거듭제곱)"
      ],
      "metadata": {
        "id": "CW4K9QUNqS6a"
      }
    },
    {
      "cell_type": "code",
      "source": [
        "x = 10\n",
        "y = 3\n",
        "print(f'{x} / {y} = {x / y}')\n",
        "print(f'{x} // {y} = {x // y}')\n",
        "print(f'{x} % {y} = {x % y}')\n",
        "print(f'{x} ^ 2 = {x ** 2}')\n",
        "print(f'{x} ^ -1 = {x ** -1}')"
      ],
      "metadata": {
        "colab": {
          "base_uri": "https://localhost:8080/"
        },
        "id": "QiYDtAlJqQ1D",
        "outputId": "1ca624ff-d526-496d-f59d-a1bbb75be019"
      },
      "execution_count": 16,
      "outputs": [
        {
          "output_type": "stream",
          "name": "stdout",
          "text": [
            "10 / 3 = 3.3333333333333335\n",
            "10 // 3 = 3\n",
            "10 % 3 = 1\n",
            "10 ^ 2 = 100\n",
            "10 ^ -1 = 0.1\n"
          ]
        }
      ]
    },
    {
      "cell_type": "markdown",
      "source": [
        "## 문자열(str) 타입에서 사용할 수 있는 연산자\n",
        "* `+`: concatenate. 문자열 이어 붙이기.\n",
        "* `*`: replicate. 문자열 복제"
      ],
      "metadata": {
        "id": "8NsQqlGyrkHt"
      }
    },
    {
      "cell_type": "code",
      "source": [
        "'Hello' + 'Python'"
      ],
      "metadata": {
        "colab": {
          "base_uri": "https://localhost:8080/",
          "height": 35
        },
        "id": "P-yWq8SjrDmu",
        "outputId": "79c93cf8-15c4-4ed9-c0cf-808ddffe75d2"
      },
      "execution_count": 17,
      "outputs": [
        {
          "output_type": "execute_result",
          "data": {
            "application/vnd.google.colaboratory.intrinsic+json": {
              "type": "string"
            },
            "text/plain": [
              "'HelloPython'"
            ]
          },
          "metadata": {},
          "execution_count": 17
        }
      ]
    },
    {
      "cell_type": "code",
      "source": [
        "'Hello' * 3"
      ],
      "metadata": {
        "colab": {
          "base_uri": "https://localhost:8080/",
          "height": 35
        },
        "id": "eclCzq_Rr6Ac",
        "outputId": "ff928d66-6138-4db7-dc32-c4466ecdd171"
      },
      "execution_count": 19,
      "outputs": [
        {
          "output_type": "execute_result",
          "data": {
            "application/vnd.google.colaboratory.intrinsic+json": {
              "type": "string"
            },
            "text/plain": [
              "'HelloHelloHello'"
            ]
          },
          "metadata": {},
          "execution_count": 19
        }
      ]
    },
    {
      "cell_type": "markdown",
      "source": [
        "# 비교 연산자와 논리 연산자\n",
        "\n",
        "* 비교 연산자: `==`, `!=`, `<`, `>`, `<=`, `>=`\n",
        "* 논리 연산자: `and`, `or`, `not`"
      ],
      "metadata": {
        "id": "B9FNU3kRsSuU"
      }
    },
    {
      "cell_type": "code",
      "source": [
        "x = 100\n",
        "(x > 50) and (x < 150)"
      ],
      "metadata": {
        "colab": {
          "base_uri": "https://localhost:8080/"
        },
        "id": "FDgUiXyvr8Wa",
        "outputId": "3a3203e2-0d45-4ab6-ade5-891d63e7bb33"
      },
      "execution_count": 21,
      "outputs": [
        {
          "output_type": "execute_result",
          "data": {
            "text/plain": [
              "True"
            ]
          },
          "metadata": {},
          "execution_count": 21
        }
      ]
    },
    {
      "cell_type": "code",
      "source": [
        "# Python 에서는 True, False 첫 문자가 대문자다.(Java는 전부 소문자)\n",
        "50 < x < 150"
      ],
      "metadata": {
        "colab": {
          "base_uri": "https://localhost:8080/"
        },
        "id": "wknwWLdSssSu",
        "outputId": "d6a62406-31e7-4ad6-9e63-586b7e74dc2f"
      },
      "execution_count": 22,
      "outputs": [
        {
          "output_type": "execute_result",
          "data": {
            "text/plain": [
              "True"
            ]
          },
          "metadata": {},
          "execution_count": 22
        }
      ]
    },
    {
      "cell_type": "code",
      "source": [
        ""
      ],
      "metadata": {
        "id": "erPUf1Vhs-BJ"
      },
      "execution_count": null,
      "outputs": []
    }
  ]
}