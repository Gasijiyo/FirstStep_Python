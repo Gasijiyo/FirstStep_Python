{
  "nbformat": 4,
  "nbformat_minor": 0,
  "metadata": {
    "colab": {
      "name": "py05_while.ipynb",
      "provenance": [],
      "collapsed_sections": [],
      "authorship_tag": "ABX9TyMvVNet6HNL8p2X/zUDKDR8",
      "include_colab_link": true
    },
    "kernelspec": {
      "name": "python3",
      "display_name": "Python 3"
    },
    "language_info": {
      "name": "python"
    }
  },
  "cells": [
    {
      "cell_type": "markdown",
      "metadata": {
        "id": "view-in-github",
        "colab_type": "text"
      },
      "source": [
        "<a href=\"https://colab.research.google.com/github/Gasijiyo/FirstStep_Python/blob/master/py05_while.ipynb\" target=\"_parent\"><img src=\"https://colab.research.google.com/assets/colab-badge.svg\" alt=\"Open In Colab\"/></a>"
      ]
    },
    {
      "cell_type": "markdown",
      "source": [
        "# while 반복문"
      ],
      "metadata": {
        "id": "NEvXBJzbe-vi"
      }
    },
    {
      "cell_type": "markdown",
      "source": [
        "```\n",
        "[초기화 문장]\n",
        "while 조건식:\n",
        "    조건식을 만족하는 동안에 반복할 코드(문장들)\n",
        "    [조건을 변경할 수 있는 문장]\n",
        "```"
      ],
      "metadata": {
        "id": "M6wEg_KgfCoA"
      }
    },
    {
      "cell_type": "code",
      "execution_count": null,
      "metadata": {
        "id": "uHBsBN7Fe6-t"
      },
      "outputs": [],
      "source": [
        "for x in range(1,6):\n",
        "    print(x)    "
      ]
    },
    {
      "cell_type": "code",
      "source": [
        "x = 1\n",
        "while x<6 :\n",
        "    print(x)\n",
        "    # x = x + 1\n",
        "    x += 1  # 복합 할당 연산자(+=, -=, *=, /=, ...) \n"
      ],
      "metadata": {
        "colab": {
          "base_uri": "https://localhost:8080/"
        },
        "id": "nYEm9urLfUhA",
        "outputId": "9f552f01-eef4-40e3-b98f-7a4e14881b5c"
      },
      "execution_count": 7,
      "outputs": [
        {
          "output_type": "stream",
          "name": "stdout",
          "text": [
            "1\n",
            "2\n",
            "3\n",
            "4\n",
            "5\n"
          ]
        }
      ]
    },
    {
      "cell_type": "markdown",
      "source": [
        "* Ctrl(Cmd) + / : 주석 토글"
      ],
      "metadata": {
        "id": "rfcQMiXSgXhG"
      }
    },
    {
      "cell_type": "code",
      "source": [
        "# 1이상 10 미만의 홀수들 출력\n",
        "x = 1\n",
        "while x < 10:\n",
        "    print(x)\n",
        "    x += 2"
      ],
      "metadata": {
        "colab": {
          "base_uri": "https://localhost:8080/"
        },
        "id": "2VCb22Njfaek",
        "outputId": "5bdb320f-d95a-4e55-d5a9-8f90ab73693e"
      },
      "execution_count": 9,
      "outputs": [
        {
          "output_type": "stream",
          "name": "stdout",
          "text": [
            "1\n",
            "3\n",
            "5\n",
            "7\n",
            "9\n"
          ]
        }
      ]
    },
    {
      "cell_type": "code",
      "source": [
        "x = 1\n",
        "while x < 10:\n",
        "    if x % 2 == 1:\n",
        "        print(x)\n",
        "    x += 1 "
      ],
      "metadata": {
        "colab": {
          "base_uri": "https://localhost:8080/"
        },
        "id": "9ZhkyjhDhr7y",
        "outputId": "6d2eedfa-e9fb-43ab-8166-e02aa7075b2f"
      },
      "execution_count": 10,
      "outputs": [
        {
          "output_type": "stream",
          "name": "stdout",
          "text": [
            "1\n",
            "3\n",
            "5\n",
            "7\n",
            "9\n"
          ]
        }
      ]
    },
    {
      "cell_type": "markdown",
      "source": [
        "Python에서 True로 취급하는 것:\n",
        "\n",
        "* 0이 아닌 숫자들.\n",
        "* 1글자 이상의 문자열.\n",
        "* 1개 이상의 원소를 가지고 있는 list, tuple, dict, ..."
      ],
      "metadata": {
        "id": "MDBDMK0Sh7XL"
      }
    },
    {
      "cell_type": "code",
      "source": [
        "x = 2\n",
        "while x < 10:\n",
        "    print(f'--- {x}단 ---')\n",
        "    \n",
        "    y = 1\n",
        "    while y < 10:\n",
        "        print(f'{x} x {y} = {x*y}')\n",
        "        y += 1\n",
        "    \n",
        "    print()\n",
        "    x += 1"
      ],
      "metadata": {
        "colab": {
          "base_uri": "https://localhost:8080/"
        },
        "id": "l97a5XTrh2sA",
        "outputId": "3e1e821b-750b-4e9b-c183-3230b6f3a577"
      },
      "execution_count": 13,
      "outputs": [
        {
          "output_type": "stream",
          "name": "stdout",
          "text": [
            "--- 2단 ---\n",
            "2 x 1 = 2\n",
            "2 x 2 = 4\n",
            "2 x 3 = 6\n",
            "2 x 4 = 8\n",
            "2 x 5 = 10\n",
            "2 x 6 = 12\n",
            "2 x 7 = 14\n",
            "2 x 8 = 16\n",
            "2 x 9 = 18\n",
            "\n",
            "--- 3단 ---\n",
            "3 x 1 = 3\n",
            "3 x 2 = 6\n",
            "3 x 3 = 9\n",
            "3 x 4 = 12\n",
            "3 x 5 = 15\n",
            "3 x 6 = 18\n",
            "3 x 7 = 21\n",
            "3 x 8 = 24\n",
            "3 x 9 = 27\n",
            "\n",
            "--- 4단 ---\n",
            "4 x 1 = 4\n",
            "4 x 2 = 8\n",
            "4 x 3 = 12\n",
            "4 x 4 = 16\n",
            "4 x 5 = 20\n",
            "4 x 6 = 24\n",
            "4 x 7 = 28\n",
            "4 x 8 = 32\n",
            "4 x 9 = 36\n",
            "\n",
            "--- 5단 ---\n",
            "5 x 1 = 5\n",
            "5 x 2 = 10\n",
            "5 x 3 = 15\n",
            "5 x 4 = 20\n",
            "5 x 5 = 25\n",
            "5 x 6 = 30\n",
            "5 x 7 = 35\n",
            "5 x 8 = 40\n",
            "5 x 9 = 45\n",
            "\n",
            "--- 6단 ---\n",
            "6 x 1 = 6\n",
            "6 x 2 = 12\n",
            "6 x 3 = 18\n",
            "6 x 4 = 24\n",
            "6 x 5 = 30\n",
            "6 x 6 = 36\n",
            "6 x 7 = 42\n",
            "6 x 8 = 48\n",
            "6 x 9 = 54\n",
            "\n",
            "--- 7단 ---\n",
            "7 x 1 = 7\n",
            "7 x 2 = 14\n",
            "7 x 3 = 21\n",
            "7 x 4 = 28\n",
            "7 x 5 = 35\n",
            "7 x 6 = 42\n",
            "7 x 7 = 49\n",
            "7 x 8 = 56\n",
            "7 x 9 = 63\n",
            "\n",
            "--- 8단 ---\n",
            "8 x 1 = 8\n",
            "8 x 2 = 16\n",
            "8 x 3 = 24\n",
            "8 x 4 = 32\n",
            "8 x 5 = 40\n",
            "8 x 6 = 48\n",
            "8 x 7 = 56\n",
            "8 x 8 = 64\n",
            "8 x 9 = 72\n",
            "\n",
            "--- 9단 ---\n",
            "9 x 1 = 9\n",
            "9 x 2 = 18\n",
            "9 x 3 = 27\n",
            "9 x 4 = 36\n",
            "9 x 5 = 45\n",
            "9 x 6 = 54\n",
            "9 x 7 = 63\n",
            "9 x 8 = 72\n",
            "9 x 9 = 81\n",
            "\n"
          ]
        }
      ]
    },
    {
      "cell_type": "code",
      "source": [
        "x = 2\n",
        "while x < 10:\n",
        "    print(f'--- {x}단 ---')\n",
        "    \n",
        "    y = 1\n",
        "    while y <= x:\n",
        "        print(f'{x} x {y} = {x*y}')        \n",
        "        y += 1\n",
        "    \n",
        "    print()\n",
        "    x += 1"
      ],
      "metadata": {
        "colab": {
          "base_uri": "https://localhost:8080/"
        },
        "id": "3hsIpuXAioOX",
        "outputId": "2a134da3-8022-4005-d2ab-f648f70b2ba6"
      },
      "execution_count": 15,
      "outputs": [
        {
          "output_type": "stream",
          "name": "stdout",
          "text": [
            "--- 2단 ---\n",
            "2 x 1 = 2\n",
            "2 x 2 = 4\n",
            "\n",
            "--- 3단 ---\n",
            "3 x 1 = 3\n",
            "3 x 2 = 6\n",
            "3 x 3 = 9\n",
            "\n",
            "--- 4단 ---\n",
            "4 x 1 = 4\n",
            "4 x 2 = 8\n",
            "4 x 3 = 12\n",
            "4 x 4 = 16\n",
            "\n",
            "--- 5단 ---\n",
            "5 x 1 = 5\n",
            "5 x 2 = 10\n",
            "5 x 3 = 15\n",
            "5 x 4 = 20\n",
            "5 x 5 = 25\n",
            "\n",
            "--- 6단 ---\n",
            "6 x 1 = 6\n",
            "6 x 2 = 12\n",
            "6 x 3 = 18\n",
            "6 x 4 = 24\n",
            "6 x 5 = 30\n",
            "6 x 6 = 36\n",
            "\n",
            "--- 7단 ---\n",
            "7 x 1 = 7\n",
            "7 x 2 = 14\n",
            "7 x 3 = 21\n",
            "7 x 4 = 28\n",
            "7 x 5 = 35\n",
            "7 x 6 = 42\n",
            "7 x 7 = 49\n",
            "\n",
            "--- 8단 ---\n",
            "8 x 1 = 8\n",
            "8 x 2 = 16\n",
            "8 x 3 = 24\n",
            "8 x 4 = 32\n",
            "8 x 5 = 40\n",
            "8 x 6 = 48\n",
            "8 x 7 = 56\n",
            "8 x 8 = 64\n",
            "\n",
            "--- 9단 ---\n",
            "9 x 1 = 9\n",
            "9 x 2 = 18\n",
            "9 x 3 = 27\n",
            "9 x 4 = 36\n",
            "9 x 5 = 45\n",
            "9 x 6 = 54\n",
            "9 x 7 = 63\n",
            "9 x 8 = 72\n",
            "9 x 9 = 81\n",
            "\n"
          ]
        }
      ]
    },
    {
      "cell_type": "code",
      "source": [
        ""
      ],
      "metadata": {
        "id": "UDIxgu_vkGlh"
      },
      "execution_count": null,
      "outputs": []
    }
  ]
}