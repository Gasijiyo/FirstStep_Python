{
  "nbformat": 4,
  "nbformat_minor": 0,
  "metadata": {
    "colab": {
      "name": "py03_conditional.ipynb",
      "provenance": [],
      "collapsed_sections": [],
      "authorship_tag": "ABX9TyMxsAMLmZtCywQymGSpmWP0",
      "include_colab_link": true
    },
    "kernelspec": {
      "name": "python3",
      "display_name": "Python 3"
    },
    "language_info": {
      "name": "python"
    }
  },
  "cells": [
    {
      "cell_type": "markdown",
      "metadata": {
        "id": "view-in-github",
        "colab_type": "text"
      },
      "source": [
        "<a href=\"https://colab.research.google.com/github/Gasijiyo/FirstStep_Python/blob/master/py03_conditional.ipynb\" target=\"_parent\"><img src=\"https://colab.research.google.com/assets/colab-badge.svg\" alt=\"Open In Colab\"/></a>"
      ]
    },
    {
      "cell_type": "markdown",
      "source": [
        "# 조건문 (Conditional Statement)"
      ],
      "metadata": {
        "id": "ZDeI5-gkt62U"
      }
    },
    {
      "cell_type": "markdown",
      "source": [
        "## else가 없는 조건문\n",
        "\n",
        "\n",
        "```\n",
        "if 조건식:\n",
        "    조건식을 만족할 때 실행할 코드(들)\n",
        "```\n",
        "\n",
        "* `if 조건식` 뒤에는 반드시 **콜론(:)**을 사용해야 함.\n",
        "* `if` 블록 (조건식을 만족할 때 실행할 문장들)은 반드시 **들여쓰기(indentation)**을 해야 함.\n",
        "* 파이썬은 들여쓰기가 제대로 되어 있지 않으면 문장이 실행되지 않음!(주의)\n"
      ],
      "metadata": {
        "id": "TdEQTixat_Xb"
      }
    },
    {
      "cell_type": "code",
      "execution_count": null,
      "metadata": {
        "id": "6Ya8m6RmtDwl"
      },
      "outputs": [],
      "source": [
        "n = 100"
      ]
    },
    {
      "cell_type": "code",
      "source": [
        "if n > 0:\n",
        "    print(f'{n}은 양수입니다...')\n",
        "    print('if 블록 내부 끝')\n",
        "print('if 블록 바깥')"
      ],
      "metadata": {
        "colab": {
          "base_uri": "https://localhost:8080/"
        },
        "id": "QbDl1X70vV3W",
        "outputId": "16eebf1c-14b2-45a4-eb3f-022c63e54244"
      },
      "execution_count": null,
      "outputs": [
        {
          "output_type": "stream",
          "name": "stdout",
          "text": [
            "if 블록 바깥\n"
          ]
        }
      ]
    },
    {
      "cell_type": "markdown",
      "source": [
        "## else 있는 조건문\n",
        "\n",
        "\n",
        "```\n",
        "if 조건식:\n",
        "    조건식을 만족할 때 실행할 문장(들)\n",
        "else: \n",
        "    조건식을 만족하지 못할 때 실행할 문장(들)\n",
        "```\n",
        "\n"
      ],
      "metadata": {
        "id": "g9Mz7tclwSeQ"
      }
    },
    {
      "cell_type": "code",
      "source": [
        "if n > 0:\n",
        "    print(f'{n}은 양수입니다...')\n",
        "else:\n",
        "    print(f'{n}은 양수가 아닙니다...')\n",
        "print('if-else 끝')"
      ],
      "metadata": {
        "colab": {
          "base_uri": "https://localhost:8080/"
        },
        "id": "r2sDIKgvvoIS",
        "outputId": "30585e94-8705-433d-a2b5-bde343b49123"
      },
      "execution_count": null,
      "outputs": [
        {
          "output_type": "stream",
          "name": "stdout",
          "text": [
            "100은 양수입니다...\n",
            "if-else 끝\n"
          ]
        }
      ]
    },
    {
      "cell_type": "code",
      "source": [
        "# 정수를 입력받아서 짝수인지 홀수인지 출력\n",
        "num = int(input('정수 입력 >>>'))\n",
        "if num % 2 == 0:\n",
        "    # pass\n",
        "    print(f'{num}은 짝수입니다.')\n",
        "else:\n",
        "    print(f'{num}은 홀수입니다.')"
      ],
      "metadata": {
        "colab": {
          "base_uri": "https://localhost:8080/"
        },
        "id": "RknNAv2txV1-",
        "outputId": "1f0c2cad-4006-4079-98e4-16ba4ddb124a"
      },
      "execution_count": null,
      "outputs": [
        {
          "output_type": "stream",
          "name": "stdout",
          "text": [
            "정수 입력 >>>4\n",
            "4은 짝수입니다.\n"
          ]
        }
      ]
    },
    {
      "cell_type": "markdown",
      "source": [
        "## Chained conditional (if-elif-else)\n",
        "\n",
        "\n",
        "```\n",
        "if 조건식1:\n",
        "    조건식1을 만족할 때 실행할 문장(들)\n",
        "elif 조건식2:\n",
        "    조건식2 만족할 때 실행할 문장(들)\n",
        "...(여러개 가능)\n",
        "else:\n",
        "    위의 모든 조건식을 만족하지 못할 때 실행할 문장(들)\n",
        "```\n",
        "\n"
      ],
      "metadata": {
        "id": "1JIpnJSSNpiY"
      }
    },
    {
      "cell_type": "code",
      "source": [
        "# 정수를 입력받아서 양수인 지, 음수인 지, 0인 지 출력\n",
        "number = int(input('정수입력>>>'))\n",
        "if number > 0:\n",
        "    print(f'{number}는 양수')\n",
        "elif number < 0:\n",
        "    print(f'{number}는 음수')\n",
        "else: \n",
        "    print(f'{number}는 0')\n"
      ],
      "metadata": {
        "id": "HnuGTn-dyMcA",
        "colab": {
          "base_uri": "https://localhost:8080/"
        },
        "outputId": "82f60fe1-00d9-4f9f-9287-b4245a00c299"
      },
      "execution_count": 3,
      "outputs": [
        {
          "output_type": "stream",
          "name": "stdout",
          "text": [
            "정수입력>>>0\n",
            "0는 0\n"
          ]
        }
      ]
    },
    {
      "cell_type": "markdown",
      "source": [
        "##중첩 조건문(nested conditional)\n",
        "* `if`블록, `elif`블록, `else`블록 안에서 조건문을 사용하는 것.\n",
        "* 중첩 조건문은 `elif`를 사용하거나 논리 연산자(and, or)를 사용해서 중첩되지 않는 조건문으로 만들 수도 있음.\n",
        "* 중첩 조건문을 사용할 때는 들여쓰기(indentation)을 주의해야 함. 들여쓰기 방법에 따라서 완전히 다른 실행 코드(로직)이 될 수 있음."
      ],
      "metadata": {
        "id": "Dt8yhkffPN-B"
      }
    },
    {
      "cell_type": "code",
      "source": [
        "number = int(input('정수입력 >>>'))\n",
        "if number > 0:\n",
        "    print('양수')\n",
        "else:\n",
        "    if number < 0:\n",
        "        print('음수')\n",
        "    else:\n",
        "        print('zero')"
      ],
      "metadata": {
        "colab": {
          "base_uri": "https://localhost:8080/"
        },
        "id": "8eTWTK6IPHRM",
        "outputId": "7ea267fc-d53a-41f5-af5a-36a2b488cb9a"
      },
      "execution_count": 6,
      "outputs": [
        {
          "output_type": "stream",
          "name": "stdout",
          "text": [
            "정수입력 >>>0\n",
            "zero\n"
          ]
        }
      ]
    },
    {
      "cell_type": "code",
      "source": [
        "# 연습문제: 점수3개 입력받아 평균 계산\n",
        "n1 = int(input('1번 입력:'))\n",
        "n2 = int(input('2번 입력:'))\n",
        "n3 = int(input('3번 입력:'))\n",
        "\n",
        "avg = (n1 + n2 + n3) / 3\n",
        "print(avg)\n",
        "if avg >= 90:\n",
        "    print('A')\n",
        "elif avg >= 80:\n",
        "    print('B')\n",
        "elif avg >= 70:\n",
        "    print('C')\n",
        "else:\n",
        "    print('F')\n"
      ],
      "metadata": {
        "colab": {
          "base_uri": "https://localhost:8080/"
        },
        "id": "Ao-9ugRLRP75",
        "outputId": "98888694-0234-4c70-cecf-c6156d0153d3"
      },
      "execution_count": 8,
      "outputs": [
        {
          "output_type": "stream",
          "name": "stdout",
          "text": [
            "1번 입력:95\n",
            "2번 입력:80\n",
            "3번 입력:65\n",
            "80.0\n",
            "B\n"
          ]
        }
      ]
    },
    {
      "cell_type": "code",
      "source": [
        ""
      ],
      "metadata": {
        "id": "FIcxSaj4SAvQ"
      },
      "execution_count": null,
      "outputs": []
    }
  ]
}