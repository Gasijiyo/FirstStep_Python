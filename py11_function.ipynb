{
  "nbformat": 4,
  "nbformat_minor": 0,
  "metadata": {
    "colab": {
      "name": "py11_function.ipynb",
      "provenance": [],
      "collapsed_sections": [],
      "authorship_tag": "ABX9TyOoP4YlmTp3ZiL9zGffZ/Sk",
      "include_colab_link": true
    },
    "kernelspec": {
      "name": "python3",
      "display_name": "Python 3"
    },
    "language_info": {
      "name": "python"
    }
  },
  "cells": [
    {
      "cell_type": "markdown",
      "metadata": {
        "id": "view-in-github",
        "colab_type": "text"
      },
      "source": [
        "<a href=\"https://colab.research.google.com/github/Gasijiyo/FirstStep_Python/blob/master/py11_function.ipynb\" target=\"_parent\"><img src=\"https://colab.research.google.com/assets/colab-badge.svg\" alt=\"Open In Colab\"/></a>"
      ]
    },
    {
      "cell_type": "markdown",
      "source": [
        "# 1급 객체(first-class object)로서의 함수\n",
        "\n",
        "함수는 객체이다.\n",
        "* 함수는 변수에 할당할 수 있음.\n",
        "* 함수는 argument로 다른 함수의 전달할 수 있음.\n",
        "* 함수의 반환 값이 함수가 될 수 있음. 함수는 함수를 반환할 수 있음.\n",
        "* 함수 내부에서 다른 함수를 정의할 수 있음."
      ],
      "metadata": {
        "id": "lO6Yp--QLBII"
      }
    },
    {
      "cell_type": "code",
      "execution_count": 1,
      "metadata": {
        "colab": {
          "base_uri": "https://localhost:8080/"
        },
        "id": "TXAoMQXRHtNw",
        "outputId": "bec44aee-4c29-43cc-d164-83efd3750855"
      },
      "outputs": [
        {
          "output_type": "stream",
          "name": "stdout",
          "text": [
            "1\n"
          ]
        }
      ],
      "source": [
        "x = 1   # 객체는 변수에 할당(저장)할 수 있음.\n",
        "print(x)    # 객체는 함수의 argument로 전달 할 수 있음."
      ]
    },
    {
      "cell_type": "code",
      "source": [
        "# 함수 정의\n",
        "def twice(x): \n",
        "    return 2 * x"
      ],
      "metadata": {
        "id": "lsp4HgAjEvMT"
      },
      "execution_count": 2,
      "outputs": []
    },
    {
      "cell_type": "code",
      "source": [
        "print(twice)    # twice는 함수 객체 (function object)"
      ],
      "metadata": {
        "colab": {
          "base_uri": "https://localhost:8080/"
        },
        "id": "T070FPKfFRos",
        "outputId": "5d81abfb-9719-407d-c7f3-ba7ddf627804"
      },
      "execution_count": 3,
      "outputs": [
        {
          "output_type": "stream",
          "name": "stdout",
          "text": [
            "<function twice at 0x7f27fbafd7a0>\n"
          ]
        }
      ]
    },
    {
      "cell_type": "code",
      "source": [
        "result = twice(5)    # 함수 호출, 호출 결과(리턴 값)을 변수 result에 저장\n",
        "result"
      ],
      "metadata": {
        "colab": {
          "base_uri": "https://localhost:8080/"
        },
        "id": "yzFn19MgFS2h",
        "outputId": "1422a5a3-57a9-4c47-bf79-80f209f86782"
      },
      "execution_count": 4,
      "outputs": [
        {
          "output_type": "execute_result",
          "data": {
            "text/plain": [
              "10"
            ]
          },
          "metadata": {},
          "execution_count": 4
        }
      ]
    },
    {
      "cell_type": "code",
      "source": [
        "double = twice  # 함수는 변수에 할당할 수 있음.\n",
        "print(double)"
      ],
      "metadata": {
        "colab": {
          "base_uri": "https://localhost:8080/"
        },
        "id": "xpQj47eXFhw9",
        "outputId": "54d6ac11-a4ec-48f3-96ab-ffd64cb3767a"
      },
      "execution_count": 5,
      "outputs": [
        {
          "output_type": "stream",
          "name": "stdout",
          "text": [
            "<function twice at 0x7f27fbafd7a0>\n"
          ]
        }
      ]
    },
    {
      "cell_type": "code",
      "source": [
        "double(5)   # double 함수 호출 결과는 twice와 동일"
      ],
      "metadata": {
        "colab": {
          "base_uri": "https://localhost:8080/"
        },
        "id": "5ZkQvT7kGGu1",
        "outputId": "770851c4-6ff5-436e-bc91-a88ee46147ef"
      },
      "execution_count": 6,
      "outputs": [
        {
          "output_type": "execute_result",
          "data": {
            "text/plain": [
              "10"
            ]
          },
          "metadata": {},
          "execution_count": 6
        }
      ]
    },
    {
      "cell_type": "markdown",
      "source": [
        "argument로 함수를 전달받는 함수"
      ],
      "metadata": {
        "id": "jB3hlZp1HdzL"
      }
    },
    {
      "cell_type": "code",
      "source": [
        "def calculator(x, y, fn):\n",
        "    \"\"\"\n",
        "    x, y: 숫자(int, float)\n",
        "    fn: 숫자 두 개를 argument로 전달받고, 숫자를 리턴하는 함수\n",
        "    \"\"\"\n",
        "    result = fn(x,y)\n",
        "    return result"
      ],
      "metadata": {
        "id": "5C0C5iRZGzlv"
      },
      "execution_count": 7,
      "outputs": []
    },
    {
      "cell_type": "code",
      "source": [
        "def plus (x,y):\n",
        "    return x + y"
      ],
      "metadata": {
        "id": "NEeOcRAfH5Mp"
      },
      "execution_count": 8,
      "outputs": []
    },
    {
      "cell_type": "code",
      "source": [
        "calculator(1,2,plus)"
      ],
      "metadata": {
        "colab": {
          "base_uri": "https://localhost:8080/"
        },
        "id": "g1cv1orhISWX",
        "outputId": "c43de2d8-48ba-4f03-8c7c-946dc2ecc77d"
      },
      "execution_count": 9,
      "outputs": [
        {
          "output_type": "execute_result",
          "data": {
            "text/plain": [
              "3"
            ]
          },
          "metadata": {},
          "execution_count": 9
        }
      ]
    },
    {
      "cell_type": "code",
      "source": [
        "def minus(x, y):\n",
        "    return x - y"
      ],
      "metadata": {
        "id": "InEUCqeAIXl-"
      },
      "execution_count": 10,
      "outputs": []
    },
    {
      "cell_type": "code",
      "source": [
        "calculator (1,2, minus)"
      ],
      "metadata": {
        "colab": {
          "base_uri": "https://localhost:8080/"
        },
        "id": "icltmZZQJCMN",
        "outputId": "3bca4777-9995-4e0a-ba94-7ec32614b495"
      },
      "execution_count": 11,
      "outputs": [
        {
          "output_type": "execute_result",
          "data": {
            "text/plain": [
              "-1"
            ]
          },
          "metadata": {},
          "execution_count": 11
        }
      ]
    },
    {
      "cell_type": "markdown",
      "source": [
        "함수 내부에서 함수를 정의(선언)하고 함수를 리턴"
      ],
      "metadata": {
        "id": "2cvSoY0-KRcr"
      }
    },
    {
      "cell_type": "code",
      "source": [
        "def make_increment(n):\n",
        "    # 내부 함수 (inner function), 지역 함수 (local function): 함수 내부에서 정의하는 함수\n",
        "    def add_n(x):\n",
        "        return x + n \n",
        "    \n",
        "    # make_increment 함수는 add_n 함수(객체)를 리턴.\n",
        "    return add_n"
      ],
      "metadata": {
        "id": "-BW259V4JFfK"
      },
      "execution_count": 12,
      "outputs": []
    },
    {
      "cell_type": "code",
      "source": [
        "increase_by_2 = make_increment(2)\n",
        "print(increase_by_2)"
      ],
      "metadata": {
        "colab": {
          "base_uri": "https://localhost:8080/"
        },
        "id": "S1hY1uAxLJeF",
        "outputId": "b562f96a-4287-448d-b4fb-ee22d53275a6"
      },
      "execution_count": 13,
      "outputs": [
        {
          "output_type": "stream",
          "name": "stdout",
          "text": [
            "<function make_increment.<locals>.add_n at 0x7f27fbafad40>\n"
          ]
        }
      ]
    },
    {
      "cell_type": "code",
      "source": [
        "increase_by_2(10)"
      ],
      "metadata": {
        "colab": {
          "base_uri": "https://localhost:8080/"
        },
        "id": "9BTWnNjpLZRb",
        "outputId": "232139cf-acb9-4c4d-f99f-cc87b624b33f"
      },
      "execution_count": 14,
      "outputs": [
        {
          "output_type": "execute_result",
          "data": {
            "text/plain": [
              "12"
            ]
          },
          "metadata": {},
          "execution_count": 14
        }
      ]
    },
    {
      "cell_type": "code",
      "source": [
        "increase_by_10 = make_increment(10)\n",
        "print(increase_by_10)"
      ],
      "metadata": {
        "colab": {
          "base_uri": "https://localhost:8080/"
        },
        "id": "jTYJ9lDqL4rp",
        "outputId": "cc878ee2-db56-435c-e05e-f178fe679b1e"
      },
      "execution_count": 15,
      "outputs": [
        {
          "output_type": "stream",
          "name": "stdout",
          "text": [
            "<function make_increment.<locals>.add_n at 0x7f27fbab9b00>\n"
          ]
        }
      ]
    },
    {
      "cell_type": "code",
      "source": [
        "increase_by_10(5)"
      ],
      "metadata": {
        "colab": {
          "base_uri": "https://localhost:8080/"
        },
        "id": "eiib1YvjMHZF",
        "outputId": "2bdc12a7-3ca9-4394-fd12-3bb33f39bf23"
      },
      "execution_count": 16,
      "outputs": [
        {
          "output_type": "execute_result",
          "data": {
            "text/plain": [
              "15"
            ]
          },
          "metadata": {},
          "execution_count": 16
        }
      ]
    },
    {
      "cell_type": "markdown",
      "source": [
        "# 람다 표현식 (Lambda expression)"
      ],
      "metadata": {
        "id": "oOAhFLz-RxKq"
      }
    },
    {
      "cell_type": "markdown",
      "source": [
        "```\n",
        "lambda param1, param2, ... : expression (리턴 값)\n",
        "```\n",
        "\n",
        "* 이름이 없는 함수 (익명 함수, anonymous function)\n",
        "* 함수 이름 없이, 함수의 파라미터 선언과 반환 값 또는 반환 식으로 함수를 정의하는 방법.\n"
      ],
      "metadata": {
        "id": "3u4zEclmR2c5"
      }
    },
    {
      "cell_type": "code",
      "source": [
        "plus_one = lambda x: x + 1 # x를 argument로 전달받아서 x + 1을 리터하는 함수"
      ],
      "metadata": {
        "id": "MTsxNEzoMJVJ"
      },
      "execution_count": 17,
      "outputs": []
    },
    {
      "cell_type": "code",
      "source": [
        "plus_one(1) # 함수 호출"
      ],
      "metadata": {
        "colab": {
          "base_uri": "https://localhost:8080/"
        },
        "id": "_VMh_dsJS0az",
        "outputId": "6aee9159-267b-438c-e0db-04a3e4799680"
      },
      "execution_count": 18,
      "outputs": [
        {
          "output_type": "execute_result",
          "data": {
            "text/plain": [
              "2"
            ]
          },
          "metadata": {},
          "execution_count": 18
        }
      ]
    },
    {
      "cell_type": "code",
      "source": [
        "plus = lambda x, y : x + y #argument x, y를 전달받아서 x+y 리턴하는 함수"
      ],
      "metadata": {
        "id": "bfO2zD3FS_HO"
      },
      "execution_count": 19,
      "outputs": []
    },
    {
      "cell_type": "code",
      "source": [
        "plus(1,2)"
      ],
      "metadata": {
        "colab": {
          "base_uri": "https://localhost:8080/"
        },
        "id": "_WWeMqbGUI9_",
        "outputId": "5a615008-c956-4e33-cf5a-46240fa72d1d"
      },
      "execution_count": 20,
      "outputs": [
        {
          "output_type": "execute_result",
          "data": {
            "text/plain": [
              "3"
            ]
          },
          "metadata": {},
          "execution_count": 20
        }
      ]
    },
    {
      "cell_type": "markdown",
      "source": [
        "lambda 표현식은 함수의 argument로 전달하기 위해서 사용."
      ],
      "metadata": {
        "id": "8bt2buUEUera"
      }
    },
    {
      "cell_type": "code",
      "source": [
        "calculator(1,2, lambda x, y : x - y)"
      ],
      "metadata": {
        "colab": {
          "base_uri": "https://localhost:8080/"
        },
        "id": "pY_FUufmUKSC",
        "outputId": "42c6ae8f-afa1-4226-e272-bb1d9ed6d562"
      },
      "execution_count": 21,
      "outputs": [
        {
          "output_type": "execute_result",
          "data": {
            "text/plain": [
              "-1"
            ]
          },
          "metadata": {},
          "execution_count": 21
        }
      ]
    },
    {
      "cell_type": "code",
      "source": [
        "calculator(2,3, lambda x, y : x * y)"
      ],
      "metadata": {
        "colab": {
          "base_uri": "https://localhost:8080/"
        },
        "id": "RDRZ9c7OUw32",
        "outputId": "9cbaa065-b228-4414-a808-c3e620a68d44"
      },
      "execution_count": 22,
      "outputs": [
        {
          "output_type": "execute_result",
          "data": {
            "text/plain": [
              "6"
            ]
          },
          "metadata": {},
          "execution_count": 22
        }
      ]
    },
    {
      "cell_type": "code",
      "source": [
        "# calculator 함수에 x가 y보다 큰 지 아닌 지를 리턴하는 lambda를 전달\n",
        "calculator(6,6,lambda x, y : x > y)"
      ],
      "metadata": {
        "colab": {
          "base_uri": "https://localhost:8080/"
        },
        "id": "b8T5mnKQU_kH",
        "outputId": "739d7964-7264-4be2-cdd6-be57f16639cf"
      },
      "execution_count": 23,
      "outputs": [
        {
          "output_type": "execute_result",
          "data": {
            "text/plain": [
              "False"
            ]
          },
          "metadata": {},
          "execution_count": 23
        }
      ]
    },
    {
      "cell_type": "code",
      "source": [
        "# calculator 함수에 x,y 중 더 큰 수를 리턴하는 lambda 전달\n",
        "calculator(4,5,lambda x,y : max(x, y))\n",
        "\n",
        "# if-else 표현식: 값1 if 조건 else 값2\n",
        "calculator(4,5, lambda x,y: x if x > y else y)"
      ],
      "metadata": {
        "colab": {
          "base_uri": "https://localhost:8080/"
        },
        "id": "e95Ba545Vc-N",
        "outputId": "6e0b0e55-72c2-4042-da89-3e859244e565"
      },
      "execution_count": 24,
      "outputs": [
        {
          "output_type": "execute_result",
          "data": {
            "text/plain": [
              "5"
            ]
          },
          "metadata": {},
          "execution_count": 24
        }
      ]
    },
    {
      "cell_type": "markdown",
      "source": [
        "## lambda 표현식 응용\n",
        "\n",
        "* filtering\n",
        "    * 성별 컬럼에서 값이 'Male' 또는 'Female'인 데이터들만 선택\n",
        "* mapping\n",
        "    * 성별 컬럼의 값이 'Male'이면 1, 'Female'이면 0으로 매핑."
      ],
      "metadata": {
        "id": "W7oq8tx-X4Fh"
      }
    },
    {
      "cell_type": "code",
      "source": [
        "numbers = [1,-2,3,-4,-5,6,7,8]"
      ],
      "metadata": {
        "id": "0R3bPZoCWkxY"
      },
      "execution_count": 25,
      "outputs": []
    },
    {
      "cell_type": "code",
      "source": [
        "# numbers의 원소들 중 양수들만 선택한 리스트.\n",
        "# filter(True / False를 리턴하는 함수, 리스트)\n",
        "result = filter(lambda x: x>0, numbers)\n",
        "result  # 필터링이 끝난 객체"
      ],
      "metadata": {
        "colab": {
          "base_uri": "https://localhost:8080/"
        },
        "id": "BIPNSfCod_GJ",
        "outputId": "2cb6ea39-b5e7-4bab-cb9b-24c899b6ccb9"
      },
      "execution_count": 26,
      "outputs": [
        {
          "output_type": "execute_result",
          "data": {
            "text/plain": [
              "<filter at 0x7f280444f490>"
            ]
          },
          "metadata": {},
          "execution_count": 26
        }
      ]
    },
    {
      "cell_type": "code",
      "source": [
        "list(result)    # 필터링이 끝난 객체를 list타입으로 변환"
      ],
      "metadata": {
        "colab": {
          "base_uri": "https://localhost:8080/"
        },
        "id": "X9rKzdBbe_4G",
        "outputId": "5524d317-a220-4b5e-e432-d95921a84f54"
      },
      "execution_count": 27,
      "outputs": [
        {
          "output_type": "execute_result",
          "data": {
            "text/plain": [
              "[1, 3, 6, 7, 8]"
            ]
          },
          "metadata": {},
          "execution_count": 27
        }
      ]
    },
    {
      "cell_type": "code",
      "source": [
        "result = filter(lambda x: x<0, numbers)\n",
        "list(result)"
      ],
      "metadata": {
        "colab": {
          "base_uri": "https://localhost:8080/"
        },
        "id": "ItR_3apRfYXq",
        "outputId": "ff100668-ccf1-489d-ab29-027aa3bc9df8"
      },
      "execution_count": 28,
      "outputs": [
        {
          "output_type": "execute_result",
          "data": {
            "text/plain": [
              "[-2, -4, -5]"
            ]
          },
          "metadata": {},
          "execution_count": 28
        }
      ]
    },
    {
      "cell_type": "code",
      "source": [
        "# numbers에서 홀수들만 필터링\n",
        "result = filter(lambda x: x%2, numbers)\n",
        "list(result)"
      ],
      "metadata": {
        "colab": {
          "base_uri": "https://localhost:8080/"
        },
        "id": "frBNI-ljgdT_",
        "outputId": "46909ec3-ed7a-43ac-b3e9-b5b3b2a0aa2c"
      },
      "execution_count": 29,
      "outputs": [
        {
          "output_type": "execute_result",
          "data": {
            "text/plain": [
              "[1, 3, -5, 7]"
            ]
          },
          "metadata": {},
          "execution_count": 29
        }
      ]
    },
    {
      "cell_type": "code",
      "source": [
        "# numbers에서 짝수는 'even', 홀수는 'odd'로 매핑\n",
        "result = map(lambda x: 'even' if x%2 == 0 else 'odd', numbers)\n",
        "list(result)"
      ],
      "metadata": {
        "colab": {
          "base_uri": "https://localhost:8080/"
        },
        "id": "jDLAufoYhd2U",
        "outputId": "59041841-8f3a-410f-af6c-e0d820154eac"
      },
      "execution_count": 30,
      "outputs": [
        {
          "output_type": "execute_result",
          "data": {
            "text/plain": [
              "['odd', 'even', 'odd', 'even', 'odd', 'even', 'odd', 'even']"
            ]
          },
          "metadata": {},
          "execution_count": 30
        }
      ]
    },
    {
      "cell_type": "code",
      "source": [
        "genders = ['Male', 'Female', 'Female', 'Male']"
      ],
      "metadata": {
        "id": "zDpDrt2eioSk"
      },
      "execution_count": 31,
      "outputs": []
    },
    {
      "cell_type": "code",
      "source": [
        "# genders에서 'Female'만 선택 (filter)\n",
        "result = filter(lambda x : x=='Female', genders)\n",
        "list(result)"
      ],
      "metadata": {
        "colab": {
          "base_uri": "https://localhost:8080/"
        },
        "id": "BH8HU1Azjqrf",
        "outputId": "740cf252-8273-4b25-e367-bf71c367b65d"
      },
      "execution_count": 32,
      "outputs": [
        {
          "output_type": "execute_result",
          "data": {
            "text/plain": [
              "['Female', 'Female']"
            ]
          },
          "metadata": {},
          "execution_count": 32
        }
      ]
    },
    {
      "cell_type": "code",
      "source": [
        "# genders에서 male -> 1, female -> 0 매핑\n",
        "result = map(lambda x: 1 if x == 'Male' else 0, genders)\n",
        "list(result)"
      ],
      "metadata": {
        "colab": {
          "base_uri": "https://localhost:8080/"
        },
        "id": "zZ9BbYb8jwGa",
        "outputId": "cc2325d9-61fb-45c4-c466-4c53509f453a"
      },
      "execution_count": 33,
      "outputs": [
        {
          "output_type": "execute_result",
          "data": {
            "text/plain": [
              "[1, 0, 0, 1]"
            ]
          },
          "metadata": {},
          "execution_count": 33
        }
      ]
    },
    {
      "cell_type": "markdown",
      "source": [
        "filter 함수를 직접 구현"
      ],
      "metadata": {
        "id": "czqdx_acl0iZ"
      }
    },
    {
      "cell_type": "code",
      "source": [
        "def my_filter(iterable, fn):\n",
        "    \"\"\" 리스트 iterable의 원소를 함수 fn의 argument로 전달했을 때, \n",
        "    fn이 True를 리턴하는 원소들로 이루어진 리스트를 리턴.\n",
        "    iterable: 리스트.\n",
        "    fn: argument가 한 개 이고 리턴 타입은 bool인 함수 \n",
        "    \"\"\"\n",
        "    # result = [] # 조건을 만족하는 원소들(필터링한 원소들)을 저장하는 빈 리스트\n",
        "    # for x in iterable:  # 리스트의 원소들을 차례로 반복하면서\n",
        "    #     if fn(x):   # 조건을 만족 시\n",
        "    #         result.append(x)    # 결과 리스트에 추가\n",
        "    # return result\n",
        "\n",
        "    return [x for x in iterable if fn(x)]"
      ],
      "metadata": {
        "id": "Q6h25-YZkLCM"
      },
      "execution_count": 34,
      "outputs": []
    },
    {
      "cell_type": "code",
      "source": [
        "numbers\n",
        "# numbers에서 양수들만 필터링\n",
        "my_filter(numbers, lambda x: x > 0)"
      ],
      "metadata": {
        "colab": {
          "base_uri": "https://localhost:8080/"
        },
        "id": "KpHSzX8WnZDO",
        "outputId": "f8b43547-4293-489b-e662-517ec65a51fa"
      },
      "execution_count": 35,
      "outputs": [
        {
          "output_type": "execute_result",
          "data": {
            "text/plain": [
              "[1, 3, 6, 7, 8]"
            ]
          },
          "metadata": {},
          "execution_count": 35
        }
      ]
    },
    {
      "cell_type": "code",
      "source": [
        "languages = ['Java', 'HTML', 'CSS', 'JavaScript', 'Python']\n",
        "# my_filter() 사용해서 글자수가 5글자 이상인 원소들만 필터링"
      ],
      "metadata": {
        "id": "8EhBkSuun1Bb"
      },
      "execution_count": 36,
      "outputs": []
    },
    {
      "cell_type": "code",
      "source": [
        "my_filter(languages, lambda x: len(x) >= 5)"
      ],
      "metadata": {
        "colab": {
          "base_uri": "https://localhost:8080/"
        },
        "id": "TOJ9dTsNp34d",
        "outputId": "9662482e-13af-4f00-f0a6-71d98ce4c02b"
      },
      "execution_count": 37,
      "outputs": [
        {
          "output_type": "execute_result",
          "data": {
            "text/plain": [
              "['JavaScript', 'Python']"
            ]
          },
          "metadata": {},
          "execution_count": 37
        }
      ]
    },
    {
      "cell_type": "code",
      "source": [
        "def my_mapper(iterable, fn):\n",
        "    \"\"\"\n",
        "    iterable의 원소를 차례로 함수 fn의 argument로 전달해서, 함수 fn의 리턴값들로 이루어진 리스트를 리턴.\n",
        "\n",
        "    iterable: 리스트.\n",
        "    fn: argument가 한 개 이고 값을 반환하는 함수\n",
        "    \"\"\"    \n",
        "    result = []\n",
        "    for x in iterable:\n",
        "        result.append(fn(x))\n",
        "    return result\n",
        "\n",
        "#   return [fn(x) for x in literable]"
      ],
      "metadata": {
        "id": "2WDCIILSqJkw"
      },
      "execution_count": 38,
      "outputs": []
    },
    {
      "cell_type": "code",
      "source": [
        "result1 = my_mapper(languages, lambda x: 'long' if len(x) >= 5 else 'short')\n",
        "result1"
      ],
      "metadata": {
        "colab": {
          "base_uri": "https://localhost:8080/"
        },
        "id": "Ku5UD9X1v6JA",
        "outputId": "11e1b4e3-2d64-4246-ab0c-c796cb1361b7"
      },
      "execution_count": 50,
      "outputs": [
        {
          "output_type": "execute_result",
          "data": {
            "text/plain": [
              "['short', 'short', 'short', 'long', 'long']"
            ]
          },
          "metadata": {},
          "execution_count": 50
        }
      ]
    },
    {
      "cell_type": "code",
      "source": [
        "test1 = my_mapper(result1, lambda x: '0' if x == 'short' else '1')\n",
        "test1"
      ],
      "metadata": {
        "colab": {
          "base_uri": "https://localhost:8080/"
        },
        "id": "NB6-dDzBZFKN",
        "outputId": "cf6436e8-e428-4f31-a9ae-003e63be2d7d"
      },
      "execution_count": 51,
      "outputs": [
        {
          "output_type": "execute_result",
          "data": {
            "text/plain": [
              "['0', '0', '0', '1', '1']"
            ]
          },
          "metadata": {},
          "execution_count": 51
        }
      ]
    },
    {
      "cell_type": "code",
      "source": [
        "def my_mapper2(iterable, fn):\n",
        "    \"\"\"\n",
        "    iterable의 원소를 key로 하고\n",
        "    iterable의 원소를 함수 fn의 argument로 사용했을 때의 리턴 값을 value로 하는 dict를 리턴.\n",
        "\n",
        "    iterable: 리스트\n",
        "    fn: argument가 한 개 이고 값을 반환하는 함수.\n",
        "    \"\"\"\n",
        "    result = {}\n",
        "    for x in iterable:\n",
        "        result[x] = fn(x)\n",
        "    return result\n",
        "\n",
        "#   return {x: fn(x) for x in literable} "
      ],
      "metadata": {
        "id": "Jb86Nd2Rtk8W"
      },
      "execution_count": 40,
      "outputs": []
    },
    {
      "cell_type": "code",
      "source": [
        "result2 = my_mapper2(languages, lambda x: 'easy' if x != 'Python' else 'hard')\n",
        "result2"
      ],
      "metadata": {
        "colab": {
          "base_uri": "https://localhost:8080/"
        },
        "id": "7xFelYjHvy31",
        "outputId": "4d7e8f4f-fc76-4210-fcf9-8c0b21edce31"
      },
      "execution_count": 53,
      "outputs": [
        {
          "output_type": "execute_result",
          "data": {
            "text/plain": [
              "{'CSS': 'easy',\n",
              " 'HTML': 'easy',\n",
              " 'Java': 'easy',\n",
              " 'JavaScript': 'easy',\n",
              " 'Python': 'hard'}"
            ]
          },
          "metadata": {},
          "execution_count": 53
        }
      ]
    },
    {
      "cell_type": "code",
      "source": [
        "result2.keys()"
      ],
      "metadata": {
        "colab": {
          "base_uri": "https://localhost:8080/"
        },
        "id": "Q5q2kVA7b0Bj",
        "outputId": "a79487df-2641-4d79-8000-083d5b8efab1"
      },
      "execution_count": 57,
      "outputs": [
        {
          "output_type": "execute_result",
          "data": {
            "text/plain": [
              "dict_keys(['Java', 'HTML', 'CSS', 'JavaScript', 'Python'])"
            ]
          },
          "metadata": {},
          "execution_count": 57
        }
      ]
    },
    {
      "cell_type": "code",
      "source": [
        "my_mapper2(languages, lambda x: len(x))"
      ],
      "metadata": {
        "colab": {
          "base_uri": "https://localhost:8080/"
        },
        "id": "APGq13x0aRUi",
        "outputId": "f0d39036-eb57-4618-f6f9-1561001e96e5"
      },
      "execution_count": 56,
      "outputs": [
        {
          "output_type": "execute_result",
          "data": {
            "text/plain": [
              "{'CSS': 3, 'HTML': 4, 'Java': 4, 'JavaScript': 10, 'Python': 6}"
            ]
          },
          "metadata": {},
          "execution_count": 56
        }
      ]
    },
    {
      "cell_type": "code",
      "source": [
        "my_mapper2(numbers, lambda x: 'Even' if x % 2 == 0 else 'Odd')"
      ],
      "metadata": {
        "id": "9jZSNoQIwcFB",
        "colab": {
          "base_uri": "https://localhost:8080/"
        },
        "outputId": "346f59ce-706f-409b-de10-9a79b4882426"
      },
      "execution_count": 52,
      "outputs": [
        {
          "output_type": "execute_result",
          "data": {
            "text/plain": [
              "{-5: 'Odd',\n",
              " -4: 'Even',\n",
              " -2: 'Even',\n",
              " 1: 'Odd',\n",
              " 3: 'Odd',\n",
              " 6: 'Even',\n",
              " 7: 'Odd',\n",
              " 8: 'Even'}"
            ]
          },
          "metadata": {},
          "execution_count": 52
        }
      ]
    },
    {
      "cell_type": "code",
      "source": [
        ""
      ],
      "metadata": {
        "id": "FtDUltz2aNsV"
      },
      "execution_count": null,
      "outputs": []
    }
  ]
}