{
  "nbformat": 4,
  "nbformat_minor": 0,
  "metadata": {
    "colab": {
      "name": "py13_inheritance.ipynb",
      "provenance": [],
      "collapsed_sections": [],
      "authorship_tag": "ABX9TyMxqYsIOxLfv9ToFl7czp56",
      "include_colab_link": true
    },
    "kernelspec": {
      "name": "python3",
      "display_name": "Python 3"
    },
    "language_info": {
      "name": "python"
    }
  },
  "cells": [
    {
      "cell_type": "markdown",
      "metadata": {
        "id": "view-in-github",
        "colab_type": "text"
      },
      "source": [
        "<a href=\"https://colab.research.google.com/github/Gasijiyo/FirstStep_Python/blob/master/py13_inheritance.ipynb\" target=\"_parent\"><img src=\"https://colab.research.google.com/assets/colab-badge.svg\" alt=\"Open In Colab\"/></a>"
      ]
    },
    {
      "cell_type": "markdown",
      "source": [
        "# 상속 (Inheritance)\n",
        "\n",
        "* super class(상위 클래스), parent class(부모 클래스), base class(기본 클래스)\n",
        "* sub class(하위 클래스), child class(자식 클래스), derive class(유도 클래스)\n",
        "* 상속: 상위 클래스의 속성들(attributes)과 기능들(methods)을 하위 클래스에서 재사용하는 것.\n",
        "* IS-A 관계가 성립하는 객체들을 상속을 사용해서 구현함.\n",
        "    * 학생은 사람이다. (Student IS A Person )\n",
        "        * Person: super class\n",
        "        * Student: sub class\n",
        "* HAS-A 관계가 성립하는 객체들을 일반적으로 상속이 아니라 attribute(속성)로  클래스를 구현함.\n",
        "    * 학생은 성적을 가지고 있다. (Student HAS A score)\n",
        "        * Student 클래스의 속성 중 하나로 Score 클래스의 객체를 사용\n",
        "        "
      ],
      "metadata": {
        "id": "mZyKfn90etQj"
      }
    },
    {
      "cell_type": "code",
      "execution_count": null,
      "metadata": {
        "id": "ftapBFafehF0"
      },
      "outputs": [],
      "source": [
        "class Person:\n",
        "    def __init__(self, name):\n",
        "        self.name = name\n",
        "\n",
        "    def say_hello(self):\n",
        "        print(f'안녕하세요, 저는 {self.name}입니다.')    "
      ]
    },
    {
      "cell_type": "code",
      "source": [
        "oh_ssam = Person('오쌤')"
      ],
      "metadata": {
        "id": "gBNSDq1whu7s"
      },
      "execution_count": null,
      "outputs": []
    },
    {
      "cell_type": "code",
      "source": [
        "oh_ssam.say_hello()"
      ],
      "metadata": {
        "colab": {
          "base_uri": "https://localhost:8080/"
        },
        "id": "6KdXpi6eh63C",
        "outputId": "e64370e1-d04c-4c2a-8c55-04e54c5e8f35"
      },
      "execution_count": null,
      "outputs": [
        {
          "output_type": "stream",
          "name": "stdout",
          "text": [
            "안녕하세요, 저는 오쌤입니다.\n"
          ]
        }
      ]
    },
    {
      "cell_type": "markdown",
      "source": [
        "SuperClass를 상속받는 SubClass를 정의하는 방법:\n",
        "\n",
        "```\n",
        "class SubClass(SuperClass):\n",
        "    코드 작성\n",
        "```"
      ],
      "metadata": {
        "id": "lzCFeS3Bi9c6"
      }
    },
    {
      "cell_type": "code",
      "source": [
        "# Student IS A Person\n",
        "class Student(Person):\n",
        "    pass"
      ],
      "metadata": {
        "id": "9KLHZ56KiS59"
      },
      "execution_count": null,
      "outputs": []
    },
    {
      "cell_type": "code",
      "source": [
        "stu = Student('홍길동')"
      ],
      "metadata": {
        "id": "37blakMOkHtw"
      },
      "execution_count": null,
      "outputs": []
    },
    {
      "cell_type": "code",
      "source": [
        "stu.say_hello()"
      ],
      "metadata": {
        "colab": {
          "base_uri": "https://localhost:8080/"
        },
        "id": "8zmXr896kx_H",
        "outputId": "aa1313fd-01e7-4909-dfa2-8c0ebbd27371"
      },
      "execution_count": null,
      "outputs": [
        {
          "output_type": "stream",
          "name": "stdout",
          "text": [
            "안녕하세요, 저는 홍길동입니다.\n"
          ]
        }
      ]
    },
    {
      "cell_type": "markdown",
      "source": [
        "# Method Override\n",
        "\n",
        "* 상위 클래스의 메소드를 하위 클래스에서 재정의하는 것.\n",
        "    * Python은 메소드의 이름만 같으면(파라미터 개수와 상관없이) 메소드가 재정의됨. - override\n",
        "    * __(주의)__: Java에서는 메소드의 이름과 파라미터(타입, 개수, 순서)가 동일한 경우 override. 메소드의 이름이 같고 파라미터가 다른 경우는 overloading(같은 이름의 메소드가 2개 이상 존재).\n",
        "* 하위 클래스에서 override가 된 상위 클래스의 메소드를 명시적으로 호출하기 위해서는 super().method_name(arg)와 같은 방식으로 사용함."
      ],
      "metadata": {
        "id": "9Ux9TdBTpG1K"
      }
    },
    {
      "cell_type": "code",
      "source": [
        "# BusinessPerson IS A Person\n",
        "class BusinessPerson(Person):\n",
        "    # 부모클래스 Person의 __init__ 메소드를 override\n",
        "    def __init__(self, name, company = None):\n",
        "        # 부모 클래스 Person의 __init__ 메소드를 호출\n",
        "        super().__init__(name) \n",
        "        self.company = company  # 자식 클래스만 가지고 있는 속성.\n",
        "\n",
        "    # 부모 클래스 Person의 say_hello 메소드를 override\n",
        "    def say_hello(self):\n",
        "        # 부모 클래스 Person의 say_hello 메소드를 명식적으로 호출 - 부모의 기능을 그대로 사용.\n",
        "        super().say_hello()\n",
        "        # 부모의 기능을 확장 - 추가 기능.\n",
        "        print(f'저는 {self.company} 사원입니다.')        "
      ],
      "metadata": {
        "id": "y3PssThEk0QM"
      },
      "execution_count": null,
      "outputs": []
    },
    {
      "cell_type": "code",
      "source": [
        "gildong = BusinessPerson(name='홍길동', company='아이티윌')"
      ],
      "metadata": {
        "id": "3S-AJu3OrVZc"
      },
      "execution_count": null,
      "outputs": []
    },
    {
      "cell_type": "code",
      "source": [
        "gildong.say_hello()"
      ],
      "metadata": {
        "colab": {
          "base_uri": "https://localhost:8080/"
        },
        "id": "RmQezhLktuT6",
        "outputId": "76a08a97-ef2c-441d-9857-1ba0158c4075"
      },
      "execution_count": null,
      "outputs": [
        {
          "output_type": "stream",
          "name": "stdout",
          "text": [
            "안녕하세요, 저는 홍길동입니다.\n",
            "저는 아이티윌 사원입니다.\n"
          ]
        }
      ]
    },
    {
      "cell_type": "markdown",
      "source": [
        "# `isinstance(obj, class)` 함수\n",
        "\n",
        "객체(obj)가 클래스(class)의 인스턴스이면 true, 그렇지 않으면 False를 리턴."
      ],
      "metadata": {
        "id": "ymcItuzH1qhA"
      }
    },
    {
      "cell_type": "code",
      "source": [
        "isinstance(gildong, BusinessPerson)\n",
        "# gildong은 Person 클래스의 인스턴스이다."
      ],
      "metadata": {
        "colab": {
          "base_uri": "https://localhost:8080/"
        },
        "id": "dGl_VKfYt0MG",
        "outputId": "eff29577-e82f-4596-8d83-20d6e181d8c0"
      },
      "execution_count": null,
      "outputs": [
        {
          "output_type": "execute_result",
          "data": {
            "text/plain": [
              "True"
            ]
          },
          "metadata": {},
          "execution_count": 12
        }
      ]
    },
    {
      "cell_type": "code",
      "source": [
        "p = Person('무명')"
      ],
      "metadata": {
        "id": "-Goe31vK2Ub2"
      },
      "execution_count": null,
      "outputs": []
    },
    {
      "cell_type": "code",
      "source": [
        "isinstance(p, Person)   \n",
        "# p는 Person 클래스의 인스턴스이다."
      ],
      "metadata": {
        "colab": {
          "base_uri": "https://localhost:8080/"
        },
        "id": "sXcPrmYL3QI6",
        "outputId": "7a8979e2-e1d8-4ea2-ded8-81fc7fb1e47b"
      },
      "execution_count": null,
      "outputs": [
        {
          "output_type": "execute_result",
          "data": {
            "text/plain": [
              "True"
            ]
          },
          "metadata": {},
          "execution_count": 14
        }
      ]
    },
    {
      "cell_type": "code",
      "source": [
        "isinstance(p, BusinessPerson)\n",
        "# p는 BusinessPerson 클래스의 인스턴스이다."
      ],
      "metadata": {
        "colab": {
          "base_uri": "https://localhost:8080/"
        },
        "id": "GOUygdLU3U41",
        "outputId": "91797d93-c52b-4909-ab1a-2c7261d303e2"
      },
      "execution_count": null,
      "outputs": [
        {
          "output_type": "execute_result",
          "data": {
            "text/plain": [
              "False"
            ]
          },
          "metadata": {},
          "execution_count": 16
        }
      ]
    },
    {
      "cell_type": "markdown",
      "source": [
        "# `isinstance` 함수 활용"
      ],
      "metadata": {
        "id": "l9HH-wjv4M7g"
      }
    },
    {
      "cell_type": "code",
      "source": [
        "class Animal:\n",
        "    def move(self):\n",
        "        pass\n",
        "\n",
        "class Dog(Animal):  # IS-A\n",
        "    # override\n",
        "    def move(self):\n",
        "        print('강아지는 총총총...')\n",
        "\n",
        "class Bird(Animal): # IS-A\n",
        "    # override\n",
        "    def move(self):\n",
        "        print('새는 훨훨~')\n",
        "\n",
        "class Tree:\n",
        "    pass"
      ],
      "metadata": {
        "id": "XxDbY3A73YGT"
      },
      "execution_count": null,
      "outputs": []
    },
    {
      "cell_type": "code",
      "source": [
        "# Python의 리스트(list)는 다른 타입의 값들을 저장 가능.\n",
        "array = [Dog(), Bird(), Tree()]\n",
        "for x in array:\n",
        "    # move()메소드를 가지고 있으면\n",
        "    if isinstance(x, Animal):\n",
        "        x.move()"
      ],
      "metadata": {
        "colab": {
          "base_uri": "https://localhost:8080/"
        },
        "id": "TVQj8pOM4fdq",
        "outputId": "39214ac2-cef9-42b9-fa16-2ae2319a767c"
      },
      "execution_count": null,
      "outputs": [
        {
          "output_type": "stream",
          "name": "stdout",
          "text": [
            "강아지는 총총총...\n",
            "새는 훨훨~\n"
          ]
        }
      ]
    },
    {
      "cell_type": "code",
      "source": [
        ""
      ],
      "metadata": {
        "id": "f_HWAOs9567F"
      },
      "execution_count": null,
      "outputs": []
    }
  ]
}