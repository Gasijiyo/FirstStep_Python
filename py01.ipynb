{
  "nbformat": 4,
  "nbformat_minor": 0,
  "metadata": {
    "colab": {
      "name": "py01.ipynb",
      "provenance": [],
      "collapsed_sections": [],
      "authorship_tag": "ABX9TyOIT3fKajNwc55QyFJl2xBG",
      "include_colab_link": true
    },
    "kernelspec": {
      "name": "python3",
      "display_name": "Python 3"
    },
    "language_info": {
      "name": "python"
    }
  },
  "cells": [
    {
      "cell_type": "markdown",
      "metadata": {
        "id": "view-in-github",
        "colab_type": "text"
      },
      "source": [
        "<a href=\"https://colab.research.google.com/github/Gasijiyo/FirstStep_Python/blob/master/py01.ipynb\" target=\"_parent\"><img src=\"https://colab.research.google.com/assets/colab-badge.svg\" alt=\"Open In Colab\"/></a>"
      ]
    },
    {
      "cell_type": "markdown",
      "source": [
        "# Python 버젼 확인"
      ],
      "metadata": {
        "id": "JDJyDfXUXjmQ"
      }
    },
    {
      "cell_type": "code",
      "source": [
        "# Colab 가상머신에 설치된 Python 버젼 확인\n",
        "!python --version"
      ],
      "metadata": {
        "colab": {
          "base_uri": "https://localhost:8080/"
        },
        "id": "ufzlBgupUS3p",
        "outputId": "2c317714-d157-46b0-98c8-cbc49ed83e59"
      },
      "execution_count": 1,
      "outputs": [
        {
          "output_type": "stream",
          "name": "stdout",
          "text": [
            "Python 3.7.12\n"
          ]
        }
      ]
    },
    {
      "cell_type": "markdown",
      "source": [
        "# print 함수"
      ],
      "metadata": {
        "id": "-6hV9bzHYXet"
      }
    },
    {
      "cell_type": "code",
      "execution_count": null,
      "metadata": {
        "id": "U9xED7uQSSY8"
      },
      "outputs": [],
      "source": [
        "print('Hello, Python?')"
      ]
    },
    {
      "cell_type": "markdown",
      "source": [
        "## 여러가지 print 방법"
      ],
      "metadata": {
        "id": "eQpxxet6em7R"
      }
    },
    {
      "cell_type": "code",
      "source": [
        "print('안녕', 'hello', 'Bon Jour')"
      ],
      "metadata": {
        "id": "lsDxkqFkejf_"
      },
      "execution_count": null,
      "outputs": []
    },
    {
      "cell_type": "markdown",
      "source": [
        "`print()` 함수에 여러 개의 argument를 전달하면, 각 argument들을 공백으로 연결해서 한 줄에 출력 "
      ],
      "metadata": {
        "id": "ujBmGokZfei0"
      }
    },
    {
      "cell_type": "code",
      "source": [
        "print(1,2,3)"
      ],
      "metadata": {
        "colab": {
          "base_uri": "https://localhost:8080/"
        },
        "id": "O6kTCF7GfrBy",
        "outputId": "49add0be-1c7a-4e4b-b168-4cfc6c557fd3"
      },
      "execution_count": null,
      "outputs": [
        {
          "output_type": "stream",
          "name": "stdout",
          "text": [
            "1 2 3\n"
          ]
        }
      ]
    },
    {
      "cell_type": "code",
      "source": [
        "print(1, '+', 2, '=', 3)"
      ],
      "metadata": {
        "colab": {
          "base_uri": "https://localhost:8080/"
        },
        "id": "Esruh0Nof0OF",
        "outputId": "b7257f80-273b-473f-dcc8-fe911ceaea21"
      },
      "execution_count": null,
      "outputs": [
        {
          "output_type": "stream",
          "name": "stdout",
          "text": [
            "1 + 2 = 3\n"
          ]
        }
      ]
    },
    {
      "cell_type": "code",
      "source": [
        "print(1, '+', 2, '=', 1+2)"
      ],
      "metadata": {
        "colab": {
          "base_uri": "https://localhost:8080/"
        },
        "id": "k3hyPZm3f-_F",
        "outputId": "1b822fc8-0e3d-4064-8c85-016abd22e461"
      },
      "execution_count": null,
      "outputs": [
        {
          "output_type": "stream",
          "name": "stdout",
          "text": [
            "1 + 2 = 3\n"
          ]
        }
      ]
    },
    {
      "cell_type": "markdown",
      "source": [
        "format() 메소드를 사용한 출력"
      ],
      "metadata": {
        "id": "7C8XRw-4hQt1"
      }
    },
    {
      "cell_type": "code",
      "source": [
        "print('{} + {} = {}'.format(1,2,(1+2)))"
      ],
      "metadata": {
        "colab": {
          "base_uri": "https://localhost:8080/"
        },
        "id": "H_-9t850gb0e",
        "outputId": "058c0eb9-79be-4c8e-93be-53af1fd2516d"
      },
      "execution_count": null,
      "outputs": [
        {
          "output_type": "stream",
          "name": "stdout",
          "text": [
            "1 + 2 = 3\n"
          ]
        }
      ]
    },
    {
      "cell_type": "code",
      "source": [
        ""
      ],
      "metadata": {
        "id": "lYi18Wcxh1M_"
      },
      "execution_count": null,
      "outputs": []
    }
  ]
}