{
  "nbformat": 4,
  "nbformat_minor": 0,
  "metadata": {
    "colab": {
      "name": "py01.ipynb",
      "provenance": [],
      "collapsed_sections": [],
      "authorship_tag": "ABX9TyMAZWgagze8QsvwaPQc6ESh",
      "include_colab_link": true
    },
    "kernelspec": {
      "name": "python3",
      "display_name": "Python 3"
    },
    "language_info": {
      "name": "python"
    }
  },
  "cells": [
    {
      "cell_type": "markdown",
      "metadata": {
        "id": "view-in-github",
        "colab_type": "text"
      },
      "source": [
        "<a href=\"https://colab.research.google.com/github/Gasijiyo/FirstStep_Python/blob/master/py01.ipynb\" target=\"_parent\"><img src=\"https://colab.research.google.com/assets/colab-badge.svg\" alt=\"Open In Colab\"/></a>"
      ]
    },
    {
      "cell_type": "markdown",
      "source": [
        "# Python 버젼 확인"
      ],
      "metadata": {
        "id": "JDJyDfXUXjmQ"
      }
    },
    {
      "cell_type": "code",
      "source": [
        "# Colab 가상머신에 설치된 Python 버젼 확인\n",
        "!python --version"
      ],
      "metadata": {
        "colab": {
          "base_uri": "https://localhost:8080/"
        },
        "id": "ufzlBgupUS3p",
        "outputId": "2c317714-d157-46b0-98c8-cbc49ed83e59"
      },
      "execution_count": 1,
      "outputs": [
        {
          "output_type": "stream",
          "name": "stdout",
          "text": [
            "Python 3.7.12\n"
          ]
        }
      ]
    },
    {
      "cell_type": "markdown",
      "source": [
        "# print 함수"
      ],
      "metadata": {
        "id": "-6hV9bzHYXet"
      }
    },
    {
      "cell_type": "code",
      "execution_count": null,
      "metadata": {
        "id": "U9xED7uQSSY8"
      },
      "outputs": [],
      "source": [
        "print('Hello, Python?')"
      ]
    },
    {
      "cell_type": "markdown",
      "source": [
        "## 여러가지 print 방법"
      ],
      "metadata": {
        "id": "eQpxxet6em7R"
      }
    },
    {
      "cell_type": "code",
      "source": [
        "print('안녕', 'hello', 'Bon Jour')"
      ],
      "metadata": {
        "id": "lsDxkqFkejf_"
      },
      "execution_count": null,
      "outputs": []
    },
    {
      "cell_type": "markdown",
      "source": [
        "`print()` 함수에 여러 개의 argument를 전달하면, 각 argument들을 공백으로 연결해서 한 줄에 출력 "
      ],
      "metadata": {
        "id": "ujBmGokZfei0"
      }
    },
    {
      "cell_type": "code",
      "source": [
        "print(1,2,3)"
      ],
      "metadata": {
        "colab": {
          "base_uri": "https://localhost:8080/"
        },
        "id": "O6kTCF7GfrBy",
        "outputId": "49add0be-1c7a-4e4b-b168-4cfc6c557fd3"
      },
      "execution_count": null,
      "outputs": [
        {
          "output_type": "stream",
          "name": "stdout",
          "text": [
            "1 2 3\n"
          ]
        }
      ]
    },
    {
      "cell_type": "code",
      "source": [
        "print(1, '+', 2, '=', 3)"
      ],
      "metadata": {
        "colab": {
          "base_uri": "https://localhost:8080/"
        },
        "id": "Esruh0Nof0OF",
        "outputId": "b7257f80-273b-473f-dcc8-fe911ceaea21"
      },
      "execution_count": null,
      "outputs": [
        {
          "output_type": "stream",
          "name": "stdout",
          "text": [
            "1 + 2 = 3\n"
          ]
        }
      ]
    },
    {
      "cell_type": "code",
      "source": [
        "print(1, '+', 2, '=', 1+2)"
      ],
      "metadata": {
        "colab": {
          "base_uri": "https://localhost:8080/"
        },
        "id": "k3hyPZm3f-_F",
        "outputId": "1b822fc8-0e3d-4064-8c85-016abd22e461"
      },
      "execution_count": null,
      "outputs": [
        {
          "output_type": "stream",
          "name": "stdout",
          "text": [
            "1 + 2 = 3\n"
          ]
        }
      ]
    },
    {
      "cell_type": "markdown",
      "source": [
        "## `format()` 메소드를 사용한 출력"
      ],
      "metadata": {
        "id": "7C8XRw-4hQt1"
      }
    },
    {
      "cell_type": "code",
      "source": [
        "print('{} + {} = {}'.format(1,2,(1+2)))"
      ],
      "metadata": {
        "colab": {
          "base_uri": "https://localhost:8080/"
        },
        "id": "H_-9t850gb0e",
        "outputId": "058c0eb9-79be-4c8e-93be-53af1fd2516d"
      },
      "execution_count": null,
      "outputs": [
        {
          "output_type": "stream",
          "name": "stdout",
          "text": [
            "1 + 2 = 3\n"
          ]
        }
      ]
    },
    {
      "cell_type": "code",
      "source": [
        "print('{x} + {y} = {z}'.format(x=1, y=2, z=3))"
      ],
      "metadata": {
        "id": "lYi18Wcxh1M_",
        "colab": {
          "base_uri": "https://localhost:8080/"
        },
        "outputId": "ab12ef25-8f70-45a6-be6a-f1257bddd4a6"
      },
      "execution_count": 2,
      "outputs": [
        {
          "output_type": "stream",
          "name": "stdout",
          "text": [
            "1 + 2 = 3\n"
          ]
        }
      ]
    },
    {
      "cell_type": "markdown",
      "source": [
        "## formatted String을 사용한 출력\n",
        "\n",
        "Python 3.6 버전 이상에서만 사용 가능"
      ],
      "metadata": {
        "id": "btJo96-rhDDI"
      }
    },
    {
      "cell_type": "code",
      "source": [
        "# 변수 = 값\n",
        "a = 1\n",
        "b = 2\n",
        "print(a+b)\n",
        "print(f'{a} + {b} = {a + b}')"
      ],
      "metadata": {
        "colab": {
          "base_uri": "https://localhost:8080/"
        },
        "id": "MxHXuypkhGbI",
        "outputId": "dc97a5a2-7b59-4521-9ac1-81c555d14bd7"
      },
      "execution_count": 4,
      "outputs": [
        {
          "output_type": "stream",
          "name": "stdout",
          "text": [
            "3\n",
            "1 + 2 = 3\n"
          ]
        }
      ]
    },
    {
      "cell_type": "markdown",
      "source": [
        "# 코드 셀 실행 방법\n",
        "\n",
        "* 실행 버튼 클릭\n",
        "* Ctrl + Enter : 현재 포커스가 있는 셀을 실행\n",
        "* Shift + Enter : 현재 포커스가 있는 셀을 실행하고 다음 셀로 포커스를 이동,\n",
        "만약 셀이 없으면 새로운 코드 셀을 생성\n",
        "* 런타임 메뉴"
      ],
      "metadata": {
        "id": "arpE7Hm1juj9"
      }
    }
  ]
}