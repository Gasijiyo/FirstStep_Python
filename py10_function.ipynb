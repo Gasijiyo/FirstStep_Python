{
  "nbformat": 4,
  "nbformat_minor": 0,
  "metadata": {
    "colab": {
      "name": "py10_function.ipynb",
      "provenance": [],
      "collapsed_sections": [],
      "authorship_tag": "ABX9TyPfVgAX1VheGa1WSSiXbSrl",
      "include_colab_link": true
    },
    "kernelspec": {
      "name": "python3",
      "display_name": "Python 3"
    },
    "language_info": {
      "name": "python"
    }
  },
  "cells": [
    {
      "cell_type": "markdown",
      "metadata": {
        "id": "view-in-github",
        "colab_type": "text"
      },
      "source": [
        "<a href=\"https://colab.research.google.com/github/Gasijiyo/FirstStep_Python/blob/master/py10_function.ipynb\" target=\"_parent\"><img src=\"https://colab.research.google.com/assets/colab-badge.svg\" alt=\"Open In Colab\"/></a>"
      ]
    },
    {
      "cell_type": "markdown",
      "source": [
        "# 함수 (function)\n",
        "\n",
        "* **함수(function)**: 기능을 수행하는 코드 블록.\n",
        "* **인수(argument)**: 함수를 호출할 때, 함수에게 전달하는 값(들).\n",
        "* **매개변수(parameter)**: argument를 저장하기 위해 함수를 정의할 때 선언하는 (지역)변수\n",
        "* **반환값(return value)**: 함수가 기능수행의 결과로 반환하는 값.\n",
        "    * 반환 값이 있는 함수\n",
        "    * 반환 값이 없는 함수"
      ],
      "metadata": {
        "id": "WFF5ehXBOKcB"
      }
    },
    {
      "cell_type": "code",
      "execution_count": null,
      "metadata": {
        "id": "Mrb2E3a7OAjL"
      },
      "outputs": [],
      "source": [
        "result = len([1,2,3,4,5])\n",
        "# function = len\n",
        "# argument: [1,2,3,4,5]\n",
        "# 함수 호출(call, invoke): len([1,2,3,4,5])\n",
        "# return value: 5"
      ]
    },
    {
      "cell_type": "code",
      "source": [
        "result"
      ],
      "metadata": {
        "colab": {
          "base_uri": "https://localhost:8080/"
        },
        "id": "V4k8yD4iQG6o",
        "outputId": "0768d63d-9243-4ba7-b3e2-1d016f0fabd1"
      },
      "execution_count": null,
      "outputs": [
        {
          "output_type": "execute_result",
          "data": {
            "text/plain": [
              "5"
            ]
          },
          "metadata": {},
          "execution_count": 2
        }
      ]
    },
    {
      "cell_type": "markdown",
      "source": [
        "# 함수 정의 (선언) 방법\n",
        "\n",
        "\n",
        "```\n",
        "def function_name([param1, ...]):\n",
        "    [\"\"\"문서화 주석(documentation comment): 함수에 대한 설명\"\"\"] -> 생략가능해서 []로 작성\n",
        "    함수 기능 작성 (코드)\n",
        "    [return 반환 값] -> 생략 가능\n",
        "```\n",
        "\n"
      ],
      "metadata": {
        "id": "ebnR5XQ7U-pe"
      }
    },
    {
      "cell_type": "code",
      "source": [
        "def subtract(x, y):\n",
        "    \"\"\"숫자 2개(x, y)를 전달 받아서, x - y를 반환하는 함수.\"\"\"\n",
        "    return x - y"
      ],
      "metadata": {
        "id": "UU09_gHzQKIY"
      },
      "execution_count": null,
      "outputs": []
    },
    {
      "cell_type": "code",
      "source": [
        "result = subtract(1,2)\n",
        "result"
      ],
      "metadata": {
        "colab": {
          "base_uri": "https://localhost:8080/"
        },
        "id": "oOf46GdrXhkC",
        "outputId": "af97a27f-2887-48b4-a41d-b15c7d20d758"
      },
      "execution_count": null,
      "outputs": [
        {
          "output_type": "execute_result",
          "data": {
            "text/plain": [
              "-1"
            ]
          },
          "metadata": {},
          "execution_count": 4
        }
      ]
    },
    {
      "cell_type": "markdown",
      "source": [
        "파이썬은 2개 이상의 값을 반환하는 함수를 정의할 수 있음."
      ],
      "metadata": {
        "id": "9oQLGMhPYtP9"
      }
    },
    {
      "cell_type": "code",
      "source": [
        "def plus_and_minus(x,y):\n",
        "    \"\"\" 두 개의 숫자 x,y를 전달 받아 x+y와 x-y를 반환하는 함수\n",
        "    \"\"\"\n",
        "    return x+y, x-y"
      ],
      "metadata": {
        "id": "jeu0ofldYEHP"
      },
      "execution_count": null,
      "outputs": []
    },
    {
      "cell_type": "code",
      "source": [
        "result = plus_and_minus(2,3)\n",
        "result  #> tuple"
      ],
      "metadata": {
        "colab": {
          "base_uri": "https://localhost:8080/"
        },
        "id": "nxqirgxaZCYu",
        "outputId": "91cf81c9-b5d9-4dbb-8f94-b499ca8520be"
      },
      "execution_count": null,
      "outputs": [
        {
          "output_type": "execute_result",
          "data": {
            "text/plain": [
              "(5, -1)"
            ]
          },
          "metadata": {},
          "execution_count": 7
        }
      ]
    },
    {
      "cell_type": "code",
      "source": [
        "# tuple decomposition(분해): x,y = (3, -1)\n",
        "plus, minus = plus_and_minus(1,2)\n",
        "print(plus)\n",
        "print(minus)"
      ],
      "metadata": {
        "colab": {
          "base_uri": "https://localhost:8080/"
        },
        "id": "VjExaoz5ZGOa",
        "outputId": "ec6e446f-67ba-455c-c79d-981c48368aa0"
      },
      "execution_count": null,
      "outputs": [
        {
          "output_type": "stream",
          "name": "stdout",
          "text": [
            "3\n",
            "-1\n"
          ]
        }
      ]
    },
    {
      "cell_type": "markdown",
      "source": [
        "값을 반환하지 않는 함수"
      ],
      "metadata": {
        "id": "nVt4qbnDa9Vt"
      }
    },
    {
      "cell_type": "code",
      "source": [
        "def repeat_messages(message, n):\n",
        "    \"\"\" 문자열 message와 양의 정수 n을 전달받아서,\n",
        "    전달 받은 문자열을 n번 반복해서 출력하는 함수.\n",
        "    \"\"\"\n",
        "    for _ in range(n):\n",
        "        print(message)\n",
        "    \n",
        "    return None # 반환 값이 없다는 것을 명시적으로 작성.\n",
        "    # 반환값이 없는 경우 return None 문장을 보통 생략함."
      ],
      "metadata": {
        "id": "Z6_LLDUNaa9o"
      },
      "execution_count": null,
      "outputs": []
    },
    {
      "cell_type": "code",
      "source": [
        "result = repeat_messages('안녕하세요', 3)\n",
        "result"
      ],
      "metadata": {
        "colab": {
          "base_uri": "https://localhost:8080/"
        },
        "id": "E_mGhGsob9md",
        "outputId": "052851aa-bd5e-4cc4-9963-075ac9efb84f"
      },
      "execution_count": null,
      "outputs": [
        {
          "output_type": "stream",
          "name": "stdout",
          "text": [
            "안녕하세요\n",
            "안녕하세요\n",
            "안녕하세요\n"
          ]
        }
      ]
    },
    {
      "cell_type": "code",
      "source": [
        "print(result)   #> None: 값이 없음"
      ],
      "metadata": {
        "colab": {
          "base_uri": "https://localhost:8080/"
        },
        "id": "LDfeSFgucBbb",
        "outputId": "590f445b-75e0-4700-8420-90e65ec17c6d"
      },
      "execution_count": null,
      "outputs": [
        {
          "output_type": "stream",
          "name": "stdout",
          "text": [
            "None\n"
          ]
        }
      ]
    },
    {
      "cell_type": "markdown",
      "source": [
        "# 함수 정의/호출 연습"
      ],
      "metadata": {
        "id": "kM8biequdCFV"
      }
    },
    {
      "cell_type": "code",
      "source": [
        "import random   \n",
        "import math     # 수학 함수 이용 위해"
      ],
      "metadata": {
        "id": "W9BSNnvlcGWX"
      },
      "execution_count": 56,
      "outputs": []
    },
    {
      "cell_type": "markdown",
      "source": [
        "# Ex 1.\n",
        "* 함수 이름: make_list\n",
        "* 기능: start 이상 end 미만의 정수 난수 n개를 갖는 리스트를 반환."
      ],
      "metadata": {
        "id": "aYnR_oMLga4F"
      }
    },
    {
      "cell_type": "code",
      "source": [
        "def make_list(start, end, n):    \n",
        "    list = [random.randrange(start,end) for _ in range(n)]\n",
        "    return list"
      ],
      "metadata": {
        "id": "FjS8d5ungjsF"
      },
      "execution_count": 57,
      "outputs": []
    },
    {
      "cell_type": "code",
      "source": [
        "listResult = make_list(1,10,5)\n",
        "listResult"
      ],
      "metadata": {
        "colab": {
          "base_uri": "https://localhost:8080/"
        },
        "id": "HPDMDz9OkiqM",
        "outputId": "49d5d7bc-669e-4b98-a55f-d877c038fca7"
      },
      "execution_count": 58,
      "outputs": [
        {
          "output_type": "execute_result",
          "data": {
            "text/plain": [
              "[7, 3, 1, 4, 5]"
            ]
          },
          "metadata": {},
          "execution_count": 58
        }
      ]
    },
    {
      "cell_type": "markdown",
      "source": [
        "# Ex 2.\n",
        "* 함수 이름: calc_sum\n",
        "* 기능: 숫자들을 저장하고 있는 리스트의 모든 원소들의 합을 반환"
      ],
      "metadata": {
        "id": "q4aGDGnYgkdk"
      }
    },
    {
      "cell_type": "code",
      "source": [
        "def calc_sum(listResult):    \n",
        "    return sum(listResult)        "
      ],
      "metadata": {
        "id": "Nya222u8gp28"
      },
      "execution_count": 59,
      "outputs": []
    },
    {
      "cell_type": "code",
      "source": [
        "result = calc_sum(listResult)\n",
        "result"
      ],
      "metadata": {
        "colab": {
          "base_uri": "https://localhost:8080/"
        },
        "id": "Nbq982Frlxec",
        "outputId": "ea56983d-35e7-4a8a-9516-749aaefada84"
      },
      "execution_count": 60,
      "outputs": [
        {
          "output_type": "execute_result",
          "data": {
            "text/plain": [
              "20"
            ]
          },
          "metadata": {},
          "execution_count": 60
        }
      ]
    },
    {
      "cell_type": "markdown",
      "source": [
        "# Ex 3.\n",
        "* 함수 이름: calc_mean\n",
        "* 기능: 숫자들을 저장하고 있는 리스트의 모든 원소들의 평균을 반환"
      ],
      "metadata": {
        "id": "kce1Ccw1gqGu"
      }
    },
    {
      "cell_type": "code",
      "source": [
        "def calc_mean(listResult):\n",
        "    return sum(listResult) / len(listResult)"
      ],
      "metadata": {
        "id": "KTyLoN3mgrEE"
      },
      "execution_count": 61,
      "outputs": []
    },
    {
      "cell_type": "code",
      "source": [
        "result = calc_mean(listResult)\n",
        "result"
      ],
      "metadata": {
        "colab": {
          "base_uri": "https://localhost:8080/"
        },
        "id": "8RfT4LWyd2nL",
        "outputId": "dc7eefe0-490d-4158-84f9-e5f569b699bc"
      },
      "execution_count": 62,
      "outputs": [
        {
          "output_type": "execute_result",
          "data": {
            "text/plain": [
              "4.0"
            ]
          },
          "metadata": {},
          "execution_count": 62
        }
      ]
    },
    {
      "cell_type": "markdown",
      "source": [
        "# Ex 4.\n",
        "* 함수 이름: calc_variance\n",
        "* 기능: 숫자들을 저장하고 있는 리스트의 원소들의 분산을 반환"
      ],
      "metadata": {
        "id": "_ud-jqb5grZE"
      }
    },
    {
      "cell_type": "code",
      "source": [
        "def calc_variance(listResult):    \n",
        "    dev = [x - calc_mean(listResult) for x in listResult]    \n",
        "    dev_square = [x ** 2 for x in dev]\n",
        "    return sum(dev_square) / len(listResult) "
      ],
      "metadata": {
        "id": "jt2f1d9Dgsbs"
      },
      "execution_count": 63,
      "outputs": []
    },
    {
      "cell_type": "code",
      "source": [
        "result = calc_variance(listResult)\n",
        "result"
      ],
      "metadata": {
        "colab": {
          "base_uri": "https://localhost:8080/"
        },
        "id": "i67aypkbgH7k",
        "outputId": "ccfcd14a-d38f-414b-9fe8-ad8122a630d1"
      },
      "execution_count": 90,
      "outputs": [
        {
          "output_type": "execute_result",
          "data": {
            "text/plain": [
              "4.0"
            ]
          },
          "metadata": {},
          "execution_count": 90
        }
      ]
    },
    {
      "cell_type": "markdown",
      "source": [
        "# Ex 5.\n",
        "* 함수 이름: calc_stddev\n",
        "* 기능: 숫자들을 저장하고 있는 리스트의 원소들의 표준편차를 반환."
      ],
      "metadata": {
        "id": "0mk9r9U8gsqr"
      }
    },
    {
      "cell_type": "code",
      "source": [
        "def calc_stddev(listResult):\n",
        "    return calc_variance(listResult) ** (1/2)"
      ],
      "metadata": {
        "id": "-TxTJ3nugtlG"
      },
      "execution_count": 65,
      "outputs": []
    },
    {
      "cell_type": "code",
      "source": [
        "result = calc_stddev(listResult)\n",
        "result"
      ],
      "metadata": {
        "colab": {
          "base_uri": "https://localhost:8080/"
        },
        "id": "3W1rFqbQpeXZ",
        "outputId": "2025bf9d-bbb2-4e1d-fdb5-677c2cfbbb5b"
      },
      "execution_count": 66,
      "outputs": [
        {
          "output_type": "execute_result",
          "data": {
            "text/plain": [
              "2.0"
            ]
          },
          "metadata": {},
          "execution_count": 66
        }
      ]
    },
    {
      "cell_type": "markdown",
      "source": [
        "# Ex 6.\n",
        "* 함수 이름: find_max_and_min\n",
        "* 기능: 숫자들을 저장하고 있는 리스트에서 최대값과 최소값을 반환."
      ],
      "metadata": {
        "id": "sYyx-Cc3heRc"
      }
    },
    {
      "cell_type": "code",
      "source": [
        "del max, min\n",
        "def find_max_and_min(listResult):      \n",
        "    return max(listResult), min(listResult)"
      ],
      "metadata": {
        "id": "pM_SOMiiaWii"
      },
      "execution_count": 91,
      "outputs": []
    },
    {
      "cell_type": "code",
      "source": [
        "result = find_max_and_min(listResult)\n",
        "result"
      ],
      "metadata": {
        "colab": {
          "base_uri": "https://localhost:8080/"
        },
        "id": "LoMnthaOpmu4",
        "outputId": "e1fedf5d-515b-48a6-bbf1-021db4851f6e"
      },
      "execution_count": 93,
      "outputs": [
        {
          "output_type": "execute_result",
          "data": {
            "text/plain": [
              "(7, 1)"
            ]
          },
          "metadata": {},
          "execution_count": 93
        }
      ]
    },
    {
      "cell_type": "code",
      "source": [
        ""
      ],
      "metadata": {
        "id": "JON9IKmZsECJ"
      },
      "execution_count": null,
      "outputs": []
    }
  ]
}