{
  "nbformat": 4,
  "nbformat_minor": 0,
  "metadata": {
    "colab": {
      "name": "py10_function.ipynb",
      "provenance": [],
      "collapsed_sections": [],
      "authorship_tag": "ABX9TyMPd2EoBnGbLVqBmtuIkyuN",
      "include_colab_link": true
    },
    "kernelspec": {
      "name": "python3",
      "display_name": "Python 3"
    },
    "language_info": {
      "name": "python"
    }
  },
  "cells": [
    {
      "cell_type": "markdown",
      "metadata": {
        "id": "view-in-github",
        "colab_type": "text"
      },
      "source": [
        "<a href=\"https://colab.research.google.com/github/Gasijiyo/FirstStep_Python/blob/master/py10_function.ipynb\" target=\"_parent\"><img src=\"https://colab.research.google.com/assets/colab-badge.svg\" alt=\"Open In Colab\"/></a>"
      ]
    },
    {
      "cell_type": "markdown",
      "source": [
        "# 함수 (function)\n",
        "\n",
        "* **함수(function)**: 기능을 수행하는 코드 블록.\n",
        "* **인수(argument)**: 함수를 호출할 때, 함수에게 전달하는 값(들).\n",
        "* **매개변수(parameter)**: argument를 저장하기 위해 함수를 정의할 때 선언하는 (지역)변수\n",
        "* **반환값(return value)**: 함수가 기능수행의 결과로 반환하는 값.\n",
        "    * 반환 값이 있는 함수\n",
        "    * 반환 값이 없는 함수"
      ],
      "metadata": {
        "id": "WFF5ehXBOKcB"
      }
    },
    {
      "cell_type": "code",
      "execution_count": null,
      "metadata": {
        "id": "Mrb2E3a7OAjL"
      },
      "outputs": [],
      "source": [
        "result = len([1,2,3,4,5])\n",
        "# function = len\n",
        "# argument: [1,2,3,4,5]\n",
        "# 함수 호출(call, invoke): len([1,2,3,4,5])\n",
        "# return value: 5"
      ]
    },
    {
      "cell_type": "code",
      "source": [
        "result"
      ],
      "metadata": {
        "colab": {
          "base_uri": "https://localhost:8080/"
        },
        "id": "V4k8yD4iQG6o",
        "outputId": "0768d63d-9243-4ba7-b3e2-1d016f0fabd1"
      },
      "execution_count": null,
      "outputs": [
        {
          "output_type": "execute_result",
          "data": {
            "text/plain": [
              "5"
            ]
          },
          "metadata": {},
          "execution_count": 2
        }
      ]
    },
    {
      "cell_type": "markdown",
      "source": [
        "# 함수 정의 (선언) 방법\n",
        "\n",
        "\n",
        "```\n",
        "def function_name([param1, ...]):\n",
        "    [\"\"\"문서화 주석(documentation comment): 함수에 대한 설명\"\"\"] -> 생략가능해서 []로 작성\n",
        "    함수 기능 작성 (코드)\n",
        "    [return 반환 값] -> 생략 가능\n",
        "```\n",
        "\n"
      ],
      "metadata": {
        "id": "ebnR5XQ7U-pe"
      }
    },
    {
      "cell_type": "code",
      "source": [
        "def subtract(x, y):\n",
        "    \"\"\"숫자 2개(x, y)를 전달 받아서, x - y를 반환하는 함수.\"\"\"\n",
        "    return x - y"
      ],
      "metadata": {
        "id": "UU09_gHzQKIY"
      },
      "execution_count": null,
      "outputs": []
    },
    {
      "cell_type": "code",
      "source": [
        "result = subtract(1,2)\n",
        "result"
      ],
      "metadata": {
        "colab": {
          "base_uri": "https://localhost:8080/"
        },
        "id": "oOf46GdrXhkC",
        "outputId": "af97a27f-2887-48b4-a41d-b15c7d20d758"
      },
      "execution_count": null,
      "outputs": [
        {
          "output_type": "execute_result",
          "data": {
            "text/plain": [
              "-1"
            ]
          },
          "metadata": {},
          "execution_count": 4
        }
      ]
    },
    {
      "cell_type": "markdown",
      "source": [
        "파이썬은 2개 이상의 값을 반환하는 함수를 정의할 수 있음."
      ],
      "metadata": {
        "id": "9oQLGMhPYtP9"
      }
    },
    {
      "cell_type": "code",
      "source": [
        "def plus_and_minus(x,y):\n",
        "    \"\"\" 두 개의 숫자 x,y를 전달 받아 x+y와 x-y를 반환하는 함수\n",
        "    \"\"\"\n",
        "    return x+y, x-y"
      ],
      "metadata": {
        "id": "jeu0ofldYEHP"
      },
      "execution_count": null,
      "outputs": []
    },
    {
      "cell_type": "code",
      "source": [
        "result = plus_and_minus(2,3)\n",
        "result  #> tuple"
      ],
      "metadata": {
        "colab": {
          "base_uri": "https://localhost:8080/"
        },
        "id": "nxqirgxaZCYu",
        "outputId": "91cf81c9-b5d9-4dbb-8f94-b499ca8520be"
      },
      "execution_count": null,
      "outputs": [
        {
          "output_type": "execute_result",
          "data": {
            "text/plain": [
              "(5, -1)"
            ]
          },
          "metadata": {},
          "execution_count": 7
        }
      ]
    },
    {
      "cell_type": "code",
      "source": [
        "# tuple decomposition(분해): x,y = (3, -1)\n",
        "plus, minus = plus_and_minus(1,2)\n",
        "print(plus)\n",
        "print(minus)"
      ],
      "metadata": {
        "colab": {
          "base_uri": "https://localhost:8080/"
        },
        "id": "VjExaoz5ZGOa",
        "outputId": "ec6e446f-67ba-455c-c79d-981c48368aa0"
      },
      "execution_count": null,
      "outputs": [
        {
          "output_type": "stream",
          "name": "stdout",
          "text": [
            "3\n",
            "-1\n"
          ]
        }
      ]
    },
    {
      "cell_type": "markdown",
      "source": [
        "값을 반환하지 않는 함수"
      ],
      "metadata": {
        "id": "nVt4qbnDa9Vt"
      }
    },
    {
      "cell_type": "code",
      "source": [
        "def repeat_messages(message, n):\n",
        "    \"\"\" 문자열 message와 양의 정수 n을 전달받아서,\n",
        "    전달 받은 문자열을 n번 반복해서 출력하는 함수.\n",
        "    \"\"\"\n",
        "    for _ in range(n):\n",
        "        print(message)\n",
        "    \n",
        "    return None # 반환 값이 없다는 것을 명시적으로 작성.\n",
        "    # 반환값이 없는 경우 return None 문장을 보통 생략함."
      ],
      "metadata": {
        "id": "Z6_LLDUNaa9o"
      },
      "execution_count": null,
      "outputs": []
    },
    {
      "cell_type": "code",
      "source": [
        "result = repeat_messages('안녕하세요', 3)\n",
        "result"
      ],
      "metadata": {
        "colab": {
          "base_uri": "https://localhost:8080/"
        },
        "id": "E_mGhGsob9md",
        "outputId": "052851aa-bd5e-4cc4-9963-075ac9efb84f"
      },
      "execution_count": null,
      "outputs": [
        {
          "output_type": "stream",
          "name": "stdout",
          "text": [
            "안녕하세요\n",
            "안녕하세요\n",
            "안녕하세요\n"
          ]
        }
      ]
    },
    {
      "cell_type": "code",
      "source": [
        "print(result)   #> None: 값이 없음"
      ],
      "metadata": {
        "colab": {
          "base_uri": "https://localhost:8080/"
        },
        "id": "LDfeSFgucBbb",
        "outputId": "590f445b-75e0-4700-8420-90e65ec17c6d"
      },
      "execution_count": null,
      "outputs": [
        {
          "output_type": "stream",
          "name": "stdout",
          "text": [
            "None\n"
          ]
        }
      ]
    },
    {
      "cell_type": "markdown",
      "source": [
        "# 함수 정의/호출 연습"
      ],
      "metadata": {
        "id": "kM8biequdCFV"
      }
    },
    {
      "cell_type": "code",
      "source": [
        "import random   \n",
        "import math     # 수학 함수 이용 위해"
      ],
      "metadata": {
        "id": "W9BSNnvlcGWX"
      },
      "execution_count": 2,
      "outputs": []
    },
    {
      "cell_type": "markdown",
      "source": [
        "# Ex 1.\n",
        "* 함수 이름: make_list\n",
        "* 기능: start 이상 end 미만의 정수 난수 n개를 갖는 리스트를 반환."
      ],
      "metadata": {
        "id": "aYnR_oMLga4F"
      }
    },
    {
      "cell_type": "code",
      "source": [
        "def make_list(start, end, n):    \n",
        "    list = [random.randrange(start,end) for _ in range(n)]\n",
        "    return list     # Ctrl + / = 선택한 줄 주석처리\n",
        "    # array = []\n",
        "    "
      ],
      "metadata": {
        "id": "FjS8d5ungjsF"
      },
      "execution_count": 3,
      "outputs": []
    },
    {
      "cell_type": "code",
      "source": [
        "listResult = make_list(1,10,5)\n",
        "listResult"
      ],
      "metadata": {
        "colab": {
          "base_uri": "https://localhost:8080/"
        },
        "id": "HPDMDz9OkiqM",
        "outputId": "ac7d4983-5281-4ea7-eefb-03397d5d33ea"
      },
      "execution_count": 4,
      "outputs": [
        {
          "output_type": "execute_result",
          "data": {
            "text/plain": [
              "[4, 4, 1, 9, 8]"
            ]
          },
          "metadata": {},
          "execution_count": 4
        }
      ]
    },
    {
      "cell_type": "markdown",
      "source": [
        "# Ex 2.\n",
        "* 함수 이름: calc_sum\n",
        "* 기능: 숫자들을 저장하고 있는 리스트의 모든 원소들의 합을 반환"
      ],
      "metadata": {
        "id": "q4aGDGnYgkdk"
      }
    },
    {
      "cell_type": "code",
      "source": [
        "def calc_sum(listResult):   \n",
        "    # 파라미터를 numbers로 해도 된다.\n",
        "    # 그럴 경우 함수 내 동일한 파라미터도 numbers  \n",
        "    return sum(listResult) \n",
        "    # total = 0\n",
        "    # for x in listResult:\n",
        "    #     total += x\n",
        "    # return total"
      ],
      "metadata": {
        "id": "Nya222u8gp28"
      },
      "execution_count": 5,
      "outputs": []
    },
    {
      "cell_type": "code",
      "source": [
        "total = calc_sum(listResult)\n",
        "total"
      ],
      "metadata": {
        "colab": {
          "base_uri": "https://localhost:8080/"
        },
        "id": "Nbq982Frlxec",
        "outputId": "2b69f6d3-0233-47b0-fa2b-53a373d35c10"
      },
      "execution_count": 6,
      "outputs": [
        {
          "output_type": "execute_result",
          "data": {
            "text/plain": [
              "26"
            ]
          },
          "metadata": {},
          "execution_count": 6
        }
      ]
    },
    {
      "cell_type": "markdown",
      "source": [
        "# Ex 3.\n",
        "* 함수 이름: calc_mean\n",
        "* 기능: 숫자들을 저장하고 있는 리스트의 모든 원소들의 평균을 반환"
      ],
      "metadata": {
        "id": "kce1Ccw1gqGu"
      }
    },
    {
      "cell_type": "code",
      "source": [
        "def calc_mean(listResult):\n",
        "    return sum(listResult) / len(listResult)\n",
        "    # return calc_sum(listResult) / len(listResult)"
      ],
      "metadata": {
        "id": "KTyLoN3mgrEE"
      },
      "execution_count": 7,
      "outputs": []
    },
    {
      "cell_type": "code",
      "source": [
        "mean = calc_mean(listResult)\n",
        "mean"
      ],
      "metadata": {
        "colab": {
          "base_uri": "https://localhost:8080/"
        },
        "id": "8RfT4LWyd2nL",
        "outputId": "cce203df-eff2-448f-980b-3b78d81163fb"
      },
      "execution_count": 9,
      "outputs": [
        {
          "output_type": "execute_result",
          "data": {
            "text/plain": [
              "5.2"
            ]
          },
          "metadata": {},
          "execution_count": 9
        }
      ]
    },
    {
      "cell_type": "markdown",
      "source": [
        "# Ex 4.\n",
        "* 함수 이름: calc_variance\n",
        "* 기능: 숫자들을 저장하고 있는 리스트의 원소들의 분산을 반환"
      ],
      "metadata": {
        "id": "_ud-jqb5grZE"
      }
    },
    {
      "cell_type": "code",
      "source": [
        "def calc_variance(listResult):    \n",
        "    dev = [x - calc_mean(listResult) for x in listResult]    \n",
        "    dev_square = [x ** 2 for x in dev]\n",
        "    return sum(dev_square) / len(listResult) \n",
        "\n",
        "    # mean = calc_mean(listResult)  # 평균\n",
        "    # squares = [(x - mean) ** 2 for x in listResult]   # 편차 제곱\n",
        "    # var = calc_sum(squares) / (len(listResult)-1) or len(listResult)  # 통계방식에 따라 달라짐\n",
        "    # return var"
      ],
      "metadata": {
        "id": "jt2f1d9Dgsbs"
      },
      "execution_count": 17,
      "outputs": []
    },
    {
      "cell_type": "code",
      "source": [
        "varResult = calc_variance(listResult)\n",
        "varResult"
      ],
      "metadata": {
        "colab": {
          "base_uri": "https://localhost:8080/"
        },
        "id": "i67aypkbgH7k",
        "outputId": "a6c54b86-96a1-4ce0-df0b-b059e8bba027"
      },
      "execution_count": 11,
      "outputs": [
        {
          "output_type": "execute_result",
          "data": {
            "text/plain": [
              "8.559999999999999"
            ]
          },
          "metadata": {},
          "execution_count": 11
        }
      ]
    },
    {
      "cell_type": "markdown",
      "source": [
        "# Ex 5.\n",
        "* 함수 이름: calc_stddev\n",
        "* 기능: 숫자들을 저장하고 있는 리스트의 원소들의 표준편차를 반환."
      ],
      "metadata": {
        "id": "0mk9r9U8gsqr"
      }
    },
    {
      "cell_type": "code",
      "source": [
        "def calc_stddev(listResult):\n",
        "# def calc_stddev(numbers):\n",
        "    return calc_variance(listResult) ** (1/2)\n",
        "    # return math.sqrt(calc_variance(numbers))"
      ],
      "metadata": {
        "id": "-TxTJ3nugtlG"
      },
      "execution_count": 12,
      "outputs": []
    },
    {
      "cell_type": "code",
      "source": [
        "stddev = calc_stddev(listResult)\n",
        "stddev"
      ],
      "metadata": {
        "colab": {
          "base_uri": "https://localhost:8080/"
        },
        "id": "3W1rFqbQpeXZ",
        "outputId": "4f53f580-5ae5-45be-b64e-57933c602a71"
      },
      "execution_count": 13,
      "outputs": [
        {
          "output_type": "execute_result",
          "data": {
            "text/plain": [
              "2.9257477676655586"
            ]
          },
          "metadata": {},
          "execution_count": 13
        }
      ]
    },
    {
      "cell_type": "markdown",
      "source": [
        "# Ex 6.\n",
        "* 함수 이름: find_max_and_min\n",
        "* 기능: 숫자들을 저장하고 있는 리스트에서 최대값과 최소값을 반환."
      ],
      "metadata": {
        "id": "sYyx-Cc3heRc"
      }
    },
    {
      "cell_type": "code",
      "source": [
        "# del max, min\n",
        "def find_max_and_min(numbers):      \n",
        "# def 함수이름 (numbers):\n",
        "    return max(numbers), min(numbers)\n",
        "    # max(numbers), min(numbers)\n",
        "\n",
        "    # max_num = numbers[0]\n",
        "    # min_num = numbers[0]\n",
        "    # for x in numbers:\n",
        "    #     if x > max_num:\n",
        "    #         max_num = x\n",
        "    #     if x < min_num:\n",
        "    #         min_num = x\n",
        "    # return max_num, min_num"
      ],
      "metadata": {
        "id": "pM_SOMiiaWii"
      },
      "execution_count": 18,
      "outputs": []
    },
    {
      "cell_type": "code",
      "source": [
        "mx, mn = find_max_and_min(listResult)\n",
        "print(mx)\n",
        "print(mn)\n",
        "# result = find_max_and_min(listResult)\n",
        "# result"
      ],
      "metadata": {
        "colab": {
          "base_uri": "https://localhost:8080/"
        },
        "id": "LoMnthaOpmu4",
        "outputId": "6547eaba-3dfa-4a1a-c21e-25ac1665c685"
      },
      "execution_count": 20,
      "outputs": [
        {
          "output_type": "stream",
          "name": "stdout",
          "text": [
            "9\n",
            "1\n"
          ]
        }
      ]
    },
    {
      "cell_type": "code",
      "source": [
        ""
      ],
      "metadata": {
        "id": "JON9IKmZsECJ"
      },
      "execution_count": null,
      "outputs": []
    }
  ]
}