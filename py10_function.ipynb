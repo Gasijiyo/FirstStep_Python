{
  "nbformat": 4,
  "nbformat_minor": 0,
  "metadata": {
    "colab": {
      "name": "py10_function.ipynb",
      "provenance": [],
      "collapsed_sections": [],
      "authorship_tag": "ABX9TyOijCl9JuRI4MQzG7QDYJ0s",
      "include_colab_link": true
    },
    "kernelspec": {
      "name": "python3",
      "display_name": "Python 3"
    },
    "language_info": {
      "name": "python"
    }
  },
  "cells": [
    {
      "cell_type": "markdown",
      "metadata": {
        "id": "view-in-github",
        "colab_type": "text"
      },
      "source": [
        "<a href=\"https://colab.research.google.com/github/Gasijiyo/FirstStep_Python/blob/master/py10_function.ipynb\" target=\"_parent\"><img src=\"https://colab.research.google.com/assets/colab-badge.svg\" alt=\"Open In Colab\"/></a>"
      ]
    },
    {
      "cell_type": "markdown",
      "source": [
        "# 함수 (function)\n",
        "\n",
        "* **함수(function)**: 기능을 수행하는 코드 블록.\n",
        "* **인수(argument)**: 함수를 호출할 때, 함수에게 전달하는 값(들).\n",
        "* **매개변수(parameter)**: argument를 저장하기 위해 함수를 정의할 때 선언하는 (지역)변수\n",
        "* **반환값(return value)**: 함수가 기능수행의 결과로 반환하는 값.\n",
        "    * 반환 값이 있는 함수\n",
        "    * 반환 값이 없는 함수"
      ],
      "metadata": {
        "id": "WFF5ehXBOKcB"
      }
    },
    {
      "cell_type": "code",
      "execution_count": null,
      "metadata": {
        "id": "Mrb2E3a7OAjL"
      },
      "outputs": [],
      "source": [
        "result = len([1,2,3,4,5])\n",
        "# function = len\n",
        "# argument: [1,2,3,4,5]\n",
        "# 함수 호출(call, invoke): len([1,2,3,4,5])\n",
        "# return value: 5"
      ]
    },
    {
      "cell_type": "code",
      "source": [
        "result"
      ],
      "metadata": {
        "colab": {
          "base_uri": "https://localhost:8080/"
        },
        "id": "V4k8yD4iQG6o",
        "outputId": "0768d63d-9243-4ba7-b3e2-1d016f0fabd1"
      },
      "execution_count": null,
      "outputs": [
        {
          "output_type": "execute_result",
          "data": {
            "text/plain": [
              "5"
            ]
          },
          "metadata": {},
          "execution_count": 2
        }
      ]
    },
    {
      "cell_type": "markdown",
      "source": [
        "# 함수 정의 (선언) 방법\n",
        "\n",
        "\n",
        "```\n",
        "def function_name([param1, ...]):\n",
        "    [\"\"\"문서화 주석(documentation comment): 함수에 대한 설명\"\"\"] -> 생략가능해서 []로 작성\n",
        "    함수 기능 작성 (코드)\n",
        "    [return 반환 값] -> 생략 가능\n",
        "```\n",
        "\n"
      ],
      "metadata": {
        "id": "ebnR5XQ7U-pe"
      }
    },
    {
      "cell_type": "code",
      "source": [
        "def subtract(x, y):\n",
        "    \"\"\"숫자 2개(x, y)를 전달 받아서, x - y를 반환하는 함수.\"\"\"\n",
        "    return x - y"
      ],
      "metadata": {
        "id": "UU09_gHzQKIY"
      },
      "execution_count": null,
      "outputs": []
    },
    {
      "cell_type": "code",
      "source": [
        "result = subtract(1,2)\n",
        "result"
      ],
      "metadata": {
        "colab": {
          "base_uri": "https://localhost:8080/"
        },
        "id": "oOf46GdrXhkC",
        "outputId": "af97a27f-2887-48b4-a41d-b15c7d20d758"
      },
      "execution_count": null,
      "outputs": [
        {
          "output_type": "execute_result",
          "data": {
            "text/plain": [
              "-1"
            ]
          },
          "metadata": {},
          "execution_count": 4
        }
      ]
    },
    {
      "cell_type": "markdown",
      "source": [
        "파이썬은 2개 이상의 값을 반환하는 함수를 정의할 수 있음."
      ],
      "metadata": {
        "id": "9oQLGMhPYtP9"
      }
    },
    {
      "cell_type": "code",
      "source": [
        "def plus_and_minus(x,y):\n",
        "    \"\"\" 두 개의 숫자 x,y를 전달 받아 x+y와 x-y를 반환하는 함수\n",
        "    \"\"\"\n",
        "    return x+y, x-y"
      ],
      "metadata": {
        "id": "jeu0ofldYEHP"
      },
      "execution_count": null,
      "outputs": []
    },
    {
      "cell_type": "code",
      "source": [
        "result = plus_and_minus(2,3)\n",
        "result  #> tuple"
      ],
      "metadata": {
        "colab": {
          "base_uri": "https://localhost:8080/"
        },
        "id": "nxqirgxaZCYu",
        "outputId": "91cf81c9-b5d9-4dbb-8f94-b499ca8520be"
      },
      "execution_count": null,
      "outputs": [
        {
          "output_type": "execute_result",
          "data": {
            "text/plain": [
              "(5, -1)"
            ]
          },
          "metadata": {},
          "execution_count": 7
        }
      ]
    },
    {
      "cell_type": "code",
      "source": [
        "# tuple decomposition(분해): x,y = (3, -1)\n",
        "plus, minus = plus_and_minus(1,2)\n",
        "print(plus)\n",
        "print(minus)"
      ],
      "metadata": {
        "colab": {
          "base_uri": "https://localhost:8080/"
        },
        "id": "VjExaoz5ZGOa",
        "outputId": "ec6e446f-67ba-455c-c79d-981c48368aa0"
      },
      "execution_count": null,
      "outputs": [
        {
          "output_type": "stream",
          "name": "stdout",
          "text": [
            "3\n",
            "-1\n"
          ]
        }
      ]
    },
    {
      "cell_type": "markdown",
      "source": [
        "값을 반환하지 않는 함수"
      ],
      "metadata": {
        "id": "nVt4qbnDa9Vt"
      }
    },
    {
      "cell_type": "code",
      "source": [
        "def repeat_messages(message, n):\n",
        "    \"\"\" 문자열 message와 양의 정수 n을 전달받아서,\n",
        "    전달 받은 문자열을 n번 반복해서 출력하는 함수.\n",
        "    \"\"\"\n",
        "    for _ in range(n):\n",
        "        print(message)\n",
        "    \n",
        "    return None # 반환 값이 없다는 것을 명시적으로 작성.\n",
        "    # 반환값이 없는 경우 return None 문장을 보통 생략함."
      ],
      "metadata": {
        "id": "Z6_LLDUNaa9o"
      },
      "execution_count": null,
      "outputs": []
    },
    {
      "cell_type": "code",
      "source": [
        "result = repeat_messages('안녕하세요', 3)\n",
        "result"
      ],
      "metadata": {
        "colab": {
          "base_uri": "https://localhost:8080/"
        },
        "id": "E_mGhGsob9md",
        "outputId": "052851aa-bd5e-4cc4-9963-075ac9efb84f"
      },
      "execution_count": null,
      "outputs": [
        {
          "output_type": "stream",
          "name": "stdout",
          "text": [
            "안녕하세요\n",
            "안녕하세요\n",
            "안녕하세요\n"
          ]
        }
      ]
    },
    {
      "cell_type": "code",
      "source": [
        "print(result)   #> None: 값이 없음"
      ],
      "metadata": {
        "colab": {
          "base_uri": "https://localhost:8080/"
        },
        "id": "LDfeSFgucBbb",
        "outputId": "590f445b-75e0-4700-8420-90e65ec17c6d"
      },
      "execution_count": null,
      "outputs": [
        {
          "output_type": "stream",
          "name": "stdout",
          "text": [
            "None\n"
          ]
        }
      ]
    },
    {
      "cell_type": "markdown",
      "source": [
        "# 함수 정의/호출 연습"
      ],
      "metadata": {
        "id": "kM8biequdCFV"
      }
    },
    {
      "cell_type": "code",
      "source": [
        "import random   \n",
        "import math     # 수학 함수 이용 위해"
      ],
      "metadata": {
        "id": "W9BSNnvlcGWX"
      },
      "execution_count": null,
      "outputs": []
    },
    {
      "cell_type": "markdown",
      "source": [
        "# Ex 1.\n",
        "* 함수 이름: make_list\n",
        "* 기능: start 이상 end 미만의 정수 난수 n개를 갖는 리스트를 반환."
      ],
      "metadata": {
        "id": "aYnR_oMLga4F"
      }
    },
    {
      "cell_type": "code",
      "source": [
        "def make_list(start, end, n):    \n",
        "    list = [random.randrange(start,end) for _ in range(n)]\n",
        "    return list     # Ctrl + / = 선택한 줄 주석처리\n",
        "    # array = []\n",
        "    "
      ],
      "metadata": {
        "id": "FjS8d5ungjsF"
      },
      "execution_count": null,
      "outputs": []
    },
    {
      "cell_type": "code",
      "source": [
        "listResult = make_list(1,10,5)\n",
        "listResult"
      ],
      "metadata": {
        "colab": {
          "base_uri": "https://localhost:8080/"
        },
        "id": "HPDMDz9OkiqM",
        "outputId": "ac7d4983-5281-4ea7-eefb-03397d5d33ea"
      },
      "execution_count": null,
      "outputs": [
        {
          "output_type": "execute_result",
          "data": {
            "text/plain": [
              "[4, 4, 1, 9, 8]"
            ]
          },
          "metadata": {},
          "execution_count": 4
        }
      ]
    },
    {
      "cell_type": "markdown",
      "source": [
        "# Ex 2.\n",
        "* 함수 이름: calc_sum\n",
        "* 기능: 숫자들을 저장하고 있는 리스트의 모든 원소들의 합을 반환"
      ],
      "metadata": {
        "id": "q4aGDGnYgkdk"
      }
    },
    {
      "cell_type": "code",
      "source": [
        "def calc_sum(listResult):   \n",
        "    # 파라미터를 numbers로 해도 된다.\n",
        "    # 그럴 경우 함수 내 동일한 파라미터도 numbers  \n",
        "    return sum(listResult) \n",
        "    # total = 0\n",
        "    # for x in listResult:\n",
        "    #     total += x\n",
        "    # return total"
      ],
      "metadata": {
        "id": "Nya222u8gp28"
      },
      "execution_count": null,
      "outputs": []
    },
    {
      "cell_type": "code",
      "source": [
        "total = calc_sum(listResult)\n",
        "total"
      ],
      "metadata": {
        "colab": {
          "base_uri": "https://localhost:8080/"
        },
        "id": "Nbq982Frlxec",
        "outputId": "2b69f6d3-0233-47b0-fa2b-53a373d35c10"
      },
      "execution_count": null,
      "outputs": [
        {
          "output_type": "execute_result",
          "data": {
            "text/plain": [
              "26"
            ]
          },
          "metadata": {},
          "execution_count": 6
        }
      ]
    },
    {
      "cell_type": "markdown",
      "source": [
        "# Ex 3.\n",
        "* 함수 이름: calc_mean\n",
        "* 기능: 숫자들을 저장하고 있는 리스트의 모든 원소들의 평균을 반환"
      ],
      "metadata": {
        "id": "kce1Ccw1gqGu"
      }
    },
    {
      "cell_type": "code",
      "source": [
        "def calc_mean(listResult):\n",
        "    return sum(listResult) / len(listResult)\n",
        "    # return calc_sum(listResult) / len(listResult)"
      ],
      "metadata": {
        "id": "KTyLoN3mgrEE"
      },
      "execution_count": null,
      "outputs": []
    },
    {
      "cell_type": "code",
      "source": [
        "mean = calc_mean(listResult)\n",
        "mean"
      ],
      "metadata": {
        "colab": {
          "base_uri": "https://localhost:8080/"
        },
        "id": "8RfT4LWyd2nL",
        "outputId": "cce203df-eff2-448f-980b-3b78d81163fb"
      },
      "execution_count": null,
      "outputs": [
        {
          "output_type": "execute_result",
          "data": {
            "text/plain": [
              "5.2"
            ]
          },
          "metadata": {},
          "execution_count": 9
        }
      ]
    },
    {
      "cell_type": "markdown",
      "source": [
        "# Ex 4.\n",
        "* 함수 이름: calc_variance\n",
        "* 기능: 숫자들을 저장하고 있는 리스트의 원소들의 분산을 반환"
      ],
      "metadata": {
        "id": "_ud-jqb5grZE"
      }
    },
    {
      "cell_type": "code",
      "source": [
        "def calc_variance(listResult):    \n",
        "    dev = [x - calc_mean(listResult) for x in listResult]    \n",
        "    dev_square = [x ** 2 for x in dev]\n",
        "    return sum(dev_square) / len(listResult) \n",
        "\n",
        "    # mean = calc_mean(listResult)  # 평균\n",
        "    # squares = [(x - mean) ** 2 for x in listResult]   # 편차 제곱\n",
        "    # var = calc_sum(squares) / (len(listResult)-1) or len(listResult)  # 통계방식에 따라 달라짐\n",
        "    # return var"
      ],
      "metadata": {
        "id": "jt2f1d9Dgsbs"
      },
      "execution_count": null,
      "outputs": []
    },
    {
      "cell_type": "code",
      "source": [
        "varResult = calc_variance(listResult)\n",
        "varResult"
      ],
      "metadata": {
        "colab": {
          "base_uri": "https://localhost:8080/"
        },
        "id": "i67aypkbgH7k",
        "outputId": "a6c54b86-96a1-4ce0-df0b-b059e8bba027"
      },
      "execution_count": null,
      "outputs": [
        {
          "output_type": "execute_result",
          "data": {
            "text/plain": [
              "8.559999999999999"
            ]
          },
          "metadata": {},
          "execution_count": 11
        }
      ]
    },
    {
      "cell_type": "markdown",
      "source": [
        "# Ex 5.\n",
        "* 함수 이름: calc_stddev\n",
        "* 기능: 숫자들을 저장하고 있는 리스트의 원소들의 표준편차를 반환."
      ],
      "metadata": {
        "id": "0mk9r9U8gsqr"
      }
    },
    {
      "cell_type": "code",
      "source": [
        "def calc_stddev(listResult):\n",
        "# def calc_stddev(numbers):\n",
        "    return calc_variance(listResult) ** (1/2)\n",
        "    # return math.sqrt(calc_variance(numbers))"
      ],
      "metadata": {
        "id": "-TxTJ3nugtlG"
      },
      "execution_count": null,
      "outputs": []
    },
    {
      "cell_type": "code",
      "source": [
        "stddev = calc_stddev(listResult)\n",
        "stddev"
      ],
      "metadata": {
        "colab": {
          "base_uri": "https://localhost:8080/"
        },
        "id": "3W1rFqbQpeXZ",
        "outputId": "4f53f580-5ae5-45be-b64e-57933c602a71"
      },
      "execution_count": null,
      "outputs": [
        {
          "output_type": "execute_result",
          "data": {
            "text/plain": [
              "2.9257477676655586"
            ]
          },
          "metadata": {},
          "execution_count": 13
        }
      ]
    },
    {
      "cell_type": "markdown",
      "source": [
        "# Ex 6.\n",
        "* 함수 이름: find_max_and_min\n",
        "* 기능: 숫자들을 저장하고 있는 리스트에서 최대값과 최소값을 반환."
      ],
      "metadata": {
        "id": "sYyx-Cc3heRc"
      }
    },
    {
      "cell_type": "code",
      "source": [
        "# del max, min\n",
        "def find_max_and_min(numbers):      \n",
        "# def 함수이름 (numbers):\n",
        "    return max(numbers), min(numbers)\n",
        "    # max(numbers), min(numbers)\n",
        "\n",
        "    # max_num = numbers[0]\n",
        "    # min_num = numbers[0]\n",
        "    # for x in numbers:\n",
        "    #     if x > max_num:\n",
        "    #         max_num = x\n",
        "    #     if x < min_num:\n",
        "    #         min_num = x\n",
        "    # return max_num, min_num"
      ],
      "metadata": {
        "id": "pM_SOMiiaWii"
      },
      "execution_count": null,
      "outputs": []
    },
    {
      "cell_type": "code",
      "source": [
        "mx, mn = find_max_and_min(listResult)\n",
        "print(mx)\n",
        "print(mn)\n",
        "# result = find_max_and_min(listResult)\n",
        "# result"
      ],
      "metadata": {
        "colab": {
          "base_uri": "https://localhost:8080/"
        },
        "id": "LoMnthaOpmu4",
        "outputId": "6547eaba-3dfa-4a1a-c21e-25ac1665c685"
      },
      "execution_count": null,
      "outputs": [
        {
          "output_type": "stream",
          "name": "stdout",
          "text": [
            "9\n",
            "1\n"
          ]
        }
      ]
    },
    {
      "cell_type": "markdown",
      "source": [
        "# Default argument (기본 인수)\n",
        "\n",
        "* 함수를 정의할 때 파라미터 (parameter)에 설정된 기본 값.\n",
        "* 함수를 호출할 때 default argument를 갖는 파라미터에 값을 전달하지 않으면, default argument가 함수 내부에서 사용됨.\n",
        "* 함수를 호출할 때 default argument를 갖는 파라미터에 값을 전달하면, default argument는 무시되고 전달된 값이 함수 내부에서 사용됨.\n",
        "* **(주의)** 함수를 정의할 때 default parameter들은 반드시 default 값을 갖지 않는 파라미터들 뒤에 선언해야 함."
      ],
      "metadata": {
        "id": "oCw78M9_LrWH"
      }
    },
    {
      "cell_type": "code",
      "source": [
        "def repeat_messages(message, n=1):\n",
        "# (n=1, message) 와 같이 입력하면 에러 발생! (상기된 주의사항 참조)\n",
        "    for _ in range(n):\n",
        "        print(message)"
      ],
      "metadata": {
        "id": "JON9IKmZsECJ"
      },
      "execution_count": 22,
      "outputs": []
    },
    {
      "cell_type": "code",
      "source": [
        "repeat_messages('안녕하세요')"
      ],
      "metadata": {
        "colab": {
          "base_uri": "https://localhost:8080/"
        },
        "id": "1uoC4tM9Nnzv",
        "outputId": "cef62e48-47b6-41f2-ce56-d88f18e493da"
      },
      "execution_count": 25,
      "outputs": [
        {
          "output_type": "stream",
          "name": "stdout",
          "text": [
            "안녕하세요\n"
          ]
        }
      ]
    },
    {
      "cell_type": "markdown",
      "source": [
        "# argument 전달 방법:\n",
        "\n",
        "함수를 호출할 때 함수에 값(argument)을 전달하는 방법:\n",
        "* **positional argument**: 함수를 정의할 때 선언 된 파라미터 순서대로 값을 전달하는 방식.\n",
        "* **keyword argument**: `parameter_name = value` 와 같은 형식으로 값을 전달하는 방식.\n",
        "    * keyword argument 방식으로 값을 전달할 때는 함수 정의의 파라미터 순서를 지키지 않아도 됨. \n",
        "* **(주의)** 함수를 호출할 때 positional 방식과 keyword 방식을 혼용하는 경우, 반드시 positional argument가 먼저, keyword argument가 나중에 와야 함!"
      ],
      "metadata": {
        "id": "osRkcfetPXIu"
      }
    },
    {
      "cell_type": "code",
      "source": [
        "print(end=',', 'a') # => end= 는 keyword argument, 'a'는 positional argument\n",
        "                    # 그러나 positional이 뒤에 있어서 오류 발생.\n",
        "print('a', end=',') # 오류 없음\n",
        "print('b')"
      ],
      "metadata": {
        "id": "moKBblqmNqE8"
      },
      "execution_count": null,
      "outputs": []
    },
    {
      "cell_type": "code",
      "source": [
        "def minus(x, y):\n",
        "    return x - y"
      ],
      "metadata": {
        "id": "vMkZWLxARu34"
      },
      "execution_count": 27,
      "outputs": []
    },
    {
      "cell_type": "code",
      "source": [
        "# positional argument 방식의 함수 호출\n",
        "minus(1, 2)"
      ],
      "metadata": {
        "colab": {
          "base_uri": "https://localhost:8080/"
        },
        "id": "HUB91e1uRzhd",
        "outputId": "c65027c5-0a2d-4f16-f350-346411919519"
      },
      "execution_count": 28,
      "outputs": [
        {
          "output_type": "execute_result",
          "data": {
            "text/plain": [
              "-1"
            ]
          },
          "metadata": {},
          "execution_count": 28
        }
      ]
    },
    {
      "cell_type": "code",
      "source": [
        "# keyword argument 방식의 함수 호출\n",
        "minus(x = 1, y = 2)"
      ],
      "metadata": {
        "colab": {
          "base_uri": "https://localhost:8080/"
        },
        "id": "-Dp1_PBuR5Mx",
        "outputId": "dcd8d97b-de1b-4245-81dd-59b4c1fb6090"
      },
      "execution_count": 29,
      "outputs": [
        {
          "output_type": "execute_result",
          "data": {
            "text/plain": [
              "-1"
            ]
          },
          "metadata": {},
          "execution_count": 29
        }
      ]
    },
    {
      "cell_type": "code",
      "source": [
        "# keyword argument 에서는 순서 지키지 않아도 됨.(어떤 파라미터인지 명시되어 있기 때문에 )\n",
        "# 그러나 불필요 (괜히 혼란 야기)\n",
        "minus(y=1, x=2)"
      ],
      "metadata": {
        "colab": {
          "base_uri": "https://localhost:8080/"
        },
        "id": "vrcCPmFuSI1v",
        "outputId": "886c16a7-b924-44cc-90fd-2aa522faced4"
      },
      "execution_count": 30,
      "outputs": [
        {
          "output_type": "execute_result",
          "data": {
            "text/plain": [
              "1"
            ]
          },
          "metadata": {},
          "execution_count": 30
        }
      ]
    },
    {
      "cell_type": "code",
      "source": [
        "# positional 을 먼저, keyword를 나중에\n",
        "minus(1, y=2)\n",
        "# minus(x=1, 2) => 이건 불가"
      ],
      "metadata": {
        "colab": {
          "base_uri": "https://localhost:8080/"
        },
        "id": "8pvKJK9qSfxN",
        "outputId": "cdc6e55b-246a-433d-ad07-96ae2954b461"
      },
      "execution_count": 31,
      "outputs": [
        {
          "output_type": "execute_result",
          "data": {
            "text/plain": [
              "-1"
            ]
          },
          "metadata": {},
          "execution_count": 31
        }
      ]
    },
    {
      "cell_type": "markdown",
      "source": [
        "# 가변길이 인수 (variable-length arguments)\n",
        "\n"
      ],
      "metadata": {
        "id": "YAWzr2JdTv98"
      }
    },
    {
      "cell_type": "code",
      "source": [
        "print('hello')  # argument 1개"
      ],
      "metadata": {
        "id": "FoMfJwf6TQhu"
      },
      "execution_count": null,
      "outputs": []
    },
    {
      "cell_type": "code",
      "source": [
        "print('hello', 'python')    # argument 2개"
      ],
      "metadata": {
        "id": "z99dSnQdUIMp"
      },
      "execution_count": null,
      "outputs": []
    },
    {
      "cell_type": "code",
      "source": [
        "max([1,2,3])    # argument 1개"
      ],
      "metadata": {
        "colab": {
          "base_uri": "https://localhost:8080/"
        },
        "id": "5gKZ1lYjUVoV",
        "outputId": "56634fc9-5038-45c1-9b59-93531c9a8276"
      },
      "execution_count": 32,
      "outputs": [
        {
          "output_type": "execute_result",
          "data": {
            "text/plain": [
              "3"
            ]
          },
          "metadata": {},
          "execution_count": 32
        }
      ]
    },
    {
      "cell_type": "code",
      "source": [
        "max(1,2,3,10,5,7)   # argument 6개"
      ],
      "metadata": {
        "colab": {
          "base_uri": "https://localhost:8080/"
        },
        "id": "gpv0S5ZcUeCV",
        "outputId": "c8b206e4-2c09-444c-d147-43368e46027d"
      },
      "execution_count": 33,
      "outputs": [
        {
          "output_type": "execute_result",
          "data": {
            "text/plain": [
              "10"
            ]
          },
          "metadata": {},
          "execution_count": 33
        }
      ]
    },
    {
      "cell_type": "markdown",
      "source": [
        "가변길이 인수\n",
        "\n",
        "* 함수를 호출할 때 전달하는 값(argument)의 개수가 임의로 변할 수 있는 것.\n",
        "    * argument 개수의 제한이 없다.\n",
        "    * argument를 전달하지 않아도 됨.\n",
        "* 함수를 정의할 때, 파라미터 이름 앞에 `*`를 사용하면 가변길이 인수를 전달받는 파라미터가 됨.\n",
        "* 함수 내부에서 가변길이 인수는 tuple로 취급.\n",
        "    * 가변길이 인수는 인덱스를 사용할 수 있음.\n",
        "    * 가변길이 인수는 for-in 구문에서 사용할 수 있음.\n",
        "\n",
        "* **주의**\n",
        "    * 가변길이 인수는 keyword argument 방식으로 전달할 수 없음.\n",
        "    * 함수를 선언할 때 가변길이 인수를 갖는 파라미터는 오직 **하나** 만 선언할 수 있음.\n",
        "    "
      ],
      "metadata": {
        "id": "T2NQ5zmOaSp1"
      }
    },
    {
      "cell_type": "code",
      "source": [
        "def add_all(*values):\n",
        "    total = 0\n",
        "    for x in values:\n",
        "        total += x\n",
        "    return total"
      ],
      "metadata": {
        "id": "-tzXwDmNZOVN"
      },
      "execution_count": 39,
      "outputs": []
    },
    {
      "cell_type": "code",
      "source": [
        "add_all(1)"
      ],
      "metadata": {
        "colab": {
          "base_uri": "https://localhost:8080/"
        },
        "id": "16MyuILgaRuf",
        "outputId": "f5d9d209-40a8-4f21-bebb-6d19785cfca6"
      },
      "execution_count": 40,
      "outputs": [
        {
          "output_type": "execute_result",
          "data": {
            "text/plain": [
              "1"
            ]
          },
          "metadata": {},
          "execution_count": 40
        }
      ]
    },
    {
      "cell_type": "code",
      "source": [
        "add_all(1,2,3)"
      ],
      "metadata": {
        "colab": {
          "base_uri": "https://localhost:8080/"
        },
        "id": "u78Z3tijabM2",
        "outputId": "48bdbc98-0377-47ad-93dd-398b12532285"
      },
      "execution_count": 41,
      "outputs": [
        {
          "output_type": "execute_result",
          "data": {
            "text/plain": [
              "6"
            ]
          },
          "metadata": {},
          "execution_count": 41
        }
      ]
    },
    {
      "cell_type": "code",
      "source": [
        "add_all()"
      ],
      "metadata": {
        "colab": {
          "base_uri": "https://localhost:8080/"
        },
        "id": "3qwkLMuuaqvE",
        "outputId": "9d0539fb-9547-4b6b-b096-a4c1d3c4e9b6"
      },
      "execution_count": 42,
      "outputs": [
        {
          "output_type": "execute_result",
          "data": {
            "text/plain": [
              "0"
            ]
          },
          "metadata": {},
          "execution_count": 42
        }
      ]
    },
    {
      "cell_type": "code",
      "source": [
        "def test1(a, *b):\n",
        "    print('a = ', a)\n",
        "    print('b = ', b)"
      ],
      "metadata": {
        "id": "r3C1tGLKbKWh"
      },
      "execution_count": 44,
      "outputs": []
    },
    {
      "cell_type": "code",
      "source": [
        "test1(1,2)"
      ],
      "metadata": {
        "colab": {
          "base_uri": "https://localhost:8080/"
        },
        "id": "oTHqC6l8czst",
        "outputId": "1e27d3da-9674-4771-f200-df6fbddae9c1"
      },
      "execution_count": 45,
      "outputs": [
        {
          "output_type": "stream",
          "name": "stdout",
          "text": [
            "a =  1\n",
            "b =  (2,)\n"
          ]
        }
      ]
    },
    {
      "cell_type": "code",
      "source": [
        "test1(1,2,3)"
      ],
      "metadata": {
        "colab": {
          "base_uri": "https://localhost:8080/"
        },
        "id": "jCBGB4esc0ri",
        "outputId": "572ee906-6c2e-49df-fe90-cb61259cc0d0"
      },
      "execution_count": 46,
      "outputs": [
        {
          "output_type": "stream",
          "name": "stdout",
          "text": [
            "a =  1\n",
            "b =  (2, 3)\n"
          ]
        }
      ]
    },
    {
      "cell_type": "code",
      "source": [
        "# test1(a=1, b=2) # 가변길이 인수는 keyword 방식으로 전달 안 됨!"
      ],
      "metadata": {
        "id": "RDck1S6zc3de"
      },
      "execution_count": 48,
      "outputs": []
    },
    {
      "cell_type": "markdown",
      "source": [
        "test1() 함수는 positional argumen 방식으로만 값을 전달할 수 있는 함수."
      ],
      "metadata": {
        "id": "Aoc_8TMfd2zN"
      }
    },
    {
      "cell_type": "code",
      "source": [
        "def test2(*a, b):\n",
        "    print('a = ', a)\n",
        "    print('b = ', b)"
      ],
      "metadata": {
        "id": "8oASi_UAdR47"
      },
      "execution_count": 49,
      "outputs": []
    },
    {
      "cell_type": "code",
      "source": [
        "test2(1, b=3)"
      ],
      "metadata": {
        "colab": {
          "base_uri": "https://localhost:8080/"
        },
        "id": "jo6SbJd7eFJA",
        "outputId": "180216d8-77df-43e8-b983-ee142d733c4d"
      },
      "execution_count": 50,
      "outputs": [
        {
          "output_type": "stream",
          "name": "stdout",
          "text": [
            "a =  (1,)\n",
            "b =  3\n"
          ]
        }
      ]
    },
    {
      "cell_type": "code",
      "source": [
        "test2(1,2, b=4)"
      ],
      "metadata": {
        "colab": {
          "base_uri": "https://localhost:8080/"
        },
        "id": "_gBrona6eKL8",
        "outputId": "f76ac8ee-c051-4df8-d157-b2ba9cff2a00"
      },
      "execution_count": 51,
      "outputs": [
        {
          "output_type": "stream",
          "name": "stdout",
          "text": [
            "a =  (1, 2)\n",
            "b =  4\n"
          ]
        }
      ]
    },
    {
      "cell_type": "code",
      "source": [
        "# test2(1)  # test2()에서 파라미터 b는 기본 값이 없기에 keyword로만 전달 가능\n",
        "# test2(1,2,3) # 위와 마찬가지의 오류"
      ],
      "metadata": {
        "id": "-_t_Rv7geN7A"
      },
      "execution_count": 53,
      "outputs": []
    },
    {
      "cell_type": "code",
      "source": [
        "def test3(*a, b=0):\n",
        "    print('a = ', a)\n",
        "    print('b = ', b)"
      ],
      "metadata": {
        "id": "htAayzrdeVXW"
      },
      "execution_count": 54,
      "outputs": []
    },
    {
      "cell_type": "code",
      "source": [
        "test3(1)"
      ],
      "metadata": {
        "colab": {
          "base_uri": "https://localhost:8080/"
        },
        "id": "rhRs1-JHf5tl",
        "outputId": "6140209a-8438-45e0-d2eb-e36c30d70d8b"
      },
      "execution_count": 55,
      "outputs": [
        {
          "output_type": "stream",
          "name": "stdout",
          "text": [
            "a =  (1,)\n",
            "b =  0\n"
          ]
        }
      ]
    },
    {
      "cell_type": "code",
      "source": [
        "test3(1,2,3)"
      ],
      "metadata": {
        "colab": {
          "base_uri": "https://localhost:8080/"
        },
        "id": "wGJUhOFKf6ez",
        "outputId": "0d02d4b0-a75a-4d0a-8c86-59f703109f81"
      },
      "execution_count": 56,
      "outputs": [
        {
          "output_type": "stream",
          "name": "stdout",
          "text": [
            "a =  (1, 2, 3)\n",
            "b =  0\n"
          ]
        }
      ]
    },
    {
      "cell_type": "code",
      "source": [
        "test3(1,2,3,)"
      ],
      "metadata": {
        "colab": {
          "base_uri": "https://localhost:8080/"
        },
        "id": "nE1QMeyqf8Kg",
        "outputId": "9fad1641-20c4-4f2e-e084-e7d8ba6595f3"
      },
      "execution_count": 57,
      "outputs": [
        {
          "output_type": "stream",
          "name": "stdout",
          "text": [
            "a =  (1, 2, 3)\n",
            "b =  0\n"
          ]
        }
      ]
    },
    {
      "cell_type": "code",
      "source": [
        "test3(1,2,3,b=100)"
      ],
      "metadata": {
        "colab": {
          "base_uri": "https://localhost:8080/"
        },
        "id": "FOL33MTof9bl",
        "outputId": "83dc333f-a855-4b04-94bf-ba2920d40abe"
      },
      "execution_count": 58,
      "outputs": [
        {
          "output_type": "stream",
          "name": "stdout",
          "text": [
            "a =  (1, 2, 3)\n",
            "b =  100\n"
          ]
        }
      ]
    },
    {
      "cell_type": "code",
      "source": [
        "def calculate(*values, op):\n",
        "    \"\"\"\n",
        "    values: 임의의 개수의 숫자들\n",
        "    op: 문자열. ('+', '*')\n",
        "    op가 '+'인 경우 모든 값들의 합을 리턴. values에 전달된 값이 없으면 0을 리턴\n",
        "    op가 '*'인 경우 모든 값들의 곱을 리턴. values에 전달된 값이 없으면 1을 리턴\n",
        "    \"\"\"\n",
        "    if op == '+':\n",
        "        result = 0\n",
        "        for x in values:\n",
        "            result += x\n",
        "    elif op == '*':\n",
        "        result = 1\n",
        "        for x in values:\n",
        "            result *= x\n",
        "    else:\n",
        "        result = None\n",
        "\n",
        "    return result"
      ],
      "metadata": {
        "id": "r5VtqXRef_mn"
      },
      "execution_count": 60,
      "outputs": []
    },
    {
      "cell_type": "code",
      "source": [
        "calculate(1,2,3,4, op='*')"
      ],
      "metadata": {
        "colab": {
          "base_uri": "https://localhost:8080/"
        },
        "id": "5MfI0nlwguXW",
        "outputId": "d73607f6-1c02-47d1-c1bf-33c608789475"
      },
      "execution_count": 65,
      "outputs": [
        {
          "output_type": "execute_result",
          "data": {
            "text/plain": [
              "24"
            ]
          },
          "metadata": {},
          "execution_count": 65
        }
      ]
    },
    {
      "cell_type": "code",
      "source": [
        "calculate(1,2,3,op='+')"
      ],
      "metadata": {
        "colab": {
          "base_uri": "https://localhost:8080/"
        },
        "id": "_VJu54Laityw",
        "outputId": "420e19c8-1b56-4f55-db87-a8f62777701f"
      },
      "execution_count": 66,
      "outputs": [
        {
          "output_type": "execute_result",
          "data": {
            "text/plain": [
              "6"
            ]
          },
          "metadata": {},
          "execution_count": 66
        }
      ]
    },
    {
      "cell_type": "code",
      "source": [
        "calculate(op='*')"
      ],
      "metadata": {
        "colab": {
          "base_uri": "https://localhost:8080/"
        },
        "id": "zEJAdWy0i2CJ",
        "outputId": "fd1084b7-fd7d-4b98-deb5-e7ae8661a3fb"
      },
      "execution_count": 68,
      "outputs": [
        {
          "output_type": "execute_result",
          "data": {
            "text/plain": [
              "1"
            ]
          },
          "metadata": {},
          "execution_count": 68
        }
      ]
    },
    {
      "cell_type": "markdown",
      "source": [
        "# 가변길이 키워드 인수 (variable-length keyword argument)\n",
        "\n",
        "* variable-length + keyword\n",
        "    * variable-length argument: 함수 호출 시 임의의 개수의 argument를 전달할 수 있음.\n",
        "    * keyword argument: 함수를 호출할 때 반드시 `param_name=value` 형식으로 값을 전달.\n",
        "* 함수를 정의할 때 파라미터 이름 앞에 `**`를 사용.\n",
        "* 함수를 호출할 때 임의의 개수의 keyword argument를 전달하면 됨.\n",
        "    * 파라미터 이름 제한 없음.\n",
        "    * 값의 개수 제한 없음.\n",
        "* 함수 내부에서 가변길이 키워드 인수는 dict로 취급 됨.\n",
        "    * 함수 호출 시 사용한 파라미터 이름이 dict의 키(key)가 됨.\n",
        "    * 함수 호출 시 파라미터에 전달한 값(argument)이 dict의 값(value)가 됨.\n",
        "* 가변길이 키워드 인수는 함수 정의에서 오직 한 번만 가능."
      ],
      "metadata": {
        "id": "k7OTnls71627"
      }
    },
    {
      "cell_type": "code",
      "source": [
        "def test4(**kwargs):\n",
        "    print(kwargs)"
      ],
      "metadata": {
        "id": "VEndIFyYi5UP"
      },
      "execution_count": 69,
      "outputs": []
    },
    {
      "cell_type": "code",
      "source": [
        "test4()"
      ],
      "metadata": {
        "colab": {
          "base_uri": "https://localhost:8080/"
        },
        "id": "k9IRww6f3gDA",
        "outputId": "28e20ab4-5bc4-434a-f6b9-5d1cd2e5a01e"
      },
      "execution_count": 70,
      "outputs": [
        {
          "output_type": "stream",
          "name": "stdout",
          "text": [
            "{}\n"
          ]
        }
      ]
    },
    {
      "cell_type": "code",
      "source": [
        "test4(a=1)"
      ],
      "metadata": {
        "colab": {
          "base_uri": "https://localhost:8080/"
        },
        "id": "il3aXo4b3hkK",
        "outputId": "3366411f-d51f-4ce5-8cb9-827ec98e1669"
      },
      "execution_count": 71,
      "outputs": [
        {
          "output_type": "stream",
          "name": "stdout",
          "text": [
            "{'a': 1}\n"
          ]
        }
      ]
    },
    {
      "cell_type": "code",
      "source": [
        "test4(a=1, b='hello')"
      ],
      "metadata": {
        "colab": {
          "base_uri": "https://localhost:8080/"
        },
        "id": "xVyLJiwi4ODU",
        "outputId": "f0cfec32-e905-4eef-bf8c-70b5536f1e67"
      },
      "execution_count": 72,
      "outputs": [
        {
          "output_type": "stream",
          "name": "stdout",
          "text": [
            "{'a': 1, 'b': 'hello'}\n"
          ]
        }
      ]
    },
    {
      "cell_type": "code",
      "source": [
        "def test5(*args, **kwargs):\n",
        "    print('args = ', args)      # *args -> tuple\n",
        "    print('kwargs = ', kwargs)  # **kwargs -> dict"
      ],
      "metadata": {
        "id": "sGD2bvl04W1y"
      },
      "execution_count": 73,
      "outputs": []
    },
    {
      "cell_type": "code",
      "source": [
        "test5(1,2,3, a=5, b=6)"
      ],
      "metadata": {
        "colab": {
          "base_uri": "https://localhost:8080/"
        },
        "id": "kpZ2ERBb5Al1",
        "outputId": "10d13907-4dcf-4588-f870-100a6359b5d4"
      },
      "execution_count": 74,
      "outputs": [
        {
          "output_type": "stream",
          "name": "stdout",
          "text": [
            "args =  (1, 2, 3)\n",
            "kwargs =  {'a': 5, 'b': 6}\n"
          ]
        }
      ]
    },
    {
      "cell_type": "code",
      "source": [
        "test5(1,2,'a', 'b')"
      ],
      "metadata": {
        "colab": {
          "base_uri": "https://localhost:8080/"
        },
        "id": "lTPD-EWd5MG0",
        "outputId": "dd7e6071-9019-4e6c-f1e5-06f4e8aa426f"
      },
      "execution_count": 75,
      "outputs": [
        {
          "output_type": "stream",
          "name": "stdout",
          "text": [
            "args =  (1, 2, 'a', 'b')\n",
            "kwargs =  {}\n"
          ]
        }
      ]
    },
    {
      "cell_type": "code",
      "source": [
        "def make_employee(emp_no, emp_name, **kwargs):\n",
        "    emp = {'emp_no': emp_no, 'emp_name': emp_name}\n",
        "    for k, v in kwargs.items():\n",
        "        # kwargs의 키(파라미터 이름)가 email 또는 phone인 경우에만 dict에 추가.\n",
        "        # 그 이외의 파라미터들은 모두 무시.\n",
        "        if k == 'email' or k == 'phone':\n",
        "            emp[k] = v\n",
        "    return emp"
      ],
      "metadata": {
        "id": "PkZfYbl45pTX"
      },
      "execution_count": 76,
      "outputs": []
    },
    {
      "cell_type": "code",
      "source": [
        "make_employee(101, 'Scott', phone='010-1111-1111', email='123@123')"
      ],
      "metadata": {
        "colab": {
          "base_uri": "https://localhost:8080/"
        },
        "id": "BxqVtw697xSS",
        "outputId": "221e8e45-9f42-4bea-c97a-123a0847e874"
      },
      "execution_count": 82,
      "outputs": [
        {
          "output_type": "execute_result",
          "data": {
            "text/plain": [
              "{'email': '123@123',\n",
              " 'emp_name': 'Scott',\n",
              " 'emp_no': 101,\n",
              " 'phone': '010-1111-1111'}"
            ]
          },
          "metadata": {},
          "execution_count": 82
        }
      ]
    },
    {
      "cell_type": "markdown",
      "source": [
        "# 재귀 함수 (recursive function)\n",
        "\n",
        "함수 내부에서 자기 자신을 다시 호출하는 함수"
      ],
      "metadata": {
        "id": "gkO5lQMh9OBD"
      }
    },
    {
      "cell_type": "code",
      "source": [
        "def factorial(n):\n",
        "    result = None\n",
        "    if n == 0:\n",
        "        result = 1\n",
        "    elif n > 0 :\n",
        "        result = factorial(n-1) * n\n",
        "    return result"
      ],
      "metadata": {
        "id": "tNpzk8JH79j6"
      },
      "execution_count": 83,
      "outputs": []
    },
    {
      "cell_type": "code",
      "source": [
        "for n in range(6):\n",
        "    print(factorial(n))"
      ],
      "metadata": {
        "colab": {
          "base_uri": "https://localhost:8080/"
        },
        "id": "bG-km7i--rQj",
        "outputId": "dd9f64b9-ce1a-41bf-828c-4a2575f1c97d"
      },
      "execution_count": 85,
      "outputs": [
        {
          "output_type": "stream",
          "name": "stdout",
          "text": [
            "1\n",
            "1\n",
            "2\n",
            "6\n",
            "24\n",
            "120\n"
          ]
        }
      ]
    },
    {
      "cell_type": "code",
      "source": [
        ""
      ],
      "metadata": {
        "id": "8PzKvSQD-ssb"
      },
      "execution_count": null,
      "outputs": []
    }
  ]
}