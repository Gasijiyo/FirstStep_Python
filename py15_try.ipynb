{
  "nbformat": 4,
  "nbformat_minor": 0,
  "metadata": {
    "colab": {
      "name": "py15_try.ipynb",
      "provenance": [],
      "collapsed_sections": [],
      "authorship_tag": "ABX9TyP8MiCRpfDcEdB55pkXaPsi",
      "include_colab_link": true
    },
    "kernelspec": {
      "name": "python3",
      "display_name": "Python 3"
    },
    "language_info": {
      "name": "python"
    }
  },
  "cells": [
    {
      "cell_type": "markdown",
      "metadata": {
        "id": "view-in-github",
        "colab_type": "text"
      },
      "source": [
        "<a href=\"https://colab.research.google.com/github/Gasijiyo/FirstStep_Python/blob/master/py15_try.ipynb\" target=\"_parent\"><img src=\"https://colab.research.google.com/assets/colab-badge.svg\" alt=\"Open In Colab\"/></a>"
      ]
    },
    {
      "cell_type": "markdown",
      "source": [
        "# 예외(오류) 처리\n",
        "\n",
        "* 오류가 발생한 위치와 원인을 파악해서 오류가 발생하지 않도록 코드 수정.\n",
        "* 오류가 발생하더라도 프로그램이 비정상적으로 종료되지 않고 계속 실행될 수 있도록 처리. --> try 구문\n",
        "    * Java는 try구문을 사용하지 않으면 compile 에러가 발생하는 경우가 있지만\n",
        "    * Python에서는 try구문이 필수는 아님."
      ],
      "metadata": {
        "id": "400BsOhhlm_9"
      }
    },
    {
      "cell_type": "markdown",
      "source": [
        "```\n",
        "try:\n",
        "    (1) 실행할 코드(들)\n",
        "except [에러 이름[as 별명]]:\n",
        "    (2) 에러가 발생했을 때 실행할 코드(들)\n",
        "[else: \n",
        "    (3) try 블록 내부의 모든 코드가 에러없이 정상적으로 실행된 경우 실행할 문장(들)]\n",
        "[finally:\n",
        "    (4) try 블록을 실행 중 에러 발생여부와 상관없이 항상 실행할 문장(들)]\n",
        "```\n",
        "\n",
        "* 에러가 발생하지 않은 경우: (1)->(3)->(4)\n",
        "* 에러가 발생한 경우: (1)->(2)[->(4)]\n"
      ],
      "metadata": {
        "id": "o6rbUy_qnBdm"
      }
    },
    {
      "cell_type": "code",
      "execution_count": 3,
      "metadata": {
        "colab": {
          "base_uri": "https://localhost:8080/"
        },
        "id": "RI9uYvVklQgX",
        "outputId": "cb8cac32-0377-440e-ad91-cdebcdebc472"
      },
      "outputs": [
        {
          "name": "stdout",
          "output_type": "stream",
          "text": [
            "숫자 입력>>123\n"
          ]
        }
      ],
      "source": [
        "try:\n",
        "    x = float(input('숫자 입력>>'))\n",
        "except:\n",
        "    print('숫자로 입력하세요')"
      ]
    },
    {
      "cell_type": "code",
      "source": [
        "try:\n",
        "    x = float(input('숫자 입력>>>'))    # (1)\n",
        "except:\n",
        "    print('숫자로 입력하세요...')       # (2)\n",
        "else:\n",
        "    print('x = ', x)                    # (3)\n",
        "finally:\n",
        "    print('=== end ===')                # (4)"
      ],
      "metadata": {
        "colab": {
          "base_uri": "https://localhost:8080/"
        },
        "id": "uMwzc4ZVtdYj",
        "outputId": "3a8b24ef-d983-4cc4-ab0b-b4bf09ca27dc"
      },
      "execution_count": 4,
      "outputs": [
        {
          "output_type": "stream",
          "name": "stdout",
          "text": [
            "숫자 입력>>>dfdf\n",
            "숫자로 입력하세요...\n",
            "=== end ===\n"
          ]
        }
      ]
    },
    {
      "cell_type": "code",
      "source": [
        "try:\n",
        "    x = float(input('x 입력>>>')) \n",
        "    y = float(input('y 입력>>>'))\n",
        "    print(f'{x} + {y} = {x + y}')\n",
        "    print(f'{x} - {y} = {x - y}')\n",
        "    print(f'{x} * {y} = {x * y}')\n",
        "    print(f'{x} / {y} = {x / y}')\n",
        "except ValueError:\n",
        "    print('숫자로 입력하세요...')\n",
        "except ZeroDivisionError:\n",
        "    print('0으로 나눌 수는 없습니다.')"
      ],
      "metadata": {
        "colab": {
          "base_uri": "https://localhost:8080/"
        },
        "id": "ZCT0eJ2wvQi7",
        "outputId": "c16165b8-87af-4934-dfc0-542bbd13d1b8"
      },
      "execution_count": 7,
      "outputs": [
        {
          "output_type": "stream",
          "name": "stdout",
          "text": [
            "x 입력>>>3\n",
            "y 입력>>>0\n",
            "3.0 + 0.0 = 3.0\n",
            "3.0 - 0.0 = 3.0\n",
            "3.0 * 0.0 = 0.0\n",
            "0으로 나눌 수는 없습니다.\n"
          ]
        }
      ]
    },
    {
      "cell_type": "code",
      "source": [
        "# try-except 연습"
      ],
      "metadata": {
        "id": "raTFU1v3wxRM"
      },
      "execution_count": null,
      "outputs": []
    },
    {
      "cell_type": "markdown",
      "source": [
        "## Ex 1.\n",
        "정수 한 개를 입력받고 입력받은 정수를 출력"
      ],
      "metadata": {
        "id": "pHx_oKxDy5fr"
      }
    },
    {
      "cell_type": "code",
      "source": [
        "while True:\n",
        "    try:\n",
        "        x = int(input('정수 입력>>>'))\n",
        "        print('입력값 = ', x)\n",
        "        break   # 무한루프 종료\n",
        "    except:\n",
        "        print('정수가 아닙니다.')\n",
        "    # else:\n",
        "    #     break"
      ],
      "metadata": {
        "colab": {
          "base_uri": "https://localhost:8080/"
        },
        "id": "PPBULdzZy9n_",
        "outputId": "a56075d3-ad99-476b-965f-7e6708f66da4"
      },
      "execution_count": 2,
      "outputs": [
        {
          "output_type": "stream",
          "name": "stdout",
          "text": [
            "정수 입력>>>ㅇ\n",
            "정수가 아닙니다.\n",
            "정수 입력>>>ㅁ\n",
            "정수가 아닙니다.\n",
            "정수 입력>>>2\n",
            "입력값 =  2\n"
          ]
        }
      ]
    },
    {
      "cell_type": "markdown",
      "source": [
        "## Ex 2.\n",
        "word counting"
      ],
      "metadata": {
        "id": "ScbBRQz3zFV8"
      }
    },
    {
      "cell_type": "code",
      "source": [
        "words = ['one', 'two', 'three', 'two', 'three', 'three', 'four']\n",
        "#> 리스트 words의 문자열을 key, 문자열의 등장 횟수를 value로 하는 dict를 만드시오\n",
        "#> {'one':1, 'two':2, 'three':3, 'four':1}"
      ],
      "metadata": {
        "id": "7qfXrQvBzhp1"
      },
      "execution_count": 4,
      "outputs": []
    },
    {
      "cell_type": "code",
      "source": [
        "dict1 = {}\n",
        "for x in words:\n",
        "    try:\n",
        "        dict1[x] += 1   # dict1[x] = dict1[x] + 1\n",
        "    except:\n",
        "        dict1[x] = 1\n",
        "    print(dict1)"
      ],
      "metadata": {
        "colab": {
          "base_uri": "https://localhost:8080/"
        },
        "id": "ujLcXCFUz2Rs",
        "outputId": "3df953f1-05e9-46b9-92e2-6ebbced655a6"
      },
      "execution_count": 5,
      "outputs": [
        {
          "output_type": "stream",
          "name": "stdout",
          "text": [
            "{'one': 1}\n",
            "{'one': 1, 'two': 1}\n",
            "{'one': 1, 'two': 1, 'three': 1}\n",
            "{'one': 1, 'two': 2, 'three': 1}\n",
            "{'one': 1, 'two': 2, 'three': 2}\n",
            "{'one': 1, 'two': 2, 'three': 3}\n",
            "{'one': 1, 'two': 2, 'three': 3, 'four': 1}\n"
          ]
        }
      ]
    },
    {
      "cell_type": "code",
      "source": [
        ""
      ],
      "metadata": {
        "id": "Y7McehiU0HJR"
      },
      "execution_count": null,
      "outputs": []
    }
  ]
}