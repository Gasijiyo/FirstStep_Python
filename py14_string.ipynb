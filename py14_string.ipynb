{
  "nbformat": 4,
  "nbformat_minor": 0,
  "metadata": {
    "colab": {
      "name": "py14_string.ipynb",
      "provenance": [],
      "collapsed_sections": [],
      "authorship_tag": "ABX9TyO3tDE0xiCGNXpgS+I+dnKI",
      "include_colab_link": true
    },
    "kernelspec": {
      "name": "python3",
      "display_name": "Python 3"
    },
    "language_info": {
      "name": "python"
    }
  },
  "cells": [
    {
      "cell_type": "markdown",
      "metadata": {
        "id": "view-in-github",
        "colab_type": "text"
      },
      "source": [
        "<a href=\"https://colab.research.google.com/github/Gasijiyo/FirstStep_Python/blob/master/py14_string.ipynb\" target=\"_parent\"><img src=\"https://colab.research.google.com/assets/colab-badge.svg\" alt=\"Open In Colab\"/></a>"
      ]
    },
    {
      "cell_type": "markdown",
      "source": [
        "# str 클래스의 메소드\n",
        "\n",
        "* str 클래스의 메소드들은 원본 문자열을 변경하지 않음!\n",
        "* 원본 문자열을 변환한 새로운 문자열을 반환함."
      ],
      "metadata": {
        "id": "gVx8P8zpP-QP"
      }
    },
    {
      "cell_type": "code",
      "execution_count": 5,
      "metadata": {
        "id": "pfgyjWUhPvaw"
      },
      "outputs": [],
      "source": [
        "s = 'heLLo, pyTHon! 안녕하세요. 12345'"
      ]
    },
    {
      "cell_type": "code",
      "source": [
        "s"
      ],
      "metadata": {
        "colab": {
          "base_uri": "https://localhost:8080/",
          "height": 35
        },
        "id": "rbgoQsrgQHVI",
        "outputId": "19abfaf9-0310-4944-9d10-78126c739ce4"
      },
      "execution_count": 6,
      "outputs": [
        {
          "output_type": "execute_result",
          "data": {
            "application/vnd.google.colaboratory.intrinsic+json": {
              "type": "string"
            },
            "text/plain": [
              "'heLLo, pyTHon! 안녕하세요. 12345'"
            ]
          },
          "metadata": {},
          "execution_count": 6
        }
      ]
    },
    {
      "cell_type": "code",
      "source": [
        "s.lower()   # 소문자로 변환된 \"새로운\" 문자열을 리턴."
      ],
      "metadata": {
        "colab": {
          "base_uri": "https://localhost:8080/",
          "height": 35
        },
        "id": "YTuOdWJbQgzr",
        "outputId": "d30cf542-79d9-4d00-ea4b-bf84b669d07e"
      },
      "execution_count": 8,
      "outputs": [
        {
          "output_type": "execute_result",
          "data": {
            "application/vnd.google.colaboratory.intrinsic+json": {
              "type": "string"
            },
            "text/plain": [
              "'hello, python! 안녕하세요. 12345'"
            ]
          },
          "metadata": {},
          "execution_count": 8
        }
      ]
    },
    {
      "cell_type": "code",
      "source": [
        "s   # 원본 문자열 s는 변경되지 않음"
      ],
      "metadata": {
        "colab": {
          "base_uri": "https://localhost:8080/",
          "height": 35
        },
        "id": "q4pq1y9eQkFs",
        "outputId": "8f771445-03c0-48be-8933-7b6abd6df67c"
      },
      "execution_count": 9,
      "outputs": [
        {
          "output_type": "execute_result",
          "data": {
            "application/vnd.google.colaboratory.intrinsic+json": {
              "type": "string"
            },
            "text/plain": [
              "'heLLo, pyTHon! 안녕하세요. 12345'"
            ]
          },
          "metadata": {},
          "execution_count": 9
        }
      ]
    },
    {
      "cell_type": "code",
      "source": [
        "s.upper()   # 대문자로 변환된 문자열을 리턴."
      ],
      "metadata": {
        "colab": {
          "base_uri": "https://localhost:8080/",
          "height": 35
        },
        "id": "k1sYLUFAQ3Ip",
        "outputId": "ce086031-90f7-4e93-f958-8ca939f6e053"
      },
      "execution_count": 10,
      "outputs": [
        {
          "output_type": "execute_result",
          "data": {
            "application/vnd.google.colaboratory.intrinsic+json": {
              "type": "string"
            },
            "text/plain": [
              "'HELLO, PYTHON! 안녕하세요. 12345'"
            ]
          },
          "metadata": {},
          "execution_count": 10
        }
      ]
    },
    {
      "cell_type": "code",
      "source": [
        "s.capitalize()  # 첫 글자를 대문자, 나머지를 소문자로 리턴"
      ],
      "metadata": {
        "colab": {
          "base_uri": "https://localhost:8080/",
          "height": 35
        },
        "id": "8g3qe9QQRlz9",
        "outputId": "f8932f14-4cde-4498-9981-1a17a00abeac"
      },
      "execution_count": 11,
      "outputs": [
        {
          "output_type": "execute_result",
          "data": {
            "application/vnd.google.colaboratory.intrinsic+json": {
              "type": "string"
            },
            "text/plain": [
              "'Hello, python! 안녕하세요. 12345'"
            ]
          },
          "metadata": {},
          "execution_count": 11
        }
      ]
    },
    {
      "cell_type": "code",
      "source": [
        "s.count('L')    # 문자열에서 substring이 등장하는 횟수를 리턴"
      ],
      "metadata": {
        "colab": {
          "base_uri": "https://localhost:8080/"
        },
        "id": "pji9HJQiTAvv",
        "outputId": "0ed7914e-7f46-4fbf-c2b6-cb63a654b81e"
      },
      "execution_count": 13,
      "outputs": [
        {
          "output_type": "execute_result",
          "data": {
            "text/plain": [
              "2"
            ]
          },
          "metadata": {},
          "execution_count": 13
        }
      ]
    },
    {
      "cell_type": "code",
      "source": [
        "url = 'https://www.python.org/'\n",
        "url.startswith('http')"
      ],
      "metadata": {
        "colab": {
          "base_uri": "https://localhost:8080/"
        },
        "id": "Lew6-vk-TC-A",
        "outputId": "7142b00b-49f5-4cf2-cf10-7cc2f4ff0bd5"
      },
      "execution_count": 15,
      "outputs": [
        {
          "output_type": "execute_result",
          "data": {
            "text/plain": [
              "True"
            ]
          },
          "metadata": {},
          "execution_count": 15
        }
      ]
    },
    {
      "cell_type": "code",
      "source": [
        "url.startswith('ftp')"
      ],
      "metadata": {
        "colab": {
          "base_uri": "https://localhost:8080/"
        },
        "id": "EgPa-Yt3VATD",
        "outputId": "9dd85aa1-2de4-4729-95b5-4fc88e1ef39b"
      },
      "execution_count": 17,
      "outputs": [
        {
          "output_type": "execute_result",
          "data": {
            "text/plain": [
              "False"
            ]
          },
          "metadata": {},
          "execution_count": 17
        }
      ]
    },
    {
      "cell_type": "code",
      "source": [
        "tel = '010-1234-5678'\n",
        "tel.endswith('5678')"
      ],
      "metadata": {
        "colab": {
          "base_uri": "https://localhost:8080/"
        },
        "id": "ehbRyvP9VjHP",
        "outputId": "f37a0c0e-2a89-4034-b74e-9ebfcc75cdcd"
      },
      "execution_count": 18,
      "outputs": [
        {
          "output_type": "execute_result",
          "data": {
            "text/plain": [
              "True"
            ]
          },
          "metadata": {},
          "execution_count": 18
        }
      ]
    },
    {
      "cell_type": "code",
      "source": [
        "# substring이 string에 포함되어 있는지를 검사: substring in string\n",
        "'1234' in tel"
      ],
      "metadata": {
        "colab": {
          "base_uri": "https://localhost:8080/"
        },
        "id": "vZ5LzTrWWFkY",
        "outputId": "3b38a07e-1ac4-4b2c-93ce-d1785913539b"
      },
      "execution_count": 19,
      "outputs": [
        {
          "output_type": "execute_result",
          "data": {
            "text/plain": [
              "True"
            ]
          },
          "metadata": {},
          "execution_count": 19
        }
      ]
    },
    {
      "cell_type": "code",
      "source": [
        "'0000' in tel"
      ],
      "metadata": {
        "colab": {
          "base_uri": "https://localhost:8080/"
        },
        "id": "zc1Ya2GHWmo1",
        "outputId": "c839cd17-17d1-477e-d49a-a73aef19f1be"
      },
      "execution_count": 20,
      "outputs": [
        {
          "output_type": "execute_result",
          "data": {
            "text/plain": [
              "False"
            ]
          },
          "metadata": {},
          "execution_count": 20
        }
      ]
    },
    {
      "cell_type": "code",
      "source": [
        "email = 'abc.def@gmail.com'\n",
        "email.find('@') # argument로 전달한 문자열이 처음 등장하는 인덱스, "
      ],
      "metadata": {
        "colab": {
          "base_uri": "https://localhost:8080/"
        },
        "id": "QRd-8TXBWn9_",
        "outputId": "904a9453-5af6-45bd-8ff1-45056d9558ec"
      },
      "execution_count": 21,
      "outputs": [
        {
          "output_type": "execute_result",
          "data": {
            "text/plain": [
              "7"
            ]
          },
          "metadata": {},
          "execution_count": 21
        }
      ]
    },
    {
      "cell_type": "code",
      "source": [
        "email.find('!') # 문자열이 없으면 -1을 리턴"
      ],
      "metadata": {
        "colab": {
          "base_uri": "https://localhost:8080/"
        },
        "id": "CpC0gDE8XUAX",
        "outputId": "5f0634be-3588-4fa4-9a66-431b6c20aae8"
      },
      "execution_count": 22,
      "outputs": [
        {
          "output_type": "execute_result",
          "data": {
            "text/plain": [
              "-1"
            ]
          },
          "metadata": {},
          "execution_count": 22
        }
      ]
    },
    {
      "cell_type": "code",
      "source": [
        "idx = email.find('@')\n",
        "print(email[:idx])  # 문자열 slicing\n",
        "print(email[(idx+1):])"
      ],
      "metadata": {
        "colab": {
          "base_uri": "https://localhost:8080/"
        },
        "id": "ImhScGEFXvJ3",
        "outputId": "73611349-69d6-4332-d584-75021c8226b2"
      },
      "execution_count": 25,
      "outputs": [
        {
          "output_type": "stream",
          "name": "stdout",
          "text": [
            "abc.def\n",
            "gmail.com\n"
          ]
        }
      ]
    },
    {
      "cell_type": "code",
      "source": [
        "sentence = 'Textual data in Python is handled with str objects, or strings'"
      ],
      "metadata": {
        "id": "YEpE9BpkX3ro"
      },
      "execution_count": 26,
      "outputs": []
    },
    {
      "cell_type": "code",
      "source": [
        "sentence.split()\n",
        "# 공백 (space, tab, enter)을 기준으로 나뉜 문자열들의 list"
      ],
      "metadata": {
        "colab": {
          "base_uri": "https://localhost:8080/"
        },
        "id": "7tb0uoXRY4ki",
        "outputId": "022c4336-7037-4b4a-fcce-5288635f7f69"
      },
      "execution_count": 28,
      "outputs": [
        {
          "output_type": "execute_result",
          "data": {
            "text/plain": [
              "['Textual',\n",
              " 'data',\n",
              " 'in',\n",
              " 'Python',\n",
              " 'is',\n",
              " 'handled',\n",
              " 'with',\n",
              " 'str',\n",
              " 'objects,',\n",
              " 'or',\n",
              " 'strings']"
            ]
          },
          "metadata": {},
          "execution_count": 28
        }
      ]
    },
    {
      "cell_type": "code",
      "source": [
        "date = '2022-03-11'\n",
        "date.split(sep='-')"
      ],
      "metadata": {
        "colab": {
          "base_uri": "https://localhost:8080/"
        },
        "id": "OUARivOFZM80",
        "outputId": "b9a107a7-7bda-4c8a-aa2e-21967e4ed10f"
      },
      "execution_count": 29,
      "outputs": [
        {
          "output_type": "execute_result",
          "data": {
            "text/plain": [
              "['2022', '03', '11']"
            ]
          },
          "metadata": {},
          "execution_count": 29
        }
      ]
    },
    {
      "cell_type": "code",
      "source": [
        "time = '14:19:30'\n",
        "time.split(sep=':')"
      ],
      "metadata": {
        "colab": {
          "base_uri": "https://localhost:8080/"
        },
        "id": "KuqtaiTGawua",
        "outputId": "742bd366-8514-4a69-c21b-8b5d0e22e02c"
      },
      "execution_count": 30,
      "outputs": [
        {
          "output_type": "execute_result",
          "data": {
            "text/plain": [
              "['14', '19', '30']"
            ]
          },
          "metadata": {},
          "execution_count": 30
        }
      ]
    },
    {
      "cell_type": "code",
      "source": [
        "csv = '100,Scott,200,scott@itwill.co.kr,1234-5678,IT'\n",
        "csv.split(sep=',')"
      ],
      "metadata": {
        "colab": {
          "base_uri": "https://localhost:8080/"
        },
        "id": "w4QQ-YUZa1f3",
        "outputId": "28b7e194-384d-4e43-b2d1-379be516ae08"
      },
      "execution_count": 36,
      "outputs": [
        {
          "output_type": "execute_result",
          "data": {
            "text/plain": [
              "['100', 'Scott', '200', 'scott@itwill.co.kr', '1234-5678', 'IT']"
            ]
          },
          "metadata": {},
          "execution_count": 36
        }
      ]
    },
    {
      "cell_type": "code",
      "source": [
        "'/'.join(['2022', '03', '11'])"
      ],
      "metadata": {
        "colab": {
          "base_uri": "https://localhost:8080/",
          "height": 35
        },
        "id": "5SQu7hGabIKR",
        "outputId": "6e163d1b-71de-4085-d226-0d6ed3549049"
      },
      "execution_count": 37,
      "outputs": [
        {
          "output_type": "execute_result",
          "data": {
            "application/vnd.google.colaboratory.intrinsic+json": {
              "type": "string"
            },
            "text/plain": [
              "'2022/03/11'"
            ]
          },
          "metadata": {},
          "execution_count": 37
        }
      ]
    },
    {
      "cell_type": "code",
      "source": [
        "':'.join(['14', '45', '30'])"
      ],
      "metadata": {
        "colab": {
          "base_uri": "https://localhost:8080/",
          "height": 35
        },
        "id": "PuiaB6F8bS6k",
        "outputId": "a5d73b7b-7775-408a-acc0-cd2aa9494e42"
      },
      "execution_count": 39,
      "outputs": [
        {
          "output_type": "execute_result",
          "data": {
            "application/vnd.google.colaboratory.intrinsic+json": {
              "type": "string"
            },
            "text/plain": [
              "'14:45:30'"
            ]
          },
          "metadata": {},
          "execution_count": 39
        }
      ]
    },
    {
      "cell_type": "code",
      "source": [
        "' '.join(['홍길동', 'abc', '123-456'])"
      ],
      "metadata": {
        "colab": {
          "base_uri": "https://localhost:8080/",
          "height": 35
        },
        "id": "PMy8qtaBgxPJ",
        "outputId": "71fcfb78-c75c-4da4-ca2c-a5225e6eeed1"
      },
      "execution_count": 41,
      "outputs": [
        {
          "output_type": "execute_result",
          "data": {
            "application/vnd.google.colaboratory.intrinsic+json": {
              "type": "string"
            },
            "text/plain": [
              "'홍길동 abc 123-456'"
            ]
          },
          "metadata": {},
          "execution_count": 41
        }
      ]
    },
    {
      "cell_type": "code",
      "source": [
        "s = '        Hello, Python!     안녕하세요...      '\n",
        "print(s)\n",
        "print(s.lstrip())   # 문자열의 왼쪽(시작부분)에 있는 모든 공백 제거\n",
        "print(s.rstrip())   # 문자열의 오른쪽(시작부분)에 있는 모든 공백 제거\n",
        "print(s.strip())    # 문자열의 시작과 끝 부분에 있는 모든 공백들을 제거"
      ],
      "metadata": {
        "colab": {
          "base_uri": "https://localhost:8080/"
        },
        "id": "Tb_KjjYLg3sv",
        "outputId": "032f32eb-92a3-46c1-acbd-e063f95957c6"
      },
      "execution_count": 46,
      "outputs": [
        {
          "output_type": "stream",
          "name": "stdout",
          "text": [
            "        Hello, Python!     안녕하세요...      \n",
            "Hello, Python!     안녕하세요...      \n",
            "        Hello, Python!     안녕하세요...\n",
            "Hello, Python!     안녕하세요...\n"
          ]
        }
      ]
    },
    {
      "cell_type": "code",
      "source": [
        "s = '<<<Hello, Python>>>'\n",
        "s.lstrip('<').rstrip('>')"
      ],
      "metadata": {
        "colab": {
          "base_uri": "https://localhost:8080/",
          "height": 35
        },
        "id": "lc0F3rJjhT97",
        "outputId": "8bf1d74e-643a-4497-d5b0-1725bb7cf851"
      },
      "execution_count": 48,
      "outputs": [
        {
          "output_type": "execute_result",
          "data": {
            "application/vnd.google.colaboratory.intrinsic+json": {
              "type": "string"
            },
            "text/plain": [
              "'Hello, Python'"
            ]
          },
          "metadata": {},
          "execution_count": 48
        }
      ]
    },
    {
      "cell_type": "code",
      "source": [
        "s = 'hello,안녕,python,100'\n",
        "s.replace(',',':')  # 문자열 s에서 ,를 :로 대체"
      ],
      "metadata": {
        "colab": {
          "base_uri": "https://localhost:8080/",
          "height": 35
        },
        "id": "difntTS-i9F5",
        "outputId": "34fe0f6d-617f-4c3e-996b-8ca1bd29b238"
      },
      "execution_count": 49,
      "outputs": [
        {
          "output_type": "execute_result",
          "data": {
            "application/vnd.google.colaboratory.intrinsic+json": {
              "type": "string"
            },
            "text/plain": [
              "'hello:안녕:python:100'"
            ]
          },
          "metadata": {},
          "execution_count": 49
        }
      ]
    },
    {
      "cell_type": "code",
      "source": [
        "# 구두점(, .)들은 제거하고 순수하게 단어들로 이루어진 리스트를 만들어 보세요.\n",
        "sentence = 'Textual data in Python is handled with str objects, or strings.'\n",
        "sentence.replace(',','').replace('.','').split()"
      ],
      "metadata": {
        "colab": {
          "base_uri": "https://localhost:8080/"
        },
        "id": "MYIsEsgLjkNA",
        "outputId": "cc9f7f7b-9261-4f84-8090-55cc92bd665f"
      },
      "execution_count": 54,
      "outputs": [
        {
          "output_type": "execute_result",
          "data": {
            "text/plain": [
              "['Textual',\n",
              " 'data',\n",
              " 'in',\n",
              " 'Python',\n",
              " 'is',\n",
              " 'handled',\n",
              " 'with',\n",
              " 'str',\n",
              " 'objects',\n",
              " 'or',\n",
              " 'strings']"
            ]
          },
          "metadata": {},
          "execution_count": 54
        }
      ]
    },
    {
      "cell_type": "code",
      "source": [
        ""
      ],
      "metadata": {
        "id": "KypKcsVukmw4"
      },
      "execution_count": null,
      "outputs": []
    }
  ]
}