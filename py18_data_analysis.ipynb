{
  "nbformat": 4,
  "nbformat_minor": 0,
  "metadata": {
    "colab": {
      "name": "py18_data_analysis.ipynb",
      "provenance": [],
      "collapsed_sections": [
        "2mBZrCQVSX1_"
      ],
      "authorship_tag": "ABX9TyPHP8geFLXB5NOFyNwjtH9N",
      "include_colab_link": true
    },
    "kernelspec": {
      "name": "python3",
      "display_name": "Python 3"
    },
    "language_info": {
      "name": "python"
    }
  },
  "cells": [
    {
      "cell_type": "markdown",
      "metadata": {
        "id": "view-in-github",
        "colab_type": "text"
      },
      "source": [
        "<a href=\"https://colab.research.google.com/github/Gasijiyo/FirstStep_Python/blob/master/py18_data_analysis.ipynb\" target=\"_parent\"><img src=\"https://colab.research.google.com/assets/colab-badge.svg\" alt=\"Open In Colab\"/></a>"
      ]
    },
    {
      "cell_type": "markdown",
      "source": [
        "# 데이터 분석에 많이 사용되는 패키지\n",
        "\n",
        "* NumPy: 다차원 배열(n-dimensional array)을 다루는 패키지. 머신러닝에서 중요하게 사용 됨. (중요)\n",
        "* pandas: 데이터프레임(DataFrame)과 시리즈(Series)를 다루는 패키지. 데이터 분석에서 기본으로 사용되는 패키지.\n",
        "* matplotlib: 데이터 시각화 (그래프).\n",
        "\n",
        "Google Colab은 데이터 분석과 머신러닝에 필요한 대부분의 패키지들이 이미 설치되어 있음."
      ],
      "metadata": {
        "id": "2mBZrCQVSX1_"
      }
    },
    {
      "cell_type": "code",
      "execution_count": 2,
      "metadata": {
        "id": "TsTjfxnrSLP4"
      },
      "outputs": [],
      "source": [
        "import numpy as np\n",
        "import pandas as pd\n",
        "import matplotlib"
      ]
    },
    {
      "cell_type": "code",
      "source": [
        "# Google Colab에 설치된 패키지 버전\n",
        "print('NumPy version: ', np.__version__)\n",
        "print('pandas version: ', pd.__version__)\n",
        "print('matplotlib version: ', matplotlib.__version__)"
      ],
      "metadata": {
        "colab": {
          "base_uri": "https://localhost:8080/"
        },
        "id": "PntMOK9GUxlL",
        "outputId": "4ab9cbd7-2a65-4ce6-8d96-5f981e7b1d41"
      },
      "execution_count": 3,
      "outputs": [
        {
          "output_type": "stream",
          "name": "stdout",
          "text": [
            "NumPy version:  1.21.5\n",
            "pandas version:  1.3.5\n",
            "matplotlib version:  3.2.2\n"
          ]
        }
      ]
    },
    {
      "cell_type": "markdown",
      "source": [
        "# Python List\n",
        "\n",
        "* 여러개의 값들을 저장할 수 있는 데이터 타입.\n",
        "* 인덱스를 기반으로 값들을 저장하는 데이터 타입.\n",
        "    * indexing: 인덱스로 원하는 위치의 값을 참조.\n",
        "    * slicing: `[start, end)` 인덱스 범위의 값들로 이루어진 부분집합(list)을 만듦.\n",
        "* `list + list`: extend 메소드 기능. 두 개의 리스트를 이어붙여서 하나의 리스트를 만듦.\n",
        "    ```\n",
        "    [1,2] + [3,4] = [1,2,3,4]\n",
        "    ```\n",
        "* `list * int, int * list`: list의 원소들을 정수 개수만큼 반복해서 추가.\n",
        "    ```\n",
        "    [1,2] * 3 = [1,2,1,2,1,2]\n",
        "    3 * [1,2] = [1,2,1,2,1,2]\n",
        "    ```"
      ],
      "metadata": {
        "id": "apzoN-MKX72a"
      }
    },
    {
      "cell_type": "code",
      "source": [
        "num_list1 = [1,2,3]\n",
        "num_list2 = [10,20,30]"
      ],
      "metadata": {
        "id": "KhPEMXvEX6pY"
      },
      "execution_count": 4,
      "outputs": []
    },
    {
      "cell_type": "code",
      "source": [
        "print(num_list1[0])\n",
        "print(num_list1[-1])"
      ],
      "metadata": {
        "colab": {
          "base_uri": "https://localhost:8080/"
        },
        "id": "Hy8HliS4Y8Lj",
        "outputId": "119aa0d8-11ae-41d9-968a-f499705a2de2"
      },
      "execution_count": 5,
      "outputs": [
        {
          "output_type": "stream",
          "name": "stdout",
          "text": [
            "1\n",
            "3\n"
          ]
        }
      ]
    },
    {
      "cell_type": "code",
      "source": [
        "# slicing\n",
        "print(num_list1[:2])\n",
        "print(num_list1[-2:])"
      ],
      "metadata": {
        "colab": {
          "base_uri": "https://localhost:8080/"
        },
        "id": "gYeolhrqZAHT",
        "outputId": "2ab1d577-1526-4739-f0a0-c1cda6ca2c72"
      },
      "execution_count": 6,
      "outputs": [
        {
          "output_type": "stream",
          "name": "stdout",
          "text": [
            "[1, 2]\n",
            "[2, 3]\n"
          ]
        }
      ]
    },
    {
      "cell_type": "code",
      "source": [
        "num_list1 + num_list2"
      ],
      "metadata": {
        "colab": {
          "base_uri": "https://localhost:8080/"
        },
        "id": "urjCZQXfZyGO",
        "outputId": "00461b4f-59d1-4787-f715-acc4f29e6457"
      },
      "execution_count": 7,
      "outputs": [
        {
          "output_type": "execute_result",
          "data": {
            "text/plain": [
              "[1, 2, 3, 10, 20, 30]"
            ]
          },
          "metadata": {},
          "execution_count": 7
        }
      ]
    },
    {
      "cell_type": "code",
      "source": [
        "2 * num_list1"
      ],
      "metadata": {
        "colab": {
          "base_uri": "https://localhost:8080/"
        },
        "id": "oGnIpQdWZzfT",
        "outputId": "680c1b19-5f9f-4a5c-fa53-c74fcbccf496"
      },
      "execution_count": 8,
      "outputs": [
        {
          "output_type": "execute_result",
          "data": {
            "text/plain": [
              "[1, 2, 3, 1, 2, 3]"
            ]
          },
          "metadata": {},
          "execution_count": 8
        }
      ]
    },
    {
      "cell_type": "code",
      "source": [
        "# num_list1과 num_list2의 같은 인덱스의 원소들끼리의 합을 원소로 갖는 리스트.\n",
        "# add_list = []\n",
        "# for x, y in zip(num_list1, num_list2):\n",
        "#     add_list.append(x + y)\n",
        "add_list = [x+y for x, y in zip(num_list1, num_list2)]\n",
        "add_list"
      ],
      "metadata": {
        "colab": {
          "base_uri": "https://localhost:8080/"
        },
        "id": "IBqo1GVVub_-",
        "outputId": "0911e1dd-e076-432d-9c8a-a3eb2bf89c61"
      },
      "execution_count": 11,
      "outputs": [
        {
          "output_type": "execute_result",
          "data": {
            "text/plain": [
              "[11, 22, 33]"
            ]
          },
          "metadata": {},
          "execution_count": 11
        }
      ]
    },
    {
      "cell_type": "code",
      "source": [
        "# num_list1의 모든 원소에 곱하기 2를 한 결과\n",
        "[2 * x for x in num_list1]"
      ],
      "metadata": {
        "colab": {
          "base_uri": "https://localhost:8080/"
        },
        "id": "c5S2A4aKvq0l",
        "outputId": "33f9fad4-44aa-4c35-a3e0-984db61f5f26"
      },
      "execution_count": 12,
      "outputs": [
        {
          "output_type": "execute_result",
          "data": {
            "text/plain": [
              "[2, 4, 6]"
            ]
          },
          "metadata": {},
          "execution_count": 12
        }
      ]
    },
    {
      "cell_type": "markdown",
      "source": [
        "# NumPy (Numerical Python)\n",
        "\n",
        "* 배열(array)을 쉽고 빠르게 연산+,-,*,/,...) 하기 위한 라이브러리\n",
        "* NumPy 패키지의 대부분의 기능(함수, 메소드)들은 반복문의 기능을 가지고 있음.\n",
        "* np.ndarray: 클래스: NumPy 패키지의 기본 데이터 타입. n차원 배열\n",
        "(n-dimensional array)\n",
        "    * ndarray의 연산은 같은 인덱스의 원소들끼리 (element-wise) 연산을 수행함."
      ],
      "metadata": {
        "id": "4Uw9s5Q4tTUM"
      }
    },
    {
      "cell_type": "code",
      "source": [
        "num_arr1 = np.array(num_list1)"
      ],
      "metadata": {
        "id": "dwxq7E73Z0oI"
      },
      "execution_count": 13,
      "outputs": []
    },
    {
      "cell_type": "code",
      "source": [
        "num_arr1    # 식(expression)출력 - ndarray.__repr__() 메소드의 리턴값 출력"
      ],
      "metadata": {
        "colab": {
          "base_uri": "https://localhost:8080/"
        },
        "id": "FplMa6jGxAlj",
        "outputId": "bb0f16a4-1cfb-4779-c5c9-a449fbdbb927"
      },
      "execution_count": 14,
      "outputs": [
        {
          "output_type": "execute_result",
          "data": {
            "text/plain": [
              "array([1, 2, 3])"
            ]
          },
          "metadata": {},
          "execution_count": 14
        }
      ]
    },
    {
      "cell_type": "code",
      "source": [
        "print(num_arr1) # print() 함수는ndarray.__str__() 메소드의 리턴값 출력"
      ],
      "metadata": {
        "colab": {
          "base_uri": "https://localhost:8080/"
        },
        "id": "6IGxe-B2xBkZ",
        "outputId": "04b6f2a0-da1e-4463-92d6-287b803916b4"
      },
      "execution_count": 15,
      "outputs": [
        {
          "output_type": "stream",
          "name": "stdout",
          "text": [
            "[1 2 3]\n"
          ]
        }
      ]
    },
    {
      "cell_type": "code",
      "source": [
        "type(num_arr1)  "
      ],
      "metadata": {
        "colab": {
          "base_uri": "https://localhost:8080/"
        },
        "id": "EB7HZY4TxtJ8",
        "outputId": "2f1a426e-ef49-40ac-872e-a6b502d50606"
      },
      "execution_count": 17,
      "outputs": [
        {
          "output_type": "execute_result",
          "data": {
            "text/plain": [
              "numpy.ndarray"
            ]
          },
          "metadata": {},
          "execution_count": 17
        }
      ]
    },
    {
      "cell_type": "code",
      "source": [
        "num_arr2 = np.array(num_list2)\n",
        "print(num_arr2)"
      ],
      "metadata": {
        "colab": {
          "base_uri": "https://localhost:8080/"
        },
        "id": "Yyl9rvwuxudp",
        "outputId": "76f492eb-3d3a-4357-d673-ca39e12bc717"
      },
      "execution_count": 18,
      "outputs": [
        {
          "output_type": "stream",
          "name": "stdout",
          "text": [
            "[10 20 30]\n"
          ]
        }
      ]
    },
    {
      "cell_type": "code",
      "source": [
        "# ndarray의 사칙연산\n",
        "print(num_arr1 + num_arr2)\n",
        "print(num_arr1 - num_arr2)\n",
        "print(num_arr1 * num_arr2)\n",
        "print(num_arr1 / num_arr2)"
      ],
      "metadata": {
        "colab": {
          "base_uri": "https://localhost:8080/"
        },
        "id": "yw6mGl-qytSf",
        "outputId": "70e2f618-931a-4a7b-8b79-378f7ff10e91"
      },
      "execution_count": 21,
      "outputs": [
        {
          "output_type": "stream",
          "name": "stdout",
          "text": [
            "[11 22 33]\n",
            "[ -9 -18 -27]\n",
            "[10 40 90]\n",
            "[0.1 0.1 0.1]\n"
          ]
        }
      ]
    },
    {
      "cell_type": "code",
      "source": [
        "print(num_arr1 * 2)"
      ],
      "metadata": {
        "colab": {
          "base_uri": "https://localhost:8080/"
        },
        "id": "HoCxjMFEzEO5",
        "outputId": "869a1cf3-f2a1-4cb5-b892-667887fb1758"
      },
      "execution_count": 20,
      "outputs": [
        {
          "output_type": "stream",
          "name": "stdout",
          "text": [
            "[2 4 6]\n"
          ]
        }
      ]
    },
    {
      "cell_type": "code",
      "source": [
        "# ndarray의 속성들(attributes)\n",
        "print(num_arr1)\n",
        "print('ndim =', num_arr1.ndim)  # 차원(dimension)\n",
        "print('size =', num_arr1.size)  # ndarray의 크기(원소의 개수)\n",
        "print('shape =', num_arr1.shape)    # 각 차원에서의 원소의 개수\n",
        "print('dtype =', num_arr1.dtype)    # 원소의 데이터 타입"
      ],
      "metadata": {
        "colab": {
          "base_uri": "https://localhost:8080/"
        },
        "id": "U2eQvBOCzq1L",
        "outputId": "e7b1e8b6-c870-40ed-be7f-aea409907cab"
      },
      "execution_count": 26,
      "outputs": [
        {
          "output_type": "stream",
          "name": "stdout",
          "text": [
            "[1 2 3]\n",
            "ndim = 1\n",
            "size = 3\n",
            "shape = (3,)\n",
            "dtype = int64\n"
          ]
        }
      ]
    },
    {
      "cell_type": "markdown",
      "source": [
        "* Python 숫자 타입\n",
        "    * 정수: int\n",
        "    * 실수 : float\n",
        "* np의 숫자 타입\n",
        "    * 정수: int8, int16, int32, int64, ...\n",
        "    * 실수 : float16, float32, float64, ..."
      ],
      "metadata": {
        "id": "z8U3G_0W22Ph"
      }
    },
    {
      "cell_type": "markdown",
      "source": [
        "# 2차원 ndarray"
      ],
      "metadata": {
        "id": "PZ9X6waG3LEF"
      }
    },
    {
      "cell_type": "code",
      "source": [
        "arr_2d = np.array([[1,2,3],[4,5,6]])\n",
        "print(arr_2d)"
      ],
      "metadata": {
        "colab": {
          "base_uri": "https://localhost:8080/"
        },
        "id": "bJ3EL_Cx02xq",
        "outputId": "b7561529-8aa0-4724-e593-4ad84fcd23d0"
      },
      "execution_count": 27,
      "outputs": [
        {
          "output_type": "stream",
          "name": "stdout",
          "text": [
            "[[1 2 3]\n",
            " [4 5 6]]\n"
          ]
        }
      ]
    },
    {
      "cell_type": "code",
      "source": [
        "print('ndim =', arr_2d.ndim)  \n",
        "print('size =', arr_2d.size)  \n",
        "print('shape =', arr_2d.shape)\n",
        "print('dtype =', arr_2d.dtype) "
      ],
      "metadata": {
        "colab": {
          "base_uri": "https://localhost:8080/"
        },
        "id": "3YeaeS4f31jZ",
        "outputId": "70d545ab-5419-495f-a1dd-55aea9a1f6c5"
      },
      "execution_count": 28,
      "outputs": [
        {
          "output_type": "stream",
          "name": "stdout",
          "text": [
            "ndim = 2\n",
            "size = 6\n",
            "shape = (2, 3)\n",
            "dtype = int64\n"
          ]
        }
      ]
    },
    {
      "cell_type": "code",
      "source": [
        "arr_2d[1][1]"
      ],
      "metadata": {
        "colab": {
          "base_uri": "https://localhost:8080/"
        },
        "id": "gUQS3m_b3_kA",
        "outputId": "811dbdee-846f-4c56-b8e8-8d09114cf202"
      },
      "execution_count": 29,
      "outputs": [
        {
          "output_type": "execute_result",
          "data": {
            "text/plain": [
              "5"
            ]
          },
          "metadata": {},
          "execution_count": 29
        }
      ]
    },
    {
      "cell_type": "markdown",
      "source": [
        "# np.ndarray 객체 생성 함수"
      ],
      "metadata": {
        "id": "y5xqZFp58blX"
      }
    },
    {
      "cell_type": "markdown",
      "source": [
        "```\n",
        "np.array(object) \n",
        "```\n",
        "* object: 배열과 비슷한 객체들 (리스트, 튜플, dict, ndarray, ...)  "
      ],
      "metadata": {
        "id": "9seAzGF68bgv"
      }
    },
    {
      "cell_type": "code",
      "source": [
        "# 0 이상 10 이하의 짝수들로 이루어진 ndarray\n",
        "evens = np.array([2 * x for x in range(6)])\n",
        "print(evens)"
      ],
      "metadata": {
        "colab": {
          "base_uri": "https://localhost:8080/"
        },
        "id": "Zz9Eqx7e4Cou",
        "outputId": "bfa6d25c-6ded-47a9-c0b8-a1a288b5e577"
      },
      "execution_count": 32,
      "outputs": [
        {
          "output_type": "stream",
          "name": "stdout",
          "text": [
            "[ 0  2  4  6  8 10]\n"
          ]
        }
      ]
    },
    {
      "cell_type": "markdown",
      "source": [
        "```\n",
        "np.arrange(start, end, step)\n",
        "```\n",
        "    * `range(start, end, step)` 함수의 사용 방법과 동일\n",
        "    * 1차원 배열 생성"
      ],
      "metadata": {
        "id": "NouIyKD19ugf"
      }
    },
    {
      "cell_type": "code",
      "source": [
        "evens = np.arange(0,11,2)\n",
        "print(evens)"
      ],
      "metadata": {
        "colab": {
          "base_uri": "https://localhost:8080/"
        },
        "id": "iEZjAXk19DLV",
        "outputId": "d7f0e2e0-5ace-49f8-acf4-f5323c5a9fe3"
      },
      "execution_count": 34,
      "outputs": [
        {
          "output_type": "stream",
          "name": "stdout",
          "text": [
            "[ 0  2  4  6  8 10]\n"
          ]
        }
      ]
    },
    {
      "cell_type": "markdown",
      "source": [
        "```\n",
        "np.reshape(array, shape) 함수\n",
        "np.ndarray.reshape(shape) 메소드\n",
        "```\n",
        "\n"
      ],
      "metadata": {
        "id": "72R-t6PX-RK4"
      }
    },
    {
      "cell_type": "code",
      "source": [
        "arr = np.arange(12) \n",
        "print(arr)  # (12,) shape의 1차원 배열"
      ],
      "metadata": {
        "colab": {
          "base_uri": "https://localhost:8080/"
        },
        "id": "-wYUGoNN-EmX",
        "outputId": "501bd05b-b849-4228-e4b1-9f0ca8836d01"
      },
      "execution_count": 36,
      "outputs": [
        {
          "output_type": "stream",
          "name": "stdout",
          "text": [
            "[ 0  1  2  3  4  5  6  7  8  9 10 11]\n"
          ]
        }
      ]
    },
    {
      "cell_type": "code",
      "source": [
        "# 함수 호출\n",
        "np.reshape(arr, (3,4))"
      ],
      "metadata": {
        "colab": {
          "base_uri": "https://localhost:8080/"
        },
        "id": "SN2Z8mn3_AJO",
        "outputId": "0e7922c4-b22a-41c4-841c-1fd8f007c5b8"
      },
      "execution_count": 38,
      "outputs": [
        {
          "output_type": "execute_result",
          "data": {
            "text/plain": [
              "array([[ 0,  1,  2,  3],\n",
              "       [ 4,  5,  6,  7],\n",
              "       [ 8,  9, 10, 11]])"
            ]
          },
          "metadata": {},
          "execution_count": 38
        }
      ]
    },
    {
      "cell_type": "code",
      "source": [
        "# 메소드 호출\n",
        "arr.reshape((3,4))"
      ],
      "metadata": {
        "colab": {
          "base_uri": "https://localhost:8080/"
        },
        "id": "K-paowREAbwL",
        "outputId": "17680130-c746-48ff-f86c-62988b75a1ff"
      },
      "execution_count": 39,
      "outputs": [
        {
          "output_type": "execute_result",
          "data": {
            "text/plain": [
              "array([[ 0,  1,  2,  3],\n",
              "       [ 4,  5,  6,  7],\n",
              "       [ 8,  9, 10, 11]])"
            ]
          },
          "metadata": {},
          "execution_count": 39
        }
      ]
    },
    {
      "cell_type": "code",
      "source": [
        "# 함수(메소드) 연쇄 호출\n",
        "np.arange(6).reshape((3,2))"
      ],
      "metadata": {
        "colab": {
          "base_uri": "https://localhost:8080/"
        },
        "id": "wqnWJP_CArvV",
        "outputId": "0ac772fb-25cb-4287-d506-535812aff710"
      },
      "execution_count": 40,
      "outputs": [
        {
          "output_type": "execute_result",
          "data": {
            "text/plain": [
              "array([[0, 1],\n",
              "       [2, 3],\n",
              "       [4, 5]])"
            ]
          },
          "metadata": {},
          "execution_count": 40
        }
      ]
    },
    {
      "cell_type": "markdown",
      "source": [
        "```\n",
        "np.random.rand(d0,d1,d2,...)\n",
        "```\n",
        "* `[0,1)` 범위의 균등분포를 따르는 난수들로 만들어진 ndarray를 생성.\n",
        "* `d0, d1, d2, ...`: ndarray에서 각 차원의 원소의 개수"
      ],
      "metadata": {
        "id": "ydxhstimDMDZ"
      }
    },
    {
      "cell_type": "code",
      "source": [
        "np.random.rand(5)   # (5,) shape의 1차원 배열"
      ],
      "metadata": {
        "colab": {
          "base_uri": "https://localhost:8080/"
        },
        "id": "HrffP4FuDJ3o",
        "outputId": "c8eafcaf-93a2-428d-b63d-34e10a2a63e9"
      },
      "execution_count": 42,
      "outputs": [
        {
          "output_type": "execute_result",
          "data": {
            "text/plain": [
              "array([0.949436  , 0.35960329, 0.75014272, 0.29236575, 0.01986455])"
            ]
          },
          "metadata": {},
          "execution_count": 42
        }
      ]
    },
    {
      "cell_type": "code",
      "source": [
        "np.random.rand(3,4) # (3,4) shape의 2차원 배열"
      ],
      "metadata": {
        "colab": {
          "base_uri": "https://localhost:8080/"
        },
        "id": "ehKEWeZPEVj7",
        "outputId": "02799f0e-0bc3-4537-88b9-56e28bd2e1a3"
      },
      "execution_count": 43,
      "outputs": [
        {
          "output_type": "execute_result",
          "data": {
            "text/plain": [
              "array([[0.10330655, 0.78316444, 0.03233005, 0.81096881],\n",
              "       [0.09557449, 0.52152674, 0.27639841, 0.07909115],\n",
              "       [0.61256561, 0.71733466, 0.87441805, 0.22554009]])"
            ]
          },
          "metadata": {},
          "execution_count": 43
        }
      ]
    },
    {
      "cell_type": "markdown",
      "source": [
        "```\n",
        "np.random.randn(d0,d1,d2,...)함수\n",
        "```\n",
        "\n",
        "* 평균이 0이고 표준편차가 1인 표준정규분포(standard normal distribution)를 따르는 난수들의 배열을 생성\n",
        "* `d0, d1,d2,...`: ndarray의 각 차원의 원소이 개수."
      ],
      "metadata": {
        "id": "zm0zRCdQFJEJ"
      }
    },
    {
      "cell_type": "code",
      "source": [
        "np.random.randn(5)"
      ],
      "metadata": {
        "colab": {
          "base_uri": "https://localhost:8080/"
        },
        "id": "-BG7YF6NEzK7",
        "outputId": "7feb2c70-01b8-45f3-d03b-b4329eb4a74a"
      },
      "execution_count": 46,
      "outputs": [
        {
          "output_type": "execute_result",
          "data": {
            "text/plain": [
              "array([-1.79720348, -0.94030805, -0.04486663,  0.94240219,  1.57877838])"
            ]
          },
          "metadata": {},
          "execution_count": 46
        }
      ]
    },
    {
      "cell_type": "code",
      "source": [
        "np.random.randn(3,4)"
      ],
      "metadata": {
        "colab": {
          "base_uri": "https://localhost:8080/"
        },
        "id": "qNCbPiZOF88N",
        "outputId": "c37bd557-8289-40d4-fd1e-4378028b8762"
      },
      "execution_count": 47,
      "outputs": [
        {
          "output_type": "execute_result",
          "data": {
            "text/plain": [
              "array([[-0.08742368,  0.22598393, -0.401414  ,  0.18046055],\n",
              "       [ 0.26445756, -1.10354184,  1.30789075, -0.77684391],\n",
              "       [ 1.08141585,  0.40370116, -1.25959092, -0.39664473]])"
            ]
          },
          "metadata": {},
          "execution_count": 47
        }
      ]
    },
    {
      "cell_type": "markdown",
      "source": [
        "```\n",
        "np.random.randint(low, high, size, dtype) 함수\n",
        "```\n",
        "\n",
        "* `[low, high)` 범위의 균등분포를 따르는 정수 난수들의 배열 생성\n",
        "* `size`: ndarray의 모양(shape). 정수 또는 정수들의 tuple.\n",
        "* `dtype`: int8, int16, int32, int64, ...\n"
      ],
      "metadata": {
        "id": "4Qigw5xrGoIx"
      }
    },
    {
      "cell_type": "code",
      "source": [
        "# 0 이상 10 미만의 정수 난수 5개로 이루어진 리스트\n",
        "np.random.randint(0,10,size=5)"
      ],
      "metadata": {
        "colab": {
          "base_uri": "https://localhost:8080/"
        },
        "id": "lmRL2JnnGB9Z",
        "outputId": "33251976-f432-462d-97e9-4aceecfc51d6"
      },
      "execution_count": 49,
      "outputs": [
        {
          "output_type": "execute_result",
          "data": {
            "text/plain": [
              "array([2, 3, 6, 5, 8])"
            ]
          },
          "metadata": {},
          "execution_count": 49
        }
      ]
    },
    {
      "cell_type": "code",
      "source": [
        "np.random.randint(0,10,size=(3,4))"
      ],
      "metadata": {
        "colab": {
          "base_uri": "https://localhost:8080/"
        },
        "id": "dBOoEC3jHF5V",
        "outputId": "fdd3cfd5-7b4b-4f4f-cf6e-1e79b48c7b74"
      },
      "execution_count": 50,
      "outputs": [
        {
          "output_type": "execute_result",
          "data": {
            "text/plain": [
              "array([[0, 3, 6, 5],\n",
              "       [5, 2, 0, 1],\n",
              "       [6, 4, 5, 6]])"
            ]
          },
          "metadata": {},
          "execution_count": 50
        }
      ]
    },
    {
      "cell_type": "markdown",
      "source": [
        "## np.ndarray 활용 - 그래프"
      ],
      "metadata": {
        "id": "mJpkRwzuLVbC"
      }
    },
    {
      "cell_type": "code",
      "source": [
        "x = np.arange(-3, 4)\n",
        "print(x)"
      ],
      "metadata": {
        "colab": {
          "base_uri": "https://localhost:8080/"
        },
        "id": "z61g6rN2HsLy",
        "outputId": "ad88c4f0-f9b4-4ec9-aaa2-b8a3803c156d"
      },
      "execution_count": 52,
      "outputs": [
        {
          "output_type": "stream",
          "name": "stdout",
          "text": [
            "[-3 -2 -1  0  1  2  3]\n"
          ]
        }
      ]
    },
    {
      "cell_type": "code",
      "source": [
        "y = x ** 2\n",
        "print(y)"
      ],
      "metadata": {
        "colab": {
          "base_uri": "https://localhost:8080/"
        },
        "id": "67-M4bp3LfXG",
        "outputId": "48426c5f-c134-4030-a05f-affd46512087"
      },
      "execution_count": 53,
      "outputs": [
        {
          "output_type": "stream",
          "name": "stdout",
          "text": [
            "[9 4 1 0 1 4 9]\n"
          ]
        }
      ]
    },
    {
      "cell_type": "code",
      "source": [
        "import matplotlib.pyplot as plt"
      ],
      "metadata": {
        "id": "PmHjf3MwMITW"
      },
      "execution_count": 54,
      "outputs": []
    },
    {
      "cell_type": "code",
      "source": [
        "plt.plot(x,y)\n",
        "plt.show()"
      ],
      "metadata": {
        "colab": {
          "base_uri": "https://localhost:8080/",
          "height": 265
        },
        "id": "ZSMb_S9FMLU_",
        "outputId": "6229d9de-caf0-4cc7-9f1b-6ee772ad4276"
      },
      "execution_count": 56,
      "outputs": [
        {
          "output_type": "display_data",
          "data": {
            "text/plain": [
              "<Figure size 432x288 with 1 Axes>"
            ],
            "image/png": "[encoded data removed]"
          },
          "metadata": {
            "needs_background": "light"
          }
        }
      ]
    },
    {
      "cell_type": "code",
      "source": [
        "x = np.arange(-3,3,0.001)\n",
        "y = x ** 2\n",
        "print(x)\n",
        "print(y)"
      ],
      "metadata": {
        "colab": {
          "base_uri": "https://localhost:8080/"
        },
        "id": "z3DzyIYgMMvx",
        "outputId": "98985245-3a67-49a2-cbb5-a424c5b5c94e"
      },
      "execution_count": 57,
      "outputs": [
        {
          "output_type": "stream",
          "name": "stdout",
          "text": [
            "[-3.    -2.999 -2.998 ...  2.997  2.998  2.999]\n",
            "[9.       8.994001 8.988004 ... 8.982009 8.988004 8.994001]\n"
          ]
        }
      ]
    },
    {
      "cell_type": "code",
      "source": [
        "plt.plot(x,y)\n",
        "plt.grid()\n",
        "plt.show()"
      ],
      "metadata": {
        "colab": {
          "base_uri": "https://localhost:8080/",
          "height": 265
        },
        "id": "Rfl4oJrcM08h",
        "outputId": "02bfcd72-b9a3-4a38-97da-bad60f4548b6"
      },
      "execution_count": 58,
      "outputs": [
        {
          "output_type": "display_data",
          "data": {
            "text/plain": [
              "<Figure size 432x288 with 1 Axes>"
            ],
            "image/png": "[encoded data removed]"
          },
          "metadata": {
            "needs_background": "light"
          }
        }
      ]
    },
    {
      "cell_type": "markdown",
      "source": [
        "# Array Index"
      ],
      "metadata": {
        "id": "hC9CxpUhN6LN"
      }
    },
    {
      "cell_type": "code",
      "source": [
        "arr = np.arange(10)\n",
        "print(arr)"
      ],
      "metadata": {
        "colab": {
          "base_uri": "https://localhost:8080/"
        },
        "id": "pW4HIH7mNA-y",
        "outputId": "cb465b03-316c-4736-a322-685b536e658a"
      },
      "execution_count": 59,
      "outputs": [
        {
          "output_type": "stream",
          "name": "stdout",
          "text": [
            "[0 1 2 3 4 5 6 7 8 9]\n"
          ]
        }
      ]
    },
    {
      "cell_type": "code",
      "source": [
        "# indexing: 인덱스를 사용해서 배열의 원소를 참조.\n",
        "print(arr[0])\n",
        "print(arr[-1]) # = arr[9]   # 마지막 인덱스 = 원소 개수 - 1"
      ],
      "metadata": {
        "colab": {
          "base_uri": "https://localhost:8080/"
        },
        "id": "WaRo4zGnOISb",
        "outputId": "802dd2e4-d62b-401f-f6f4-0eb25e73a4b3"
      },
      "execution_count": 62,
      "outputs": [
        {
          "output_type": "stream",
          "name": "stdout",
          "text": [
            "0\n",
            "9\n"
          ]
        }
      ]
    },
    {
      "cell_type": "code",
      "source": [
        "# slicing: [start, end) 범위의 원소들로 이루어진 배열\n",
        "print(arr[0:5])\n",
        "print(arr[:5])  # 앞에서 5개를 선택한 배열\n",
        "print(arr[-5:]) # 뒤에서 5개를 선택한 배열"
      ],
      "metadata": {
        "colab": {
          "base_uri": "https://localhost:8080/"
        },
        "id": "RiRln8EqOUW4",
        "outputId": "cf11a630-ebe6-43f1-9f3e-76baa7a4b1b5"
      },
      "execution_count": 64,
      "outputs": [
        {
          "output_type": "stream",
          "name": "stdout",
          "text": [
            "[0 1 2 3 4]\n",
            "[0 1 2 3 4]\n",
            "[5 6 7 8 9]\n"
          ]
        }
      ]
    },
    {
      "cell_type": "code",
      "source": [
        "print(arr[:1])\n",
        "print(arr[0])"
      ],
      "metadata": {
        "colab": {
          "base_uri": "https://localhost:8080/"
        },
        "id": "8o9QhKOIOrqN",
        "outputId": "398b3c6b-2140-45d7-83c7-ff6ca1f2264b"
      },
      "execution_count": 66,
      "outputs": [
        {
          "output_type": "stream",
          "name": "stdout",
          "text": [
            "[0]\n",
            "0\n"
          ]
        }
      ]
    },
    {
      "cell_type": "markdown",
      "source": [
        "# fancy indexing\n",
        "\n",
        "* 배열과 비슷한 객체(ndarray, list, tuple,...)를 사용해서 indexing 하는 방법.\n",
        "* fancy indexing의 결과는 ndarray"
      ],
      "metadata": {
        "id": "D79rKMo5QMFU"
      }
    },
    {
      "cell_type": "code",
      "source": [
        "np.random.seed(1)   # 난수 생성 순서 고정\n",
        "arr = np.random.randint(100, size=10)   # 0 이상 100 미만의 정수 난수 10개로 이루어진 1차원 배열\n",
        "print(arr)"
      ],
      "metadata": {
        "colab": {
          "base_uri": "https://localhost:8080/"
        },
        "id": "iuUSB4LzPlBg",
        "outputId": "b516c345-1d70-43a9-9809-d1ce7aea7d6a"
      },
      "execution_count": 72,
      "outputs": [
        {
          "output_type": "stream",
          "name": "stdout",
          "text": [
            "[37 12 72  9 75  5 79 64 16  1]\n"
          ]
        }
      ]
    },
    {
      "cell_type": "code",
      "source": [
        "arr[[0,2,4]]"
      ],
      "metadata": {
        "colab": {
          "base_uri": "https://localhost:8080/"
        },
        "id": "9D3KDZZ0QWyr",
        "outputId": "7f5fba64-b672-437e-c5b3-14c94f4b40aa"
      },
      "execution_count": 74,
      "outputs": [
        {
          "output_type": "execute_result",
          "data": {
            "text/plain": [
              "array([37, 72, 75])"
            ]
          },
          "metadata": {},
          "execution_count": 74
        }
      ]
    },
    {
      "cell_type": "code",
      "source": [
        "print(arr[1])   # indexing: 숫자 1개\n",
        "print(arr[[1]]) # fancy indexing: 숫자 1개로 이루어진 배열 "
      ],
      "metadata": {
        "colab": {
          "base_uri": "https://localhost:8080/"
        },
        "id": "W0jr35UaRRk3",
        "outputId": "00d5010c-b955-4622-d018-adb5254d5951"
      },
      "execution_count": 76,
      "outputs": [
        {
          "output_type": "stream",
          "name": "stdout",
          "text": [
            "12\n",
            "[12]\n"
          ]
        }
      ]
    },
    {
      "cell_type": "markdown",
      "source": [
        "## boolean indexing\n",
        "\n",
        "* 논리값들의 배열(리스트, 튜플)을 사용한 fancy indexing.\n",
        "* 배열에서 조건을 만족하는 원소들로 이루어진 부분집합(ndarray)을 생성"
      ],
      "metadata": {
        "id": "iW1YU17oR9CE"
      }
    },
    {
      "cell_type": "code",
      "source": [
        "print(arr)"
      ],
      "metadata": {
        "colab": {
          "base_uri": "https://localhost:8080/"
        },
        "id": "x21xP7NPRYRh",
        "outputId": "e44667b5-e5c6-4fed-fb48-3fea4e97a253"
      },
      "execution_count": 77,
      "outputs": [
        {
          "output_type": "stream",
          "name": "stdout",
          "text": [
            "[37 12 72  9 75  5 79 64 16  1]\n"
          ]
        }
      ]
    },
    {
      "cell_type": "code",
      "source": [
        "indices = [False,True,True,False,False,False,False,True,True,False]\n",
        "arr[indices]"
      ],
      "metadata": {
        "colab": {
          "base_uri": "https://localhost:8080/"
        },
        "id": "BKAP87fBSaY8",
        "outputId": "b24506cd-cc0c-420b-cf25-a2cbbf9e7547"
      },
      "execution_count": 78,
      "outputs": [
        {
          "output_type": "execute_result",
          "data": {
            "text/plain": [
              "array([12, 72, 64, 16])"
            ]
          },
          "metadata": {},
          "execution_count": 78
        }
      ]
    },
    {
      "cell_type": "code",
      "source": [
        "arr[arr % 2 == 0]"
      ],
      "metadata": {
        "colab": {
          "base_uri": "https://localhost:8080/"
        },
        "id": "Uxkrmn-WSnYJ",
        "outputId": "dd1a6dfb-3d28-4f6f-d4e6-c8d82de3e00d"
      },
      "execution_count": 80,
      "outputs": [
        {
          "output_type": "execute_result",
          "data": {
            "text/plain": [
              "array([12, 72, 64, 16])"
            ]
          },
          "metadata": {},
          "execution_count": 80
        }
      ]
    },
    {
      "cell_type": "code",
      "source": [
        "arr[arr % 2 == 1]"
      ],
      "metadata": {
        "colab": {
          "base_uri": "https://localhost:8080/"
        },
        "id": "nXkl5HElTZ_T",
        "outputId": "01d66302-172e-4369-9a6f-36d98127a9f8"
      },
      "execution_count": 81,
      "outputs": [
        {
          "output_type": "execute_result",
          "data": {
            "text/plain": [
              "array([37,  9, 75,  5, 79,  1])"
            ]
          },
          "metadata": {},
          "execution_count": 81
        }
      ]
    },
    {
      "cell_type": "markdown",
      "source": [
        "# NumPy 통계 함수/메소드\n",
        "```\n",
        "np.function_name(array) 함수\n",
        "np.ndarray.method_name() 메소드\n",
        "```\n"
      ],
      "metadata": {
        "id": "LgLvk9GJZDMu"
      }
    },
    {
      "cell_type": "code",
      "source": [
        "print(arr)"
      ],
      "metadata": {
        "colab": {
          "base_uri": "https://localhost:8080/"
        },
        "id": "qsv4mgwcUa8L",
        "outputId": "a00b588d-ddf2-4d03-d031-9f2a0acb57cc"
      },
      "execution_count": 82,
      "outputs": [
        {
          "output_type": "stream",
          "name": "stdout",
          "text": [
            "[37 12 72  9 75  5 79 64 16  1]\n"
          ]
        }
      ]
    },
    {
      "cell_type": "code",
      "source": [
        "# 평균 \n",
        "print(np.mean(arr)) # 함수 호출\n",
        "print(arr.mean())   # 메소드 호출"
      ],
      "metadata": {
        "colab": {
          "base_uri": "https://localhost:8080/"
        },
        "id": "ZemQwAScZb50",
        "outputId": "5aac0541-4220-43bc-fff0-6121b406d89e"
      },
      "execution_count": 84,
      "outputs": [
        {
          "output_type": "stream",
          "name": "stdout",
          "text": [
            "37.0\n",
            "37.0\n"
          ]
        }
      ]
    },
    {
      "cell_type": "code",
      "source": [
        "print('합계:', np.sum(arr),arr.sum())\n",
        "print('평균:', np.mean(arr), arr.mean())\n",
        "print('분산:', np.var(arr), arr.var())\n",
        "print('표준편차:', np.std(arr), arr.std())\n",
        "print('최대값:', np.max(arr), arr.max())\n",
        "print('최소값:', np.min(arr), arr.min())\n",
        "print('중앙값:', np.median(arr))    # ndarray는 중앙값을 리턴하는 메소드를 제공하지 않음.\n",
        "# 중앙값: 배열의 원소들을 정렬했을 때 가운데 있는 값."
      ],
      "metadata": {
        "colab": {
          "base_uri": "https://localhost:8080/"
        },
        "id": "v3i5axs3ZvdX",
        "outputId": "7d7a7df0-7ce6-4dad-eb3a-ccbd2d9de1f8"
      },
      "execution_count": 85,
      "outputs": [
        {
          "output_type": "stream",
          "name": "stdout",
          "text": [
            "합계: 370 370\n",
            "평균: 37.0 37.0\n",
            "분산: 933.2 933.2\n",
            "표준편차: 30.548322376196047 30.548322376196047\n",
            "최대값: 79 79\n",
            "최소값: 1 1\n",
            "중앙값: 26.5\n"
          ]
        }
      ]
    },
    {
      "cell_type": "code",
      "source": [
        "np.sort(arr)"
      ],
      "metadata": {
        "colab": {
          "base_uri": "https://localhost:8080/"
        },
        "id": "PyXVTnUGbZ-P",
        "outputId": "53c57060-50ed-465c-a0fb-39ce63593739"
      },
      "execution_count": 86,
      "outputs": [
        {
          "output_type": "execute_result",
          "data": {
            "text/plain": [
              "array([ 1,  5,  9, 12, 16, 37, 64, 72, 75, 79])"
            ]
          },
          "metadata": {},
          "execution_count": 86
        }
      ]
    },
    {
      "cell_type": "code",
      "source": [
        "(16+37) / 2"
      ],
      "metadata": {
        "colab": {
          "base_uri": "https://localhost:8080/"
        },
        "id": "pYR8WIRmbkjj",
        "outputId": "007a4e07-3543-4586-944e-9931698c4b25"
      },
      "execution_count": 87,
      "outputs": [
        {
          "output_type": "execute_result",
          "data": {
            "text/plain": [
              "26.5"
            ]
          },
          "metadata": {},
          "execution_count": 87
        }
      ]
    },
    {
      "cell_type": "markdown",
      "source": [
        "# 2차원 배열에서의 통계 함수/메소드"
      ],
      "metadata": {
        "id": "906nfoHwcxe-"
      }
    },
    {
      "cell_type": "code",
      "source": [
        "np.random.seed(2)\n",
        "arr = np.random.randint(100, size=(3,4))\n",
        "print(arr)"
      ],
      "metadata": {
        "colab": {
          "base_uri": "https://localhost:8080/"
        },
        "id": "xGPJrPq3cwV0",
        "outputId": "8261358a-de36-45e8-d0f1-a487acdc01b8"
      },
      "execution_count": 89,
      "outputs": [
        {
          "output_type": "stream",
          "name": "stdout",
          "text": [
            "[[40 15 72 22]\n",
            " [43 82 75  7]\n",
            " [34 49 95 75]]\n"
          ]
        }
      ]
    },
    {
      "cell_type": "code",
      "source": [
        "# 2차원 배열의 모든 원소들의 합\n",
        "np.sum(arr) # arr.sum()"
      ],
      "metadata": {
        "colab": {
          "base_uri": "https://localhost:8080/"
        },
        "id": "COqVxPLuc300",
        "outputId": "37fac070-62d2-4290-e98d-dac80736bb14"
      },
      "execution_count": 90,
      "outputs": [
        {
          "output_type": "execute_result",
          "data": {
            "text/plain": [
              "609"
            ]
          },
          "metadata": {},
          "execution_count": 90
        }
      ]
    },
    {
      "cell_type": "code",
      "source": [
        "# row index가 증가하는 방향으로 원소들의 합\n",
        "np.sum(arr, axis=0) # arr.sum(axis=0)"
      ],
      "metadata": {
        "colab": {
          "base_uri": "https://localhost:8080/"
        },
        "id": "H6Utnoy3eNzI",
        "outputId": "832dbbb6-4bff-4cac-bae4-bbe257837b2a"
      },
      "execution_count": 91,
      "outputs": [
        {
          "output_type": "execute_result",
          "data": {
            "text/plain": [
              "array([117, 146, 242, 104])"
            ]
          },
          "metadata": {},
          "execution_count": 91
        }
      ]
    },
    {
      "cell_type": "code",
      "source": [
        "# column index가 증가하는 방향으로 원소들의 합\n",
        "np.sum(arr, axis=1) # arr.sum(axis=1)"
      ],
      "metadata": {
        "colab": {
          "base_uri": "https://localhost:8080/"
        },
        "id": "Wufnf4gKecte",
        "outputId": "4877ea74-22c6-4550-a5b7-c1c39884f0b2"
      },
      "execution_count": 92,
      "outputs": [
        {
          "output_type": "execute_result",
          "data": {
            "text/plain": [
              "array([149, 207, 253])"
            ]
          },
          "metadata": {},
          "execution_count": 92
        }
      ]
    },
    {
      "cell_type": "code",
      "source": [
        "np.sum(arr, axis=1, keepdims=True)  # arr.sum(axis=1, keepdims=True)"
      ],
      "metadata": {
        "colab": {
          "base_uri": "https://localhost:8080/"
        },
        "id": "dYIEX1TTfPaR",
        "outputId": "a7ccca32-abab-4f31-dc80-0f3271706ca6"
      },
      "execution_count": 93,
      "outputs": [
        {
          "output_type": "execute_result",
          "data": {
            "text/plain": [
              "array([[149],\n",
              "       [207],\n",
              "       [253]])"
            ]
          },
          "metadata": {},
          "execution_count": 93
        }
      ]
    },
    {
      "cell_type": "code",
      "source": [
        "# 전체 원소의 평균\n",
        "np.mean(arr)"
      ],
      "metadata": {
        "colab": {
          "base_uri": "https://localhost:8080/"
        },
        "id": "5y8jOysCfUgr",
        "outputId": "ff806c6e-e1a0-4ebb-c415-f719d8e72a42"
      },
      "execution_count": 94,
      "outputs": [
        {
          "output_type": "execute_result",
          "data": {
            "text/plain": [
              "50.75"
            ]
          },
          "metadata": {},
          "execution_count": 94
        }
      ]
    },
    {
      "cell_type": "code",
      "source": [
        "# row index가 증가하는 방향으로 원소들의 평균\n",
        "np.mean(arr, axis=0, keepdims=True)"
      ],
      "metadata": {
        "colab": {
          "base_uri": "https://localhost:8080/"
        },
        "id": "bzgJST_gf-r3",
        "outputId": "cdc65b42-ba3d-49c2-f18e-38665b0e27aa"
      },
      "execution_count": 95,
      "outputs": [
        {
          "output_type": "execute_result",
          "data": {
            "text/plain": [
              "array([[39.        , 48.66666667, 80.66666667, 34.66666667]])"
            ]
          },
          "metadata": {},
          "execution_count": 95
        }
      ]
    },
    {
      "cell_type": "code",
      "source": [
        "# column index가 증가하는 방향으로 원소들의 평균\n",
        "np.mean(arr, axis=1, keepdims=True)"
      ],
      "metadata": {
        "colab": {
          "base_uri": "https://localhost:8080/"
        },
        "id": "4Y0H_d6jgGRG",
        "outputId": "36ae7047-345e-4319-b833-c5fdff6dc51a"
      },
      "execution_count": 96,
      "outputs": [
        {
          "output_type": "execute_result",
          "data": {
            "text/plain": [
              "array([[37.25],\n",
              "       [51.75],\n",
              "       [63.25]])"
            ]
          },
          "metadata": {},
          "execution_count": 96
        }
      ]
    },
    {
      "cell_type": "markdown",
      "source": [
        "# Ex.\n",
        "\n",
        "* 0 이상 100 미만의 정수 난수 10개로 이루어진 1차원 배열을 생성, 출력\n",
        "* 배열에서 평균값보다 큰 값들로 이루어진 배열을 만들고 출력 (boolean indexing)"
      ],
      "metadata": {
        "id": "BNSIxhJPhBgg"
      }
    },
    {
      "cell_type": "code",
      "source": [
        "list = np.random.randint(100, size=10)\n",
        "print(list)"
      ],
      "metadata": {
        "colab": {
          "base_uri": "https://localhost:8080/"
        },
        "id": "rmbtuFnyhAPY",
        "outputId": "e73220eb-e046-4f9a-b063-0ecd4e90a7a1"
      },
      "execution_count": 98,
      "outputs": [
        {
          "output_type": "stream",
          "name": "stdout",
          "text": [
            "[85 47 63 31 90 20 37 39 67  4]\n"
          ]
        }
      ]
    },
    {
      "cell_type": "code",
      "source": [
        "np.mean(arr)"
      ],
      "metadata": {
        "colab": {
          "base_uri": "https://localhost:8080/"
        },
        "id": "Mvt3A1mjhmdo",
        "outputId": "206eee08-eaf4-41b5-f85a-bda9f636f318"
      },
      "execution_count": 103,
      "outputs": [
        {
          "output_type": "execute_result",
          "data": {
            "text/plain": [
              "50.75"
            ]
          },
          "metadata": {},
          "execution_count": 103
        }
      ]
    },
    {
      "cell_type": "code",
      "source": [
        "arr[arr>np.mean(arr)]"
      ],
      "metadata": {
        "colab": {
          "base_uri": "https://localhost:8080/"
        },
        "id": "N_vNq750h5kU",
        "outputId": "64a0d7af-adad-4fce-f810-cab27fcc57e5"
      },
      "execution_count": 104,
      "outputs": [
        {
          "output_type": "execute_result",
          "data": {
            "text/plain": [
              "array([72, 82, 75, 95, 75])"
            ]
          },
          "metadata": {},
          "execution_count": 104
        }
      ]
    },
    {
      "cell_type": "code",
      "source": [
        ""
      ],
      "metadata": {
        "id": "UnQjVqo9lCmw"
      },
      "execution_count": null,
      "outputs": []
    }
  ]
}