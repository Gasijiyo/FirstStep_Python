{
  "nbformat": 4,
  "nbformat_minor": 0,
  "metadata": {
    "colab": {
      "name": "py06_list.ipynb",
      "provenance": [],
      "collapsed_sections": [],
      "authorship_tag": "ABX9TyMDAvk4wX2SI5E/DyPoVba/",
      "include_colab_link": true
    },
    "kernelspec": {
      "name": "python3",
      "display_name": "Python 3"
    },
    "language_info": {
      "name": "python"
    }
  },
  "cells": [
    {
      "cell_type": "markdown",
      "metadata": {
        "id": "view-in-github",
        "colab_type": "text"
      },
      "source": [
        "<a href=\"https://colab.research.google.com/github/Gasijiyo/FirstStep_Python/blob/master/py06_list.ipynb\" target=\"_parent\"><img src=\"https://colab.research.google.com/assets/colab-badge.svg\" alt=\"Open In Colab\"/></a>"
      ]
    },
    {
      "cell_type": "markdown",
      "source": [
        "# List(리스트)"
      ],
      "metadata": {
        "id": "F3d6fWJykha4"
      }
    },
    {
      "cell_type": "markdown",
      "source": [
        "list: 여러개의 값들을 하나의 변수에 저장하기 위한 데이터 타입.\n",
        "\n",
        "* element(원소, 요소): 리스트에 저장되는 각각의 값.\n",
        "* index(인덱스): 리스트에 원소들이 저장된 위치(번호).\n",
        "    * 리스트의 인덱스는 **0** 부터 시작.\n",
        "    * 리스트에서 마지막 원소의 인덱스는  **(원소의 개수 - 1)**\n",
        "* 리스트는 원소들을 추가/삭제/변경할 수 있음.\n",
        "    * tuple과 다른 점!"
      ],
      "metadata": {
        "id": "tZj3B78ekmH_"
      }
    },
    {
      "cell_type": "code",
      "source": [
        "# 숫자들을 저장하는 리스트\n",
        "numbers = [1, 20, 3, 40, 7]\n",
        "print(numbers)"
      ],
      "metadata": {
        "colab": {
          "base_uri": "https://localhost:8080/"
        },
        "id": "bEF68eNskhTn",
        "outputId": "eed17457-fd6e-49e7-e576-17b588911050"
      },
      "execution_count": null,
      "outputs": [
        {
          "output_type": "stream",
          "name": "stdout",
          "text": [
            "[1, 20, 3, 40, 7]\n"
          ]
        }
      ]
    },
    {
      "cell_type": "code",
      "source": [
        "numbers"
      ],
      "metadata": {
        "id": "tTt_hSgIlENF"
      },
      "execution_count": null,
      "outputs": []
    },
    {
      "cell_type": "markdown",
      "source": [
        "ipynb의 코드 셀에서 가장 마지막 줄의 문장이 식(expression)이면 식을 평가한 결과를 자동으로 출력해줌"
      ],
      "metadata": {
        "id": "LnpsOhj-mCgO"
      }
    },
    {
      "cell_type": "code",
      "source": [
        "type(numbers)"
      ],
      "metadata": {
        "colab": {
          "base_uri": "https://localhost:8080/"
        },
        "id": "kAHWwkUzmD3m",
        "outputId": "f705928e-e391-4ae9-9311-bb742336a93d"
      },
      "execution_count": null,
      "outputs": [
        {
          "output_type": "execute_result",
          "data": {
            "text/plain": [
              "list"
            ]
          },
          "metadata": {},
          "execution_count": 2
        }
      ]
    },
    {
      "cell_type": "markdown",
      "source": [
        "# Indexing\n",
        "\n",
        "인덱스를 사용해서 리스트의 원소를 사용하는 방법."
      ],
      "metadata": {
        "id": "qrARu3UNmJkl"
      }
    },
    {
      "cell_type": "code",
      "source": [
        "numbers[0]  # list의 첫번째 원소"
      ],
      "metadata": {
        "colab": {
          "base_uri": "https://localhost:8080/"
        },
        "id": "K6JCCc1rmH8X",
        "outputId": "73d1d820-b2f8-418d-b73a-98a1bbe506cd"
      },
      "execution_count": null,
      "outputs": [
        {
          "output_type": "execute_result",
          "data": {
            "text/plain": [
              "1"
            ]
          },
          "metadata": {},
          "execution_count": 5
        }
      ]
    },
    {
      "cell_type": "code",
      "source": [
        "numbers[4]  # list의 마지막 원소"
      ],
      "metadata": {
        "colab": {
          "base_uri": "https://localhost:8080/"
        },
        "id": "JKv4aALimVUi",
        "outputId": "03a17ad6-9693-4f18-c01a-af0d53ae98a4"
      },
      "execution_count": null,
      "outputs": [
        {
          "output_type": "execute_result",
          "data": {
            "text/plain": [
              "7"
            ]
          },
          "metadata": {},
          "execution_count": 9
        }
      ]
    },
    {
      "cell_type": "code",
      "source": [
        "numbers[-2] # list에서 끝에서 두번째 원소 "
      ],
      "metadata": {
        "colab": {
          "base_uri": "https://localhost:8080/"
        },
        "id": "B24vMww6mZDt",
        "outputId": "55192de4-b6ad-40c5-a970-4bccc261c5bd"
      },
      "execution_count": null,
      "outputs": [
        {
          "output_type": "execute_result",
          "data": {
            "text/plain": [
              "40"
            ]
          },
          "metadata": {},
          "execution_count": 7
        }
      ]
    },
    {
      "cell_type": "code",
      "source": [
        "numbers[5]  # IndexError"
      ],
      "metadata": {
        "id": "hZJHXfi0mbb_"
      },
      "execution_count": null,
      "outputs": []
    },
    {
      "cell_type": "markdown",
      "source": [
        "Slicing"
      ],
      "metadata": {
        "id": "ikPMM8C6ncXV"
      }
    },
    {
      "cell_type": "code",
      "source": [
        "numbers[1:4]"
      ],
      "metadata": {
        "colab": {
          "base_uri": "https://localhost:8080/"
        },
        "id": "QI6lNlatoFTH",
        "outputId": "db2e99ed-0d7d-45a2-ef83-e8328e11a694"
      },
      "execution_count": null,
      "outputs": [
        {
          "output_type": "execute_result",
          "data": {
            "text/plain": [
              "[20, 3, 40]"
            ]
          },
          "metadata": {},
          "execution_count": 10
        }
      ]
    },
    {
      "cell_type": "markdown",
      "source": [
        "```\n",
        "list[start:end]\n",
        "```\n",
        "\n",
        "* start <= index < end 범위의 인덱스 위치의 원소들을 선택\n",
        "* start가 생략되면 리스트의 첫번째 원소부터 선택 (0 <= index < end 범위의 모든 원소 선택)\n",
        "* end가 생략되면 리스트의 마지막 원소까지 선택 (start <= index 범위의 모든 원소들을 선택)\n",
        "* slicing의 결과는 새로운 list"
      ],
      "metadata": {
        "id": "3-pox_-uoI-s"
      }
    },
    {
      "cell_type": "code",
      "source": [
        "numbers[:3]"
      ],
      "metadata": {
        "colab": {
          "base_uri": "https://localhost:8080/"
        },
        "id": "H-RWlmwWoHG-",
        "outputId": "6a313efa-7062-4eb0-fd6c-9ad79354037a"
      },
      "execution_count": null,
      "outputs": [
        {
          "output_type": "execute_result",
          "data": {
            "text/plain": [
              "[1, 20, 3]"
            ]
          },
          "metadata": {},
          "execution_count": 11
        }
      ]
    },
    {
      "cell_type": "code",
      "source": [
        "numbers[2:]"
      ],
      "metadata": {
        "colab": {
          "base_uri": "https://localhost:8080/"
        },
        "id": "ZoPjLg9mop5q",
        "outputId": "7c1aa891-5ae9-4d43-d041-3a68cfa7fbd4"
      },
      "execution_count": null,
      "outputs": [
        {
          "output_type": "execute_result",
          "data": {
            "text/plain": [
              "[3, 40, 7]"
            ]
          },
          "metadata": {},
          "execution_count": 12
        }
      ]
    },
    {
      "cell_type": "code",
      "source": [
        "numbers[-3:]"
      ],
      "metadata": {
        "colab": {
          "base_uri": "https://localhost:8080/"
        },
        "id": "5U6sb-HPor74",
        "outputId": "ca5fc636-9c30-4adc-b8cd-1d4b2dbae673"
      },
      "execution_count": null,
      "outputs": [
        {
          "output_type": "execute_result",
          "data": {
            "text/plain": [
              "[3, 40, 7]"
            ]
          },
          "metadata": {},
          "execution_count": 14
        }
      ]
    },
    {
      "cell_type": "code",
      "source": [
        "numbers[0]  # > indexing 의 결과: 값(int)"
      ],
      "metadata": {
        "colab": {
          "base_uri": "https://localhost:8080/"
        },
        "id": "VnQKQIG6o0ie",
        "outputId": "146722fd-6526-4d91-bc91-97debdf901a8"
      },
      "execution_count": null,
      "outputs": [
        {
          "output_type": "execute_result",
          "data": {
            "text/plain": [
              "1"
            ]
          },
          "metadata": {},
          "execution_count": 15
        }
      ]
    },
    {
      "cell_type": "code",
      "source": [
        "numbers[0:1]    # > slicing의 결과: 원소가 1개인 list"
      ],
      "metadata": {
        "colab": {
          "base_uri": "https://localhost:8080/"
        },
        "id": "2Rqu2s5WpbO-",
        "outputId": "53bc9fd9-1d92-4d20-8219-294556d12a47"
      },
      "execution_count": null,
      "outputs": [
        {
          "output_type": "execute_result",
          "data": {
            "text/plain": [
              "[1]"
            ]
          },
          "metadata": {},
          "execution_count": 16
        }
      ]
    },
    {
      "cell_type": "markdown",
      "source": [
        "# 문자열 (str)\n",
        "\n",
        "문자들의 리스트\n",
        "* 문자열 객체도 리스트 객체처럼 indexing과 slicing을 사용할 수 있다."
      ],
      "metadata": {
        "id": "Faf4sSYlppI0"
      }
    },
    {
      "cell_type": "code",
      "source": [
        "message = 'Hello, Python!'  # 14개의 문자들을 원소로 갖는 문자열"
      ],
      "metadata": {
        "id": "bqUm0qaqpo0C"
      },
      "execution_count": null,
      "outputs": []
    },
    {
      "cell_type": "code",
      "source": [
        "message[0]  # 문자열에서 첫번째 문자"
      ],
      "metadata": {
        "colab": {
          "base_uri": "https://localhost:8080/",
          "height": 35
        },
        "id": "qoUuFQYIpe2C",
        "outputId": "e0665807-bd67-4ef8-8d71-1ec698491e93"
      },
      "execution_count": null,
      "outputs": [
        {
          "output_type": "execute_result",
          "data": {
            "application/vnd.google.colaboratory.intrinsic+json": {
              "type": "string"
            },
            "text/plain": [
              "'H'"
            ]
          },
          "metadata": {},
          "execution_count": 18
        }
      ]
    },
    {
      "cell_type": "code",
      "source": [
        "message[13] # 문자열에서 가장 마지막 문자"
      ],
      "metadata": {
        "colab": {
          "base_uri": "https://localhost:8080/",
          "height": 35
        },
        "id": "wpimqFGup8f1",
        "outputId": "9c7f143d-3191-45b8-881c-5afc2cf2d156"
      },
      "execution_count": null,
      "outputs": [
        {
          "output_type": "execute_result",
          "data": {
            "application/vnd.google.colaboratory.intrinsic+json": {
              "type": "string"
            },
            "text/plain": [
              "'!'"
            ]
          },
          "metadata": {},
          "execution_count": 19
        }
      ]
    },
    {
      "cell_type": "code",
      "source": [
        "message[-1]"
      ],
      "metadata": {
        "colab": {
          "base_uri": "https://localhost:8080/",
          "height": 35
        },
        "id": "D5XM2yRZqBmx",
        "outputId": "e348c90a-82d1-47b6-b0e5-7b985482bfd3"
      },
      "execution_count": null,
      "outputs": [
        {
          "output_type": "execute_result",
          "data": {
            "application/vnd.google.colaboratory.intrinsic+json": {
              "type": "string"
            },
            "text/plain": [
              "'!'"
            ]
          },
          "metadata": {},
          "execution_count": 20
        }
      ]
    },
    {
      "cell_type": "code",
      "source": [
        "message[:3] # 문자열에서 첫 세 글자"
      ],
      "metadata": {
        "colab": {
          "base_uri": "https://localhost:8080/",
          "height": 35
        },
        "id": "dYXt_FkSqMIb",
        "outputId": "0e39551d-f5ab-43d5-9366-0692c96b1f5b"
      },
      "execution_count": null,
      "outputs": [
        {
          "output_type": "execute_result",
          "data": {
            "application/vnd.google.colaboratory.intrinsic+json": {
              "type": "string"
            },
            "text/plain": [
              "'Hel'"
            ]
          },
          "metadata": {},
          "execution_count": 21
        }
      ]
    },
    {
      "cell_type": "code",
      "source": [
        "message[-3:]    # 문자열에서 마지막 세 글자"
      ],
      "metadata": {
        "colab": {
          "base_uri": "https://localhost:8080/",
          "height": 35
        },
        "id": "rfVgGsBlqNcT",
        "outputId": "f67d6af6-f25f-4e49-b62d-7bf3f288f8a0"
      },
      "execution_count": null,
      "outputs": [
        {
          "output_type": "execute_result",
          "data": {
            "application/vnd.google.colaboratory.intrinsic+json": {
              "type": "string"
            },
            "text/plain": [
              "'on!'"
            ]
          },
          "metadata": {},
          "execution_count": 22
        }
      ]
    },
    {
      "cell_type": "markdown",
      "source": [
        "# list의 산술 연산\n",
        "\n",
        "* `+`: concatenate: 두개의 리스트를 하나의 리스트로 합침.\n",
        "* `*`: replicate 리스트의 원소들을 곱해주는 숫자만큼 복사해서 원소의 개수를 늘림"
      ],
      "metadata": {
        "id": "Azte8HgrqWvi"
      }
    },
    {
      "cell_type": "code",
      "source": [
        "'Hello' + 'Python'"
      ],
      "metadata": {
        "colab": {
          "base_uri": "https://localhost:8080/",
          "height": 35
        },
        "id": "fw9_8gdxqTCq",
        "outputId": "b1628f6e-0747-48d6-bf98-e9f50db2527e"
      },
      "execution_count": null,
      "outputs": [
        {
          "output_type": "execute_result",
          "data": {
            "application/vnd.google.colaboratory.intrinsic+json": {
              "type": "string"
            },
            "text/plain": [
              "'HelloPython'"
            ]
          },
          "metadata": {},
          "execution_count": 23
        }
      ]
    },
    {
      "cell_type": "code",
      "source": [
        "[1,2,3] + [10,20,30]"
      ],
      "metadata": {
        "colab": {
          "base_uri": "https://localhost:8080/"
        },
        "id": "w1JRUfGnqlk1",
        "outputId": "1a309ffa-dd50-4079-b3a2-a7183b4c8dc5"
      },
      "execution_count": null,
      "outputs": [
        {
          "output_type": "execute_result",
          "data": {
            "text/plain": [
              "[1, 2, 3, 10, 20, 30]"
            ]
          },
          "metadata": {},
          "execution_count": 24
        }
      ]
    },
    {
      "cell_type": "markdown",
      "source": [
        "# list의 기능들(메소드)"
      ],
      "metadata": {
        "id": "feF5uSrkqrbC"
      }
    },
    {
      "cell_type": "markdown",
      "source": [
        "## element 추가"
      ],
      "metadata": {
        "id": "A6itd8JSqu5h"
      }
    },
    {
      "cell_type": "code",
      "source": [
        "numbers"
      ],
      "metadata": {
        "colab": {
          "base_uri": "https://localhost:8080/"
        },
        "id": "xyhXRJcFqn_L",
        "outputId": "048626a2-30ad-464b-d2ed-4ea283d69c66"
      },
      "execution_count": null,
      "outputs": [
        {
          "output_type": "execute_result",
          "data": {
            "text/plain": [
              "[1, 20, 3, 40, 7]"
            ]
          },
          "metadata": {},
          "execution_count": 25
        }
      ]
    },
    {
      "cell_type": "markdown",
      "source": [
        "`list.append(arg)`\n",
        "\n",
        "리스트의 가장 마지막에 새로운 원소(arg)를 추가\n",
        "\n"
      ],
      "metadata": {
        "id": "whjRxZ53q1Hp"
      }
    },
    {
      "cell_type": "code",
      "source": [
        "numbers.append(100)\n",
        "numbers"
      ],
      "metadata": {
        "colab": {
          "base_uri": "https://localhost:8080/"
        },
        "id": "2MC6LA_ZqyVg",
        "outputId": "01273902-8732-418e-eb5d-6104fac70c2d"
      },
      "execution_count": null,
      "outputs": [
        {
          "output_type": "execute_result",
          "data": {
            "text/plain": [
              "[1, 20, 3, 40, 7, 100]"
            ]
          },
          "metadata": {},
          "execution_count": 26
        }
      ]
    },
    {
      "cell_type": "markdown",
      "source": [
        "`list.insert(index, value)`: list의 index 위치에 value를 추가"
      ],
      "metadata": {
        "id": "ngUp71pFrDNZ"
      }
    },
    {
      "cell_type": "code",
      "source": [
        "numbers.insert(1, 100)\n",
        "numbers"
      ],
      "metadata": {
        "colab": {
          "base_uri": "https://localhost:8080/"
        },
        "id": "ELJ8BwBArBpa",
        "outputId": "6c92be8f-db42-4cba-cf4f-6ded8d3330b7"
      },
      "execution_count": null,
      "outputs": [
        {
          "output_type": "execute_result",
          "data": {
            "text/plain": [
              "[1, 100, 20, 3, 40, 7, 100]"
            ]
          },
          "metadata": {},
          "execution_count": 27
        }
      ]
    },
    {
      "cell_type": "markdown",
      "source": [
        "`list.extend(iterable)`\n",
        "\n",
        "리스트 이어 붙이기 (concatenate)"
      ],
      "metadata": {
        "id": "5Se2Jh-Ar17x"
      }
    },
    {
      "cell_type": "code",
      "source": [
        "numbers.extend([2,4,6]) # numbers + [2,4,6]\n",
        "numbers"
      ],
      "metadata": {
        "colab": {
          "base_uri": "https://localhost:8080/"
        },
        "id": "vH-J3wM1rj_f",
        "outputId": "2dd90545-d2eb-4630-aa6e-9ce0a6b8e135"
      },
      "execution_count": null,
      "outputs": [
        {
          "output_type": "execute_result",
          "data": {
            "text/plain": [
              "[1, 100, 20, 3, 40, 7, 100, 2, 4, 6]"
            ]
          },
          "metadata": {},
          "execution_count": 28
        }
      ]
    },
    {
      "cell_type": "code",
      "source": [
        "# 주의 !!!\n",
        "numbers.append([1,3,5]) # 리스트의 가장 마지막에 다른 리스트가 원소로 추가 됨\n",
        "numbers"
      ],
      "metadata": {
        "colab": {
          "base_uri": "https://localhost:8080/"
        },
        "id": "l0OA7zBxsU19",
        "outputId": "f375ddfc-6169-4eb9-dc4d-f2120f5f8240"
      },
      "execution_count": null,
      "outputs": [
        {
          "output_type": "execute_result",
          "data": {
            "text/plain": [
              "[20, 3, 40, 7, 100, 2, 4, [1, 3, 5]]"
            ]
          },
          "metadata": {},
          "execution_count": 34
        }
      ]
    },
    {
      "cell_type": "markdown",
      "source": [
        "# element 삭제"
      ],
      "metadata": {
        "id": "2cfYJorStS3Z"
      }
    },
    {
      "cell_type": "markdown",
      "source": [
        "`list.remove(value)`\n",
        "\n",
        "list에서 처음 등장하는 value 한 개를 삭제."
      ],
      "metadata": {
        "id": "0HN_6rZBtWWA"
      }
    },
    {
      "cell_type": "code",
      "source": [
        "numbers.remove(100)\n",
        "numbers"
      ],
      "metadata": {
        "colab": {
          "base_uri": "https://localhost:8080/"
        },
        "id": "zmEysLuDsrsw",
        "outputId": "03a6033a-ec4b-4498-830d-f45ad0bade1c"
      },
      "execution_count": null,
      "outputs": [
        {
          "output_type": "execute_result",
          "data": {
            "text/plain": [
              "[1, 20, 3, 40, 7, 100, 2, 4, 6, [1, 3, 5]]"
            ]
          },
          "metadata": {},
          "execution_count": 30
        }
      ]
    },
    {
      "cell_type": "markdown",
      "source": [
        "`list.pop(index)`\n",
        "\n",
        "list에서 index 위치에 있는 값을 삭제. index를 전달하지 않으면 list에서 가장 마지막 원소를 삭제."
      ],
      "metadata": {
        "id": "VIcOQr5Mt9z4"
      }
    },
    {
      "cell_type": "code",
      "source": [
        "numbers.pop(0)\n",
        "numbers"
      ],
      "metadata": {
        "colab": {
          "base_uri": "https://localhost:8080/"
        },
        "id": "ilJbi97It6g2",
        "outputId": "bf1ea490-6d34-478a-a140-04a8656dbc95"
      },
      "execution_count": null,
      "outputs": [
        {
          "output_type": "execute_result",
          "data": {
            "text/plain": [
              "[20, 3, 40, 7, 100, 2, 4, 6, [1, 3, 5]]"
            ]
          },
          "metadata": {},
          "execution_count": 31
        }
      ]
    },
    {
      "cell_type": "code",
      "source": [
        "numbers.pop()"
      ],
      "metadata": {
        "colab": {
          "base_uri": "https://localhost:8080/"
        },
        "id": "uWi7VI4ZutWK",
        "outputId": "1a67c562-5986-48cc-847d-19b4eaabe244"
      },
      "execution_count": null,
      "outputs": [
        {
          "output_type": "execute_result",
          "data": {
            "text/plain": [
              "[1, 3, 5]"
            ]
          },
          "metadata": {},
          "execution_count": 35
        }
      ]
    },
    {
      "cell_type": "code",
      "source": [
        "numbers"
      ],
      "metadata": {
        "colab": {
          "base_uri": "https://localhost:8080/"
        },
        "id": "Vp1GnxCguvV2",
        "outputId": "2d3f56b2-fe61-4ba3-8767-b7cbed6fd791"
      },
      "execution_count": null,
      "outputs": [
        {
          "output_type": "execute_result",
          "data": {
            "text/plain": [
              "[20, 3, 40, 7, 100, 2, 4]"
            ]
          },
          "metadata": {},
          "execution_count": 36
        }
      ]
    },
    {
      "cell_type": "markdown",
      "source": [
        "`list.clear()`\n",
        "\n",
        "list의 모든 원소들을 삭제"
      ],
      "metadata": {
        "id": "MiujYE7Cu7Jp"
      }
    },
    {
      "cell_type": "code",
      "source": [
        "numbers.clear()"
      ],
      "metadata": {
        "id": "M65Yr4QPu4kf"
      },
      "execution_count": null,
      "outputs": []
    },
    {
      "cell_type": "code",
      "source": [
        "numbers # > empty list (빈 리스트)"
      ],
      "metadata": {
        "colab": {
          "base_uri": "https://localhost:8080/"
        },
        "id": "IMAkU-m7vPvj",
        "outputId": "7c6b384b-59ed-4c98-d1a6-9144218fa82a"
      },
      "execution_count": null,
      "outputs": [
        {
          "output_type": "execute_result",
          "data": {
            "text/plain": [
              "[]"
            ]
          },
          "metadata": {},
          "execution_count": 38
        }
      ]
    },
    {
      "cell_type": "markdown",
      "source": [
        "## list의 값 수정\n",
        "\n",
        "```\n",
        "list[index] = value \n",
        "```"
      ],
      "metadata": {
        "id": "wMzF6nzGvV_w"
      }
    },
    {
      "cell_type": "code",
      "source": [
        "numbers = [1,3,5,7]\n",
        "numbers"
      ],
      "metadata": {
        "colab": {
          "base_uri": "https://localhost:8080/"
        },
        "id": "lcRlPO-HvQ2l",
        "outputId": "bbac5514-13ed-4ce1-c1c9-040380c6d301"
      },
      "execution_count": null,
      "outputs": [
        {
          "output_type": "execute_result",
          "data": {
            "text/plain": [
              "[1, 3, 5, 7]"
            ]
          },
          "metadata": {},
          "execution_count": 39
        }
      ]
    },
    {
      "cell_type": "code",
      "source": [
        "# 인덱스 1 위치의 값(3)을 100으로 변경\n",
        "numbers[1] = 100"
      ],
      "metadata": {
        "id": "amfhX8HjvmXo"
      },
      "execution_count": null,
      "outputs": []
    },
    {
      "cell_type": "code",
      "source": [
        "numbers"
      ],
      "metadata": {
        "colab": {
          "base_uri": "https://localhost:8080/"
        },
        "id": "VMHXdaYAvucK",
        "outputId": "272e61d9-ce8b-4c7e-b862-a9fb68041148"
      },
      "execution_count": null,
      "outputs": [
        {
          "output_type": "execute_result",
          "data": {
            "text/plain": [
              "[1, 100, 5, 7]"
            ]
          },
          "metadata": {},
          "execution_count": 41
        }
      ]
    },
    {
      "cell_type": "markdown",
      "source": [
        "# list와 for 반복문"
      ],
      "metadata": {
        "id": "3nxFo7V6wLg7"
      }
    },
    {
      "cell_type": "code",
      "source": [
        "for x in 'hello':\n",
        "    print(x)"
      ],
      "metadata": {
        "colab": {
          "base_uri": "https://localhost:8080/"
        },
        "id": "mFDWZqb7vvAo",
        "outputId": "a78e4935-a12d-4cac-be74-6c870e41af8f"
      },
      "execution_count": null,
      "outputs": [
        {
          "output_type": "stream",
          "name": "stdout",
          "text": [
            "h\n",
            "e\n",
            "l\n",
            "l\n",
            "o\n"
          ]
        }
      ]
    },
    {
      "cell_type": "code",
      "source": [
        "for x in numbers:\n",
        "    print(x)"
      ],
      "metadata": {
        "colab": {
          "base_uri": "https://localhost:8080/"
        },
        "id": "GN7_0U8QwQEK",
        "outputId": "7f963c97-6436-4d0e-a5fb-876836859e15"
      },
      "execution_count": null,
      "outputs": [
        {
          "output_type": "stream",
          "name": "stdout",
          "text": [
            "1\n",
            "100\n",
            "5\n",
            "7\n"
          ]
        }
      ]
    },
    {
      "cell_type": "markdown",
      "source": [
        "리스트에서 인덱스와 그 인덱스의 원소가 모두 필요한 경우"
      ],
      "metadata": {
        "id": "wrTebRupwvEA"
      }
    },
    {
      "cell_type": "code",
      "source": [
        "len(numbers)    # 리스트 numbers의 원소의 개수를 리턴."
      ],
      "metadata": {
        "colab": {
          "base_uri": "https://localhost:8080/"
        },
        "id": "ldZf5196wsci",
        "outputId": "109dc41e-9a43-48e8-f196-5667f11a5c0b"
      },
      "execution_count": null,
      "outputs": [
        {
          "output_type": "execute_result",
          "data": {
            "text/plain": [
              "4"
            ]
          },
          "metadata": {},
          "execution_count": 44
        }
      ]
    },
    {
      "cell_type": "code",
      "source": [
        "for i in range(len(numbers)):\n",
        "    print(i, ':', numbers[i])"
      ],
      "metadata": {
        "colab": {
          "base_uri": "https://localhost:8080/"
        },
        "id": "ua3wgUwfxJMH",
        "outputId": "c91eeea3-85e7-4bf7-e29f-cc10fe185d7a"
      },
      "execution_count": null,
      "outputs": [
        {
          "output_type": "stream",
          "name": "stdout",
          "text": [
            "0 : 1\n",
            "1 : 100\n",
            "2 : 5\n",
            "3 : 7\n"
          ]
        }
      ]
    },
    {
      "cell_type": "code",
      "source": [
        "# list에서 리스트의 인덱스와 그 인덱스 위치의 값을 동시에 반복(iteration)\n",
        "for index, value in enumerate(numbers):\n",
        "    print(index, ':', value)"
      ],
      "metadata": {
        "colab": {
          "base_uri": "https://localhost:8080/"
        },
        "id": "ZWSoXgFkxY6c",
        "outputId": "f45dc49f-15b3-4601-b415-e309072a15bf"
      },
      "execution_count": null,
      "outputs": [
        {
          "output_type": "stream",
          "name": "stdout",
          "text": [
            "0 : 1\n",
            "1 : 100\n",
            "2 : 5\n",
            "3 : 7\n"
          ]
        }
      ]
    },
    {
      "cell_type": "markdown",
      "source": [
        "# Exercises"
      ],
      "metadata": {
        "id": "LhYyxWDmzNiW"
      }
    },
    {
      "cell_type": "markdown",
      "source": [
        "Python에서 난수생성: random 모듈을 import하고 random 모듈에 있는 함수들을 사용"
      ],
      "metadata": {
        "id": "2_xIJEBFzP7J"
      }
    },
    {
      "cell_type": "code",
      "source": [
        "import random   # random 모듈 import(사용)"
      ],
      "metadata": {
        "id": "sS9K2RDLydXb"
      },
      "execution_count": 6,
      "outputs": []
    },
    {
      "cell_type": "code",
      "source": [
        "random.random() # 0 <= x < 1 범위의 실수(float)"
      ],
      "metadata": {
        "colab": {
          "base_uri": "https://localhost:8080/"
        },
        "id": "Z6mbUecHzdr_",
        "outputId": "12a89d53-1ceb-44b0-8ecb-e8163f374602"
      },
      "execution_count": null,
      "outputs": [
        {
          "output_type": "execute_result",
          "data": {
            "text/plain": [
              "0.18481747057266862"
            ]
          },
          "metadata": {},
          "execution_count": 49
        }
      ]
    },
    {
      "cell_type": "code",
      "source": [
        "random.randrange(1,5)   # 1 <= x < 5 범위의 정수(int) 난수를 리턴"
      ],
      "metadata": {
        "colab": {
          "base_uri": "https://localhost:8080/"
        },
        "id": "DqqE-Hz_ziAI",
        "outputId": "4ea63f78-0e9a-4f3b-c802-d389f28acd2c"
      },
      "execution_count": null,
      "outputs": [
        {
          "output_type": "execute_result",
          "data": {
            "text/plain": [
              "3"
            ]
          },
          "metadata": {},
          "execution_count": 50
        }
      ]
    },
    {
      "cell_type": "code",
      "source": [
        "random.randrange(5) # 0 <= x < 5 범위의 정수 난수를 리턴"
      ],
      "metadata": {
        "colab": {
          "base_uri": "https://localhost:8080/"
        },
        "id": "jQYgYXZ-z0nn",
        "outputId": "6a4c452e-d0d5-405f-e1af-26d192d063f7"
      },
      "execution_count": null,
      "outputs": [
        {
          "output_type": "execute_result",
          "data": {
            "text/plain": [
              "2"
            ]
          },
          "metadata": {},
          "execution_count": 51
        }
      ]
    },
    {
      "cell_type": "code",
      "source": [
        "random.randint(1,5) # 1 <= x <= 5 범위의 정수 난수를 리턴"
      ],
      "metadata": {
        "colab": {
          "base_uri": "https://localhost:8080/"
        },
        "id": "qFEz731_0WIy",
        "outputId": "9194e445-eb4b-46e0-9ecd-17a2b53e4fa0"
      },
      "execution_count": null,
      "outputs": [
        {
          "output_type": "execute_result",
          "data": {
            "text/plain": [
              "4"
            ]
          },
          "metadata": {},
          "execution_count": 52
        }
      ]
    },
    {
      "cell_type": "markdown",
      "source": [
        "# Ex 1\n",
        "    1. 빈 리스트를 생성\n",
        "    2. 1 이상 10 이하의 정수 난수 5개를 저장\n",
        "    3. 리스트에 저장된 모든 정수들의 합을 계산, 출력\n",
        "    4. 리스트에 저장된 모든 정수들의 평균을 계산, 출력"
      ],
      "metadata": {
        "id": "p3h74xsjz-Ed"
      }
    },
    {
      "cell_type": "code",
      "source": [
        "numbers = []\n",
        "numbers"
      ],
      "metadata": {
        "id": "DBvX5yXr2NhC",
        "colab": {
          "base_uri": "https://localhost:8080/"
        },
        "outputId": "96de839d-3ae4-4f59-def4-de7bdc1733b2"
      },
      "execution_count": 12,
      "outputs": [
        {
          "output_type": "execute_result",
          "data": {
            "text/plain": [
              "[]"
            ]
          },
          "metadata": {},
          "execution_count": 12
        }
      ]
    },
    {
      "cell_type": "code",
      "source": [
        "for _ in range(5):\n",
        "    numbers.append(random.randrange(1,11))\n",
        "    print(numbers)"
      ],
      "metadata": {
        "colab": {
          "base_uri": "https://localhost:8080/"
        },
        "id": "PIZMF-NXJApz",
        "outputId": "e1c7c83d-6744-4221-d7fc-323d18ddfd9d"
      },
      "execution_count": 13,
      "outputs": [
        {
          "output_type": "stream",
          "name": "stdout",
          "text": [
            "[4]\n",
            "[4, 7]\n",
            "[4, 7, 3]\n",
            "[4, 7, 3, 5]\n",
            "[4, 7, 3, 5, 8]\n"
          ]
        }
      ]
    },
    {
      "cell_type": "code",
      "source": [
        "sum(numbers)    # sum(iterable): iterable 타입 객체의 모든 원소들의 합을 리턴"
      ],
      "metadata": {
        "id": "i7y05-_Q5rOp",
        "colab": {
          "base_uri": "https://localhost:8080/"
        },
        "outputId": "c51685b5-902f-4e0f-ad38-dd2be15ea93e"
      },
      "execution_count": 15,
      "outputs": [
        {
          "output_type": "execute_result",
          "data": {
            "text/plain": [
              "27"
            ]
          },
          "metadata": {},
          "execution_count": 15
        }
      ]
    },
    {
      "cell_type": "code",
      "source": [
        "total = 0\n",
        "for x in numbers:\n",
        "    total += x\n",
        "total"
      ],
      "metadata": {
        "id": "mDLWh8ju5rn5",
        "colab": {
          "base_uri": "https://localhost:8080/"
        },
        "outputId": "f8f8ff82-4ac8-4232-9ffc-32100bbc841d"
      },
      "execution_count": 14,
      "outputs": [
        {
          "output_type": "execute_result",
          "data": {
            "text/plain": [
              "27"
            ]
          },
          "metadata": {},
          "execution_count": 14
        }
      ]
    },
    {
      "cell_type": "code",
      "source": [
        "total / len(numbers)"
      ],
      "metadata": {
        "colab": {
          "base_uri": "https://localhost:8080/"
        },
        "id": "6HZ9vuuWKIDk",
        "outputId": "01dd67b0-4a5f-4e3e-a1ba-6738f9099e8e"
      },
      "execution_count": 16,
      "outputs": [
        {
          "output_type": "execute_result",
          "data": {
            "text/plain": [
              "5.4"
            ]
          },
          "metadata": {},
          "execution_count": 16
        }
      ]
    },
    {
      "cell_type": "code",
      "source": [
        ""
      ],
      "metadata": {
        "id": "VVNPenY5KH3E"
      },
      "execution_count": null,
      "outputs": []
    },
    {
      "cell_type": "markdown",
      "source": [
        "# Ex 2\n",
        "* 1. 빈 리스트(numbers) 생성.\n",
        "* 2. `[10, 100)` 범위의 난수 10개를 빈 리스트 numbers에 저장.\n",
        "* 3. numbers에서 짝수들만 선택해서 evens 리스트에 저장.\n",
        "* 4. numnbers에서 홀수들만 선택해서 odds 리스트에 저장."
      ],
      "metadata": {
        "id": "75FjuBur5r35"
      }
    },
    {
      "cell_type": "code",
      "source": [
        "numbers = []\n",
        "numbers"
      ],
      "metadata": {
        "id": "RNUaC_JQ548K",
        "colab": {
          "base_uri": "https://localhost:8080/"
        },
        "outputId": "cd5530ba-bc7f-4e2a-cfef-c16028b373c0"
      },
      "execution_count": 17,
      "outputs": [
        {
          "output_type": "execute_result",
          "data": {
            "text/plain": [
              "[]"
            ]
          },
          "metadata": {},
          "execution_count": 17
        }
      ]
    },
    {
      "cell_type": "code",
      "source": [
        "for _ in range(10):\n",
        "    numbers.append(random.randrange(10,100))\n",
        "    print(numbers)"
      ],
      "metadata": {
        "id": "8CO1E2n154wa",
        "colab": {
          "base_uri": "https://localhost:8080/"
        },
        "outputId": "a4f51917-fe12-493f-f51c-4344841ecf3d"
      },
      "execution_count": 18,
      "outputs": [
        {
          "output_type": "stream",
          "name": "stdout",
          "text": [
            "[46]\n",
            "[46, 55]\n",
            "[46, 55, 89]\n",
            "[46, 55, 89, 93]\n",
            "[46, 55, 89, 93, 44]\n",
            "[46, 55, 89, 93, 44, 50]\n",
            "[46, 55, 89, 93, 44, 50, 83]\n",
            "[46, 55, 89, 93, 44, 50, 83, 68]\n",
            "[46, 55, 89, 93, 44, 50, 83, 68, 93]\n",
            "[46, 55, 89, 93, 44, 50, 83, 68, 93, 96]\n"
          ]
        }
      ]
    },
    {
      "cell_type": "code",
      "source": [
        "evens = []\n",
        "for x in numbers:\n",
        "    if x % 2 == 0:\n",
        "        evens.append(x)\n",
        "evens"
      ],
      "metadata": {
        "colab": {
          "base_uri": "https://localhost:8080/"
        },
        "id": "Cq6KGbtOK_7N",
        "outputId": "b489c220-d637-4f0d-e630-ef08dc65f9e7"
      },
      "execution_count": 22,
      "outputs": [
        {
          "output_type": "execute_result",
          "data": {
            "text/plain": [
              "[46, 44, 50, 68, 96]"
            ]
          },
          "metadata": {},
          "execution_count": 22
        }
      ]
    },
    {
      "cell_type": "code",
      "source": [
        "odds = []\n",
        "for x in numbers:\n",
        "    if x % 2 == 1:\n",
        "        odds.append(x)\n",
        "odds"
      ],
      "metadata": {
        "colab": {
          "base_uri": "https://localhost:8080/"
        },
        "id": "_jB9BHewK_0S",
        "outputId": "f0c16ccb-0a05-4756-a6ca-6f07913b3962"
      },
      "execution_count": 23,
      "outputs": [
        {
          "output_type": "execute_result",
          "data": {
            "text/plain": [
              "[55, 89, 93, 83, 93]"
            ]
          },
          "metadata": {},
          "execution_count": 23
        }
      ]
    },
    {
      "cell_type": "code",
      "source": [
        ""
      ],
      "metadata": {
        "id": "31pb5T7hK_oT"
      },
      "execution_count": null,
      "outputs": []
    },
    {
      "cell_type": "markdown",
      "source": [
        "## Ex 3.\n",
        "\n",
        "1. 빈 리스트(numbers)를 생성.\n",
        "1. `[-10, 10]` 범위의 난수 10개를 numbers에 저장.\n",
        "1. numbers의 원소가 양수이면 True, 그렇지 않으면 False를 저장하는 리스트 is_positives를 만들고 출력."
      ],
      "metadata": {
        "id": "KKEAyLQG5_gu"
      }
    },
    {
      "cell_type": "code",
      "source": [
        "numbers = []\n",
        "for _ in range(10):\n",
        "    numbers.append(random.randrange(-10,11))\n",
        "numbers"
      ],
      "metadata": {
        "id": "4p3QPiVx6Bbb",
        "colab": {
          "base_uri": "https://localhost:8080/"
        },
        "outputId": "d349eedf-5a52-40a2-dbaf-3c75769d9fe0"
      },
      "execution_count": 24,
      "outputs": [
        {
          "output_type": "execute_result",
          "data": {
            "text/plain": [
              "[3, -10, -2, 2, -5, 8, 8, -5, -1, 9]"
            ]
          },
          "metadata": {},
          "execution_count": 24
        }
      ]
    },
    {
      "cell_type": "code",
      "source": [
        "is_positives = []\n",
        "for x in numbers:\n",
        "    if x > 0 :\n",
        "        is_positives.append(True)\n",
        "    elif x < 0 :\n",
        "        is_positives.append(False)\n",
        "is_positives"
      ],
      "metadata": {
        "id": "dLa577cZ6BSr",
        "colab": {
          "base_uri": "https://localhost:8080/"
        },
        "outputId": "8b584954-a631-4c8d-d9e8-462bf9d6f3cb"
      },
      "execution_count": 26,
      "outputs": [
        {
          "output_type": "execute_result",
          "data": {
            "text/plain": [
              "[True, False, False, True, False, True, True, False, False, True]"
            ]
          },
          "metadata": {},
          "execution_count": 26
        }
      ]
    },
    {
      "cell_type": "markdown",
      "source": [
        "## Ex 4.\n",
        "\n",
        "1. 빈 리스트 gender_codes를 생성.\n",
        "1. gender_codes에 0 또는 1을 랜덤하게 10번 저장.\n",
        "1. gender_codes의 값이 0이면 'Male', 1이면 'Female'을 저장하는 리스트 genders를 만들고 출력."
      ],
      "metadata": {
        "id": "dkmxQDj36VNc"
      }
    },
    {
      "cell_type": "code",
      "source": [
        "gender_codes = []\n",
        "genders = []\n",
        "for _ in range(10):\n",
        "    gender_codes.append(random.randrange(0,2))\n",
        "gender_codes"
      ],
      "metadata": {
        "id": "CqFRUCqN6YOM",
        "colab": {
          "base_uri": "https://localhost:8080/"
        },
        "outputId": "9996c490-6934-4401-8a5e-3d12b88f1aae"
      },
      "execution_count": 32,
      "outputs": [
        {
          "output_type": "execute_result",
          "data": {
            "text/plain": [
              "[1, 1, 1, 1, 0, 0, 0, 0, 0, 0]"
            ]
          },
          "metadata": {},
          "execution_count": 32
        }
      ]
    },
    {
      "cell_type": "code",
      "source": [
        "for x in gender_codes:\n",
        "    if x == 0:\n",
        "        genders.append('Male')\n",
        "    if x == 1:\n",
        "        genders.append('Female')\n",
        "print(genders)"
      ],
      "metadata": {
        "id": "s5STrIlC6YDk",
        "colab": {
          "base_uri": "https://localhost:8080/"
        },
        "outputId": "fac182e2-d635-4be4-9d98-2012e9bcaf30"
      },
      "execution_count": 34,
      "outputs": [
        {
          "output_type": "stream",
          "name": "stdout",
          "text": [
            "['Female', 'Female', 'Female', 'Female', 'Male', 'Male', 'Male', 'Male', 'Male', 'Male', 'Female', 'Female', 'Female', 'Female', 'Male', 'Male', 'Male', 'Male', 'Male', 'Male']\n"
          ]
        }
      ]
    },
    {
      "cell_type": "markdown",
      "source": [
        "# List Comprehension 연습"
      ],
      "metadata": {
        "id": "a06sha-z2CdA"
      }
    },
    {
      "cell_type": "markdown",
      "source": [
        "# Ex 1.\n",
        "* 1. 0 또는 1을 랜덤하게 10개를 저장하는 리스트 gender_codes를 만들고 출력\n",
        "* 2. gender_codes의 값이 0이면 'Male', 1이면 'Female'을 저장하는 리스트 genders를 만들고 출력"
      ],
      "metadata": {
        "id": "uEya0UlL2MGI"
      }
    },
    {
      "cell_type": "code",
      "source": [
        "gender_codes = [random.randrange(0,2) for _ in range(10)]\n",
        "gender_codes"
      ],
      "metadata": {
        "colab": {
          "base_uri": "https://localhost:8080/"
        },
        "id": "RXgj2SxD2fzm",
        "outputId": "61126d93-c37f-4fb2-c21b-1a0331e99cf1"
      },
      "execution_count": null,
      "outputs": [
        {
          "output_type": "execute_result",
          "data": {
            "text/plain": [
              "[1, 0, 0, 0, 0, 1, 0, 0, 1, 1]"
            ]
          },
          "metadata": {},
          "execution_count": 3
        }
      ]
    },
    {
      "cell_type": "markdown",
      "source": [
        "# Ex 2.\n",
        "* 0, 1, 2를 랜덤하게 10개 저장하는 리스트 gender_codes를 만들고 출력.\n",
        "* gender_codes의 값이 0이면 'Male', 1이면 'Female', 2이면 'Unknown'을 저장하는 리스트 genders를 만들고 출력."
      ],
      "metadata": {
        "id": "OIoLsQDO2lcC"
      }
    },
    {
      "cell_type": "code",
      "source": [
        "gender_codes = [random.randrange(0,3) for _ in range(10)]\n",
        "gender_codes"
      ],
      "metadata": {
        "colab": {
          "base_uri": "https://localhost:8080/"
        },
        "id": "lTMLPq8w2td-",
        "outputId": "4b1c58c9-467e-48e0-fb4e-7d0e452737d9"
      },
      "execution_count": null,
      "outputs": [
        {
          "output_type": "execute_result",
          "data": {
            "text/plain": [
              "[0, 2, 1, 0, 1, 2, 1, 1, 2, 0]"
            ]
          },
          "metadata": {},
          "execution_count": 5
        }
      ]
    },
    {
      "cell_type": "code",
      "source": [
        "genders = ['Male' if x == 0 else ('Female' if x == 1 else 'Unknown')\n",
        "            for x in gender_codes]\n",
        "genders"
      ],
      "metadata": {
        "colab": {
          "base_uri": "https://localhost:8080/"
        },
        "id": "zdBSf1YR3FB7",
        "outputId": "e03570da-5429-4a00-debb-957806c7ed2e"
      },
      "execution_count": null,
      "outputs": [
        {
          "output_type": "execute_result",
          "data": {
            "text/plain": [
              "['Male',\n",
              " 'Unknown',\n",
              " 'Female',\n",
              " 'Male',\n",
              " 'Female',\n",
              " 'Unknown',\n",
              " 'Female',\n",
              " 'Female',\n",
              " 'Unknown',\n",
              " 'Male']"
            ]
          },
          "metadata": {},
          "execution_count": 6
        }
      ]
    },
    {
      "cell_type": "markdown",
      "source": [
        "# Ex 3.\n",
        "* 1. 0 이상 10 미만의 정수 난수 10개를 저장하는 리스트 numbers1을 만들고 출력.\n",
        "* 2. 0 이상 10 미만의 정수 난수 10개를 저장하는 리스트 numbers2을 만들고 출력.\n",
        "* 3. numbers1과 numbers2에서 같은 인덱스의 원소들끼리의 합을 저장하는 리스트 adds를 만들고 출력.\n",
        "* 4. numbers1과 numbers2에서 같은 인덱스의 원소들끼리의 곱을 저장하는 리스트 mutiplicatoins를 만들고 출력.\n",
        "* 5. mutiplications의 모든 원소들의 합을 계산하고 출력."
      ],
      "metadata": {
        "id": "AVGwQv9J2uOE"
      }
    },
    {
      "cell_type": "code",
      "source": [
        "numbers1 = [random.randrange(0, 10) for _ in range(10)]\n",
        "numbers1"
      ],
      "metadata": {
        "colab": {
          "base_uri": "https://localhost:8080/"
        },
        "id": "YnKGgHsZ26aL",
        "outputId": "03a2c335-d778-4414-e8c7-05073cca5f94"
      },
      "execution_count": null,
      "outputs": [
        {
          "output_type": "execute_result",
          "data": {
            "text/plain": [
              "[3, 9, 4, 8, 0, 0, 5, 8, 8, 2]"
            ]
          },
          "metadata": {},
          "execution_count": 7
        }
      ]
    },
    {
      "cell_type": "code",
      "source": [
        "numbers2 = [random.randrange(0,10) for _ in range(10)]\n",
        "numbers2"
      ],
      "metadata": {
        "colab": {
          "base_uri": "https://localhost:8080/"
        },
        "id": "o4wrwwq54iS7",
        "outputId": "ec1412fc-712c-4c07-c2d0-3da1e81bad81"
      },
      "execution_count": null,
      "outputs": [
        {
          "output_type": "execute_result",
          "data": {
            "text/plain": [
              "[0, 8, 8, 6, 3, 4, 6, 3, 8, 5]"
            ]
          },
          "metadata": {},
          "execution_count": 8
        }
      ]
    },
    {
      "cell_type": "code",
      "source": [
        "adds = [numbers1[i] + numbers2[i] for i in range(10)]\n",
        "adds"
      ],
      "metadata": {
        "colab": {
          "base_uri": "https://localhost:8080/"
        },
        "id": "HGU9EUn34ubR",
        "outputId": "c4785a4c-6ae7-46e0-9df3-849def6e8b4a"
      },
      "execution_count": null,
      "outputs": [
        {
          "output_type": "execute_result",
          "data": {
            "text/plain": [
              "[3, 17, 12, 14, 3, 4, 11, 11, 16, 7]"
            ]
          },
          "metadata": {},
          "execution_count": 9
        }
      ]
    },
    {
      "cell_type": "code",
      "source": [
        "adds = [x + y for x, y in zip(numbers1, numbers2)]\n",
        "adds"
      ],
      "metadata": {
        "colab": {
          "base_uri": "https://localhost:8080/"
        },
        "id": "wOxOIHEM5Ybw",
        "outputId": "4c638a21-6bf0-46d7-b48e-cfb56d431b39"
      },
      "execution_count": null,
      "outputs": [
        {
          "output_type": "execute_result",
          "data": {
            "text/plain": [
              "[3, 17, 12, 14, 3, 4, 11, 11, 16, 7]"
            ]
          },
          "metadata": {},
          "execution_count": 10
        }
      ]
    },
    {
      "cell_type": "code",
      "source": [
        "multiplications = [x * y for x, y in zip(numbers1, numbers2)]\n",
        "multiplications"
      ],
      "metadata": {
        "colab": {
          "base_uri": "https://localhost:8080/"
        },
        "id": "ev7gXtLx64Hu",
        "outputId": "d98c05e3-67ab-488d-a440-ec4a54ed0fa2"
      },
      "execution_count": null,
      "outputs": [
        {
          "output_type": "execute_result",
          "data": {
            "text/plain": [
              "[0, 72, 32, 48, 0, 0, 30, 24, 64, 10]"
            ]
          },
          "metadata": {},
          "execution_count": 12
        }
      ]
    },
    {
      "cell_type": "code",
      "source": [
        "sum(multiplications)"
      ],
      "metadata": {
        "colab": {
          "base_uri": "https://localhost:8080/"
        },
        "id": "hky7Mw5l7PVF",
        "outputId": "61f12532-ad85-4373-aaed-f9f741b98e10"
      },
      "execution_count": null,
      "outputs": [
        {
          "output_type": "execute_result",
          "data": {
            "text/plain": [
              "280"
            ]
          },
          "metadata": {},
          "execution_count": 13
        }
      ]
    },
    {
      "cell_type": "code",
      "source": [
        "total = 0\n",
        "for x in multiplications:\n",
        "    total += x\n",
        "total"
      ],
      "metadata": {
        "colab": {
          "base_uri": "https://localhost:8080/"
        },
        "id": "UB96t0Fv7qeN",
        "outputId": "399ade9b-5b77-4cee-92a3-86faa810494d"
      },
      "execution_count": null,
      "outputs": [
        {
          "output_type": "execute_result",
          "data": {
            "text/plain": [
              "280"
            ]
          },
          "metadata": {},
          "execution_count": 14
        }
      ]
    },
    {
      "cell_type": "markdown",
      "source": [
        "# 다차원 리스트 "
      ],
      "metadata": {
        "id": "SMXiTQD_8PEo"
      }
    },
    {
      "cell_type": "code",
      "source": [
        "matrix = [ [1,2,3], [4,5,6], [7,8,9] ]\n",
        "matrix"
      ],
      "metadata": {
        "colab": {
          "base_uri": "https://localhost:8080/"
        },
        "id": "0-Cr2of_8bY7",
        "outputId": "7a571c43-2be9-478e-8515-155ab95be238"
      },
      "execution_count": null,
      "outputs": [
        {
          "output_type": "execute_result",
          "data": {
            "text/plain": [
              "[[1, 2, 3], [4, 5, 6], [7, 8, 9]]"
            ]
          },
          "metadata": {},
          "execution_count": 15
        }
      ]
    },
    {
      "cell_type": "markdown",
      "source": [
        "## 2차원 리스트의 indexing"
      ],
      "metadata": {
        "id": "VqE5L1AU8vTu"
      }
    },
    {
      "cell_type": "code",
      "source": [
        "matrix[0]"
      ],
      "metadata": {
        "colab": {
          "base_uri": "https://localhost:8080/"
        },
        "id": "156scBi_702B",
        "outputId": "ea77a14a-8ab0-41a6-e161-9cb0b90c739d"
      },
      "execution_count": null,
      "outputs": [
        {
          "output_type": "execute_result",
          "data": {
            "text/plain": [
              "[1, 2, 3]"
            ]
          },
          "metadata": {},
          "execution_count": 16
        }
      ]
    },
    {
      "cell_type": "code",
      "source": [
        "matrix[0][0]"
      ],
      "metadata": {
        "colab": {
          "base_uri": "https://localhost:8080/"
        },
        "id": "0L3xyhpO82QW",
        "outputId": "b098f35b-94d8-4b9a-aef3-95f79c70df29"
      },
      "execution_count": null,
      "outputs": [
        {
          "output_type": "execute_result",
          "data": {
            "text/plain": [
              "1"
            ]
          },
          "metadata": {},
          "execution_count": 17
        }
      ]
    },
    {
      "cell_type": "code",
      "source": [
        "matrix[1][2]"
      ],
      "metadata": {
        "colab": {
          "base_uri": "https://localhost:8080/"
        },
        "id": "gOujGSVo9Pur",
        "outputId": "38c885e1-61d0-4138-acb6-84b3b21c2a94"
      },
      "execution_count": null,
      "outputs": [
        {
          "output_type": "execute_result",
          "data": {
            "text/plain": [
              "6"
            ]
          },
          "metadata": {},
          "execution_count": 18
        }
      ]
    },
    {
      "cell_type": "markdown",
      "source": [
        "# 2차원 리스트와 for 반복문"
      ],
      "metadata": {
        "id": "EscAlpho9tOJ"
      }
    },
    {
      "cell_type": "code",
      "source": [
        "for x in matrix:\n",
        "    print(x)\n"
      ],
      "metadata": {
        "colab": {
          "base_uri": "https://localhost:8080/"
        },
        "id": "VnArJM0a9wnh",
        "outputId": "120053d5-4fa9-4d48-b507-80fe84afc79c"
      },
      "execution_count": null,
      "outputs": [
        {
          "output_type": "stream",
          "name": "stdout",
          "text": [
            "[1, 2, 3]\n",
            "[4, 5, 6]\n",
            "[7, 8, 9]\n"
          ]
        }
      ]
    },
    {
      "cell_type": "code",
      "source": [
        "for row in matrix:\n",
        "    for x in row:\n",
        "        print(x)"
      ],
      "metadata": {
        "colab": {
          "base_uri": "https://localhost:8080/"
        },
        "id": "yqI-o22F9jRI",
        "outputId": "e8a9ce70-e4ca-4669-d2d9-99ab23e3e021"
      },
      "execution_count": null,
      "outputs": [
        {
          "output_type": "stream",
          "name": "stdout",
          "text": [
            "1\n",
            "2\n",
            "3\n",
            "4\n",
            "5\n",
            "6\n",
            "7\n",
            "8\n",
            "9\n"
          ]
        }
      ]
    },
    {
      "cell_type": "code",
      "source": [
        "for row in matrix:\n",
        "    for x in row:\n",
        "        print(x, end=' ')\n",
        "    print() # 줄바꿈"
      ],
      "metadata": {
        "colab": {
          "base_uri": "https://localhost:8080/"
        },
        "id": "OgEqQ2gm-WXu",
        "outputId": "3c629764-1992-499f-a9de-63ba107fdfad"
      },
      "execution_count": null,
      "outputs": [
        {
          "output_type": "stream",
          "name": "stdout",
          "text": [
            "1 2 3 \n",
            "4 5 6 \n",
            "7 8 9 \n"
          ]
        }
      ]
    },
    {
      "cell_type": "markdown",
      "source": [
        "## 2차원 리스트와 list comprehension"
      ],
      "metadata": {
        "id": "QT8HJDUkDT3n"
      }
    },
    {
      "cell_type": "code",
      "source": [
        "# 3x3 모양의 정수 난수 9개를 저장하는 2차원 리스트를 생성.\n",
        "matrix1 = []    # 빈 리스트 - 1차원 리스트들을 저장하기 위한 리스트.\n",
        "for _ in range(3):\n",
        "    row = []    # 빈 리스트 - 3개의 난수를 저장하기 위한 리스트.\n",
        "    for _ in range(3):\n",
        "        row.append(random.randrange(10))\n",
        "    matrix1.append(row)\n",
        "matrix1"
      ],
      "metadata": {
        "colab": {
          "base_uri": "https://localhost:8080/"
        },
        "id": "VVNF3DIr_E5p",
        "outputId": "0ff6474d-9aaa-4dc6-d28e-ced9c2597048"
      },
      "execution_count": null,
      "outputs": [
        {
          "output_type": "execute_result",
          "data": {
            "text/plain": [
              "[[9, 9, 0], [8, 9, 8], [0, 5, 3]]"
            ]
          },
          "metadata": {},
          "execution_count": 25
        }
      ]
    },
    {
      "cell_type": "code",
      "source": [
        "matrix2 = []\n",
        "for _ in range(3):\n",
        "    row = [random.randrange(10) for _ in range(3)]\n",
        "    matrix2.append(row)\n",
        "matrix2"
      ],
      "metadata": {
        "colab": {
          "base_uri": "https://localhost:8080/"
        },
        "id": "HPyc24e6Etzj",
        "outputId": "75999862-f383-4af5-f434-2af5c9343a8f"
      },
      "execution_count": null,
      "outputs": [
        {
          "output_type": "execute_result",
          "data": {
            "text/plain": [
              "[[9, 3, 9], [9, 5, 8], [2, 4, 0]]"
            ]
          },
          "metadata": {},
          "execution_count": 26
        }
      ]
    },
    {
      "cell_type": "code",
      "source": [
        "matrix3 = [ [random.randrange(10) for _ in range(3)] for _ in range(3) ]\n",
        "matrix3"
      ],
      "metadata": {
        "colab": {
          "base_uri": "https://localhost:8080/"
        },
        "id": "hCQEMmAtF5yk",
        "outputId": "f10c82c0-0d3d-4f88-879b-efb19cb241b3"
      },
      "execution_count": null,
      "outputs": [
        {
          "output_type": "execute_result",
          "data": {
            "text/plain": [
              "[[5, 2, 4], [3, 3, 3], [6, 8, 0]]"
            ]
          },
          "metadata": {},
          "execution_count": 27
        }
      ]
    },
    {
      "cell_type": "code",
      "source": [
        "# matrix1, matrix2 의 각 원소들의 합으로 \n",
        "adds = []   # 각 원소들끼리의 합을 저장할 리스트\n",
        "for row1, row2 in zip(matrix1, matrix2):\n",
        "    temp = []\n",
        "    for x, y in zip(row1, row2):\n",
        "        temp.append(x + y)\n",
        "    adds.append(temp)\n",
        "adds"
      ],
      "metadata": {
        "colab": {
          "base_uri": "https://localhost:8080/"
        },
        "id": "zKYHDZiAGghm",
        "outputId": "5dd6cfdb-3a2b-4b7a-abab-0ae3f9bc8568"
      },
      "execution_count": null,
      "outputs": [
        {
          "output_type": "execute_result",
          "data": {
            "text/plain": [
              "[[18, 12, 9], [17, 14, 16], [2, 9, 3]]"
            ]
          },
          "metadata": {},
          "execution_count": 34
        }
      ]
    },
    {
      "cell_type": "code",
      "source": [
        "adds = []\n",
        "for row1, row2, in zip(matrix1, matrix2):\n",
        "    temp = [x + y for x, y in zip (row1, row2)]\n",
        "    adds. append(temp)\n",
        "adds"
      ],
      "metadata": {
        "colab": {
          "base_uri": "https://localhost:8080/"
        },
        "id": "_RyTi-bBL4Ac",
        "outputId": "e6c26dfc-b588-4dac-dac6-07cacfc3784c"
      },
      "execution_count": null,
      "outputs": [
        {
          "output_type": "execute_result",
          "data": {
            "text/plain": [
              "[[18, 12, 9], [17, 14, 16], [2, 9, 3]]"
            ]
          },
          "metadata": {},
          "execution_count": 35
        }
      ]
    },
    {
      "cell_type": "code",
      "source": [
        "adds = [ [x+y for x, y in zip(row1, row2)] \n",
        "        for row1, row2, in zip(matrix1, matrix2) ]\n",
        "adds"
      ],
      "metadata": {
        "colab": {
          "base_uri": "https://localhost:8080/"
        },
        "id": "pvVInr3iIXND",
        "outputId": "1360ccd7-feab-48a9-a4e9-d38e14f0b75f"
      },
      "execution_count": null,
      "outputs": [
        {
          "output_type": "execute_result",
          "data": {
            "text/plain": [
              "[[18, 12, 9], [17, 14, 16], [2, 9, 3]]"
            ]
          },
          "metadata": {},
          "execution_count": 36
        }
      ]
    },
    {
      "cell_type": "code",
      "source": [
        ""
      ],
      "metadata": {
        "id": "9iLZ_a7vMIhL"
      },
      "execution_count": null,
      "outputs": []
    }
  ]
}